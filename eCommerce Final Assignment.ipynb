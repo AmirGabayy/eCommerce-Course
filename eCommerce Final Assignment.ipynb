{
  "nbformat": 4,
  "nbformat_minor": 0,
  "metadata": {
    "colab": {
      "provenance": [],
      "toc_visible": true
    },
    "kernelspec": {
      "name": "python3",
      "display_name": "Python 3"
    }
  },
  "cells": [
    {
      "cell_type": "markdown",
      "metadata": {
        "id": "5IYIoidefJy1"
      },
      "source": [
        "# **Import and install relevant libraries**"
      ]
    },
    {
      "cell_type": "code",
      "metadata": {
        "id": "r1SgvaIC51Eo",
        "outputId": "3dd23da3-6682-4884-8e9b-2ae03b11c2a9",
        "colab": {
          "base_uri": "https://localhost:8080/",
          "height": 649
        }
      },
      "source": [
        "#install Deep CTR\n",
        "!pip install deepctr[cpu]"
      ],
      "execution_count": null,
      "outputs": [
        {
          "output_type": "stream",
          "text": [
            "Requirement already satisfied: deepctr[cpu] in /usr/local/lib/python3.6/dist-packages (0.7.4)\n",
            "Requirement already satisfied: requests in /usr/local/lib/python3.6/dist-packages (from deepctr[cpu]) (2.23.0)\n",
            "Requirement already satisfied: h5py in /usr/local/lib/python3.6/dist-packages (from deepctr[cpu]) (2.10.0)\n",
            "Requirement already satisfied: tensorflow!=1.7.*,!=1.8.*,>=1.4.0; extra == \"cpu\" in /usr/local/lib/python3.6/dist-packages (from deepctr[cpu]) (2.2.0rc4)\n",
            "Requirement already satisfied: chardet<4,>=3.0.2 in /usr/local/lib/python3.6/dist-packages (from requests->deepctr[cpu]) (3.0.4)\n",
            "Requirement already satisfied: certifi>=2017.4.17 in /usr/local/lib/python3.6/dist-packages (from requests->deepctr[cpu]) (2020.4.5.1)\n",
            "Requirement already satisfied: idna<3,>=2.5 in /usr/local/lib/python3.6/dist-packages (from requests->deepctr[cpu]) (2.9)\n",
            "Requirement already satisfied: urllib3!=1.25.0,!=1.25.1,<1.26,>=1.21.1 in /usr/local/lib/python3.6/dist-packages (from requests->deepctr[cpu]) (1.24.3)\n",
            "Requirement already satisfied: six in /usr/local/lib/python3.6/dist-packages (from h5py->deepctr[cpu]) (1.12.0)\n",
            "Requirement already satisfied: numpy>=1.7 in /usr/local/lib/python3.6/dist-packages (from h5py->deepctr[cpu]) (1.18.4)\n",
            "Requirement already satisfied: scipy==1.4.1; python_version >= \"3\" in /usr/local/lib/python3.6/dist-packages (from tensorflow!=1.7.*,!=1.8.*,>=1.4.0; extra == \"cpu\"->deepctr[cpu]) (1.4.1)\n",
            "Requirement already satisfied: tensorflow-estimator<2.3.0,>=2.2.0 in /usr/local/lib/python3.6/dist-packages (from tensorflow!=1.7.*,!=1.8.*,>=1.4.0; extra == \"cpu\"->deepctr[cpu]) (2.2.0)\n",
            "Requirement already satisfied: grpcio>=1.8.6 in /usr/local/lib/python3.6/dist-packages (from tensorflow!=1.7.*,!=1.8.*,>=1.4.0; extra == \"cpu\"->deepctr[cpu]) (1.28.1)\n",
            "Requirement already satisfied: protobuf>=3.8.0 in /usr/local/lib/python3.6/dist-packages (from tensorflow!=1.7.*,!=1.8.*,>=1.4.0; extra == \"cpu\"->deepctr[cpu]) (3.10.0)\n",
            "Requirement already satisfied: absl-py>=0.7.0 in /usr/local/lib/python3.6/dist-packages (from tensorflow!=1.7.*,!=1.8.*,>=1.4.0; extra == \"cpu\"->deepctr[cpu]) (0.9.0)\n",
            "Requirement already satisfied: keras-preprocessing>=1.1.0 in /usr/local/lib/python3.6/dist-packages (from tensorflow!=1.7.*,!=1.8.*,>=1.4.0; extra == \"cpu\"->deepctr[cpu]) (1.1.0)\n",
            "Requirement already satisfied: termcolor>=1.1.0 in /usr/local/lib/python3.6/dist-packages (from tensorflow!=1.7.*,!=1.8.*,>=1.4.0; extra == \"cpu\"->deepctr[cpu]) (1.1.0)\n",
            "Requirement already satisfied: gast==0.3.3 in /usr/local/lib/python3.6/dist-packages (from tensorflow!=1.7.*,!=1.8.*,>=1.4.0; extra == \"cpu\"->deepctr[cpu]) (0.3.3)\n",
            "Requirement already satisfied: google-pasta>=0.1.8 in /usr/local/lib/python3.6/dist-packages (from tensorflow!=1.7.*,!=1.8.*,>=1.4.0; extra == \"cpu\"->deepctr[cpu]) (0.2.0)\n",
            "Requirement already satisfied: wheel>=0.26; python_version >= \"3\" in /usr/local/lib/python3.6/dist-packages (from tensorflow!=1.7.*,!=1.8.*,>=1.4.0; extra == \"cpu\"->deepctr[cpu]) (0.34.2)\n",
            "Requirement already satisfied: opt-einsum>=2.3.2 in /usr/local/lib/python3.6/dist-packages (from tensorflow!=1.7.*,!=1.8.*,>=1.4.0; extra == \"cpu\"->deepctr[cpu]) (3.2.1)\n",
            "Requirement already satisfied: astunparse==1.6.3 in /usr/local/lib/python3.6/dist-packages (from tensorflow!=1.7.*,!=1.8.*,>=1.4.0; extra == \"cpu\"->deepctr[cpu]) (1.6.3)\n",
            "Requirement already satisfied: wrapt>=1.11.1 in /usr/local/lib/python3.6/dist-packages (from tensorflow!=1.7.*,!=1.8.*,>=1.4.0; extra == \"cpu\"->deepctr[cpu]) (1.12.1)\n",
            "Requirement already satisfied: tensorboard<2.3.0,>=2.2.0 in /usr/local/lib/python3.6/dist-packages (from tensorflow!=1.7.*,!=1.8.*,>=1.4.0; extra == \"cpu\"->deepctr[cpu]) (2.2.1)\n",
            "Requirement already satisfied: setuptools in /usr/local/lib/python3.6/dist-packages (from protobuf>=3.8.0->tensorflow!=1.7.*,!=1.8.*,>=1.4.0; extra == \"cpu\"->deepctr[cpu]) (46.1.3)\n",
            "Requirement already satisfied: werkzeug>=0.11.15 in /usr/local/lib/python3.6/dist-packages (from tensorboard<2.3.0,>=2.2.0->tensorflow!=1.7.*,!=1.8.*,>=1.4.0; extra == \"cpu\"->deepctr[cpu]) (1.0.1)\n",
            "Requirement already satisfied: google-auth-oauthlib<0.5,>=0.4.1 in /usr/local/lib/python3.6/dist-packages (from tensorboard<2.3.0,>=2.2.0->tensorflow!=1.7.*,!=1.8.*,>=1.4.0; extra == \"cpu\"->deepctr[cpu]) (0.4.1)\n",
            "Requirement already satisfied: google-auth<2,>=1.6.3 in /usr/local/lib/python3.6/dist-packages (from tensorboard<2.3.0,>=2.2.0->tensorflow!=1.7.*,!=1.8.*,>=1.4.0; extra == \"cpu\"->deepctr[cpu]) (1.7.2)\n",
            "Requirement already satisfied: tensorboard-plugin-wit>=1.6.0 in /usr/local/lib/python3.6/dist-packages (from tensorboard<2.3.0,>=2.2.0->tensorflow!=1.7.*,!=1.8.*,>=1.4.0; extra == \"cpu\"->deepctr[cpu]) (1.6.0.post3)\n",
            "Requirement already satisfied: markdown>=2.6.8 in /usr/local/lib/python3.6/dist-packages (from tensorboard<2.3.0,>=2.2.0->tensorflow!=1.7.*,!=1.8.*,>=1.4.0; extra == \"cpu\"->deepctr[cpu]) (3.2.1)\n",
            "Requirement already satisfied: requests-oauthlib>=0.7.0 in /usr/local/lib/python3.6/dist-packages (from google-auth-oauthlib<0.5,>=0.4.1->tensorboard<2.3.0,>=2.2.0->tensorflow!=1.7.*,!=1.8.*,>=1.4.0; extra == \"cpu\"->deepctr[cpu]) (1.3.0)\n",
            "Requirement already satisfied: cachetools<3.2,>=2.0.0 in /usr/local/lib/python3.6/dist-packages (from google-auth<2,>=1.6.3->tensorboard<2.3.0,>=2.2.0->tensorflow!=1.7.*,!=1.8.*,>=1.4.0; extra == \"cpu\"->deepctr[cpu]) (3.1.1)\n",
            "Requirement already satisfied: rsa<4.1,>=3.1.4 in /usr/local/lib/python3.6/dist-packages (from google-auth<2,>=1.6.3->tensorboard<2.3.0,>=2.2.0->tensorflow!=1.7.*,!=1.8.*,>=1.4.0; extra == \"cpu\"->deepctr[cpu]) (4.0)\n",
            "Requirement already satisfied: pyasn1-modules>=0.2.1 in /usr/local/lib/python3.6/dist-packages (from google-auth<2,>=1.6.3->tensorboard<2.3.0,>=2.2.0->tensorflow!=1.7.*,!=1.8.*,>=1.4.0; extra == \"cpu\"->deepctr[cpu]) (0.2.8)\n",
            "Requirement already satisfied: oauthlib>=3.0.0 in /usr/local/lib/python3.6/dist-packages (from requests-oauthlib>=0.7.0->google-auth-oauthlib<0.5,>=0.4.1->tensorboard<2.3.0,>=2.2.0->tensorflow!=1.7.*,!=1.8.*,>=1.4.0; extra == \"cpu\"->deepctr[cpu]) (3.1.0)\n",
            "Requirement already satisfied: pyasn1>=0.1.3 in /usr/local/lib/python3.6/dist-packages (from rsa<4.1,>=3.1.4->google-auth<2,>=1.6.3->tensorboard<2.3.0,>=2.2.0->tensorflow!=1.7.*,!=1.8.*,>=1.4.0; extra == \"cpu\"->deepctr[cpu]) (0.4.8)\n"
          ],
          "name": "stdout"
        }
      ]
    },
    {
      "cell_type": "code",
      "metadata": {
        "id": "6nXaX4JVthh5",
        "outputId": "eb3b64d0-545b-45d4-a614-88ca13d69259",
        "colab": {
          "base_uri": "https://localhost:8080/",
          "height": 1000
        }
      },
      "source": [
        "!pip install turicreate"
      ],
      "execution_count": null,
      "outputs": [
        {
          "output_type": "stream",
          "text": [
            "Collecting turicreate\n",
            "\u001b[?25l  Downloading https://files.pythonhosted.org/packages/6b/4d/464cd88af74379a5e6e723d9e005fbf8220394f7918c29eef56a63ee8b7b/turicreate-6.2.1-cp36-cp36m-manylinux1_x86_64.whl (91.8MB)\n",
            "\u001b[K     |████████████████████████████████| 91.8MB 47kB/s \n",
            "\u001b[?25hRequirement already satisfied: pandas>=0.23.2 in /usr/local/lib/python3.6/dist-packages (from turicreate) (1.0.3)\n",
            "Collecting tensorflow<=2.0.1,>=2.0.0\n",
            "\u001b[?25l  Downloading https://files.pythonhosted.org/packages/43/16/b07e3f7a4a024b47918f7018967eb984b0c542458a6141d8c48515aa81d4/tensorflow-2.0.1-cp36-cp36m-manylinux2010_x86_64.whl (86.3MB)\n",
            "\u001b[K     |████████████████████████████████| 86.3MB 50kB/s \n",
            "\u001b[?25hCollecting resampy==0.2.1\n",
            "\u001b[?25l  Downloading https://files.pythonhosted.org/packages/14/b6/66a06d85474190b50aee1a6c09cdc95bb405ac47338b27e9b21409da1760/resampy-0.2.1.tar.gz (322kB)\n",
            "\u001b[K     |████████████████████████████████| 327kB 57.3MB/s \n",
            "\u001b[?25hCollecting coremltools==3.3\n",
            "\u001b[?25l  Downloading https://files.pythonhosted.org/packages/77/19/611916d1ef326d38857d93af5ba184f6ad7491642e0fa4f9082e7d82f034/coremltools-3.3-cp36-none-manylinux1_x86_64.whl (3.4MB)\n",
            "\u001b[K     |████████████████████████████████| 3.4MB 48.0MB/s \n",
            "\u001b[?25hRequirement already satisfied: requests>=2.9.1 in /usr/local/lib/python3.6/dist-packages (from turicreate) (2.23.0)\n",
            "Requirement already satisfied: pillow>=5.2.0 in /usr/local/lib/python3.6/dist-packages (from turicreate) (7.0.0)\n",
            "Requirement already satisfied: decorator>=4.0.9 in /usr/local/lib/python3.6/dist-packages (from turicreate) (4.4.2)\n",
            "Requirement already satisfied: six>=1.10.0 in /usr/local/lib/python3.6/dist-packages (from turicreate) (1.12.0)\n",
            "Requirement already satisfied: prettytable==0.7.2 in /usr/local/lib/python3.6/dist-packages (from turicreate) (0.7.2)\n",
            "Requirement already satisfied: numpy in /usr/local/lib/python3.6/dist-packages (from turicreate) (1.18.4)\n",
            "Requirement already satisfied: scipy>=1.1.0 in /usr/local/lib/python3.6/dist-packages (from turicreate) (1.4.1)\n",
            "Requirement already satisfied: python-dateutil>=2.6.1 in /usr/local/lib/python3.6/dist-packages (from pandas>=0.23.2->turicreate) (2.8.1)\n",
            "Requirement already satisfied: pytz>=2017.2 in /usr/local/lib/python3.6/dist-packages (from pandas>=0.23.2->turicreate) (2018.9)\n",
            "Requirement already satisfied: absl-py>=0.7.0 in /usr/local/lib/python3.6/dist-packages (from tensorflow<=2.0.1,>=2.0.0->turicreate) (0.9.0)\n",
            "Requirement already satisfied: keras-applications>=1.0.8 in /usr/local/lib/python3.6/dist-packages (from tensorflow<=2.0.1,>=2.0.0->turicreate) (1.0.8)\n",
            "Requirement already satisfied: keras-preprocessing>=1.0.5 in /usr/local/lib/python3.6/dist-packages (from tensorflow<=2.0.1,>=2.0.0->turicreate) (1.1.0)\n",
            "Requirement already satisfied: opt-einsum>=2.3.2 in /usr/local/lib/python3.6/dist-packages (from tensorflow<=2.0.1,>=2.0.0->turicreate) (3.2.1)\n",
            "Requirement already satisfied: google-pasta>=0.1.6 in /usr/local/lib/python3.6/dist-packages (from tensorflow<=2.0.1,>=2.0.0->turicreate) (0.2.0)\n",
            "Collecting tensorflow-estimator<2.1.0,>=2.0.0\n",
            "\u001b[?25l  Downloading https://files.pythonhosted.org/packages/fc/08/8b927337b7019c374719145d1dceba21a8bb909b93b1ad6f8fb7d22c1ca1/tensorflow_estimator-2.0.1-py2.py3-none-any.whl (449kB)\n",
            "\u001b[K     |████████████████████████████████| 450kB 51.3MB/s \n",
            "\u001b[?25hRequirement already satisfied: grpcio>=1.8.6 in /usr/local/lib/python3.6/dist-packages (from tensorflow<=2.0.1,>=2.0.0->turicreate) (1.28.1)\n",
            "Requirement already satisfied: wheel>=0.26; python_version >= \"3\" in /usr/local/lib/python3.6/dist-packages (from tensorflow<=2.0.1,>=2.0.0->turicreate) (0.34.2)\n",
            "Requirement already satisfied: wrapt>=1.11.1 in /usr/local/lib/python3.6/dist-packages (from tensorflow<=2.0.1,>=2.0.0->turicreate) (1.12.1)\n",
            "Requirement already satisfied: protobuf>=3.6.1 in /usr/local/lib/python3.6/dist-packages (from tensorflow<=2.0.1,>=2.0.0->turicreate) (3.10.0)\n",
            "Requirement already satisfied: termcolor>=1.1.0 in /usr/local/lib/python3.6/dist-packages (from tensorflow<=2.0.1,>=2.0.0->turicreate) (1.1.0)\n",
            "Collecting tensorboard<2.1.0,>=2.0.0\n",
            "\u001b[?25l  Downloading https://files.pythonhosted.org/packages/76/54/99b9d5d52d5cb732f099baaaf7740403e83fe6b0cedde940fabd2b13d75a/tensorboard-2.0.2-py3-none-any.whl (3.8MB)\n",
            "\u001b[K     |████████████████████████████████| 3.8MB 52.1MB/s \n",
            "\u001b[?25hRequirement already satisfied: astor>=0.6.0 in /usr/local/lib/python3.6/dist-packages (from tensorflow<=2.0.1,>=2.0.0->turicreate) (0.8.1)\n",
            "Collecting gast==0.2.2\n",
            "  Downloading https://files.pythonhosted.org/packages/4e/35/11749bf99b2d4e3cceb4d55ca22590b0d7c2c62b9de38ac4a4a7f4687421/gast-0.2.2.tar.gz\n",
            "Requirement already satisfied: numba>=0.32 in /usr/local/lib/python3.6/dist-packages (from resampy==0.2.1->turicreate) (0.48.0)\n",
            "Requirement already satisfied: certifi>=2017.4.17 in /usr/local/lib/python3.6/dist-packages (from requests>=2.9.1->turicreate) (2020.4.5.1)\n",
            "Requirement already satisfied: idna<3,>=2.5 in /usr/local/lib/python3.6/dist-packages (from requests>=2.9.1->turicreate) (2.9)\n",
            "Requirement already satisfied: urllib3!=1.25.0,!=1.25.1,<1.26,>=1.21.1 in /usr/local/lib/python3.6/dist-packages (from requests>=2.9.1->turicreate) (1.24.3)\n",
            "Requirement already satisfied: chardet<4,>=3.0.2 in /usr/local/lib/python3.6/dist-packages (from requests>=2.9.1->turicreate) (3.0.4)\n",
            "Requirement already satisfied: h5py in /usr/local/lib/python3.6/dist-packages (from keras-applications>=1.0.8->tensorflow<=2.0.1,>=2.0.0->turicreate) (2.10.0)\n",
            "Requirement already satisfied: setuptools in /usr/local/lib/python3.6/dist-packages (from protobuf>=3.6.1->tensorflow<=2.0.1,>=2.0.0->turicreate) (46.1.3)\n",
            "Requirement already satisfied: google-auth<2,>=1.6.3 in /usr/local/lib/python3.6/dist-packages (from tensorboard<2.1.0,>=2.0.0->tensorflow<=2.0.1,>=2.0.0->turicreate) (1.7.2)\n",
            "Requirement already satisfied: google-auth-oauthlib<0.5,>=0.4.1 in /usr/local/lib/python3.6/dist-packages (from tensorboard<2.1.0,>=2.0.0->tensorflow<=2.0.1,>=2.0.0->turicreate) (0.4.1)\n",
            "Requirement already satisfied: markdown>=2.6.8 in /usr/local/lib/python3.6/dist-packages (from tensorboard<2.1.0,>=2.0.0->tensorflow<=2.0.1,>=2.0.0->turicreate) (3.2.1)\n",
            "Requirement already satisfied: werkzeug>=0.11.15 in /usr/local/lib/python3.6/dist-packages (from tensorboard<2.1.0,>=2.0.0->tensorflow<=2.0.1,>=2.0.0->turicreate) (1.0.1)\n",
            "Requirement already satisfied: llvmlite<0.32.0,>=0.31.0dev0 in /usr/local/lib/python3.6/dist-packages (from numba>=0.32->resampy==0.2.1->turicreate) (0.31.0)\n",
            "Requirement already satisfied: pyasn1-modules>=0.2.1 in /usr/local/lib/python3.6/dist-packages (from google-auth<2,>=1.6.3->tensorboard<2.1.0,>=2.0.0->tensorflow<=2.0.1,>=2.0.0->turicreate) (0.2.8)\n",
            "Requirement already satisfied: rsa<4.1,>=3.1.4 in /usr/local/lib/python3.6/dist-packages (from google-auth<2,>=1.6.3->tensorboard<2.1.0,>=2.0.0->tensorflow<=2.0.1,>=2.0.0->turicreate) (4.0)\n",
            "Requirement already satisfied: cachetools<3.2,>=2.0.0 in /usr/local/lib/python3.6/dist-packages (from google-auth<2,>=1.6.3->tensorboard<2.1.0,>=2.0.0->tensorflow<=2.0.1,>=2.0.0->turicreate) (3.1.1)\n",
            "Requirement already satisfied: requests-oauthlib>=0.7.0 in /usr/local/lib/python3.6/dist-packages (from google-auth-oauthlib<0.5,>=0.4.1->tensorboard<2.1.0,>=2.0.0->tensorflow<=2.0.1,>=2.0.0->turicreate) (1.3.0)\n",
            "Requirement already satisfied: pyasn1<0.5.0,>=0.4.6 in /usr/local/lib/python3.6/dist-packages (from pyasn1-modules>=0.2.1->google-auth<2,>=1.6.3->tensorboard<2.1.0,>=2.0.0->tensorflow<=2.0.1,>=2.0.0->turicreate) (0.4.8)\n",
            "Requirement already satisfied: oauthlib>=3.0.0 in /usr/local/lib/python3.6/dist-packages (from requests-oauthlib>=0.7.0->google-auth-oauthlib<0.5,>=0.4.1->tensorboard<2.1.0,>=2.0.0->tensorflow<=2.0.1,>=2.0.0->turicreate) (3.1.0)\n",
            "Building wheels for collected packages: resampy, gast\n",
            "  Building wheel for resampy (setup.py) ... \u001b[?25l\u001b[?25hdone\n",
            "  Created wheel for resampy: filename=resampy-0.2.1-cp36-none-any.whl size=320850 sha256=b96f4a5b14a2bd43b80f6f162ca9862c9de0b9d5a62f1def733d43df2c8765b7\n",
            "  Stored in directory: /root/.cache/pip/wheels/ff/4f/ed/2e6c676c23efe5394bb40ade50662e90eb46e29b48324c5f9b\n",
            "  Building wheel for gast (setup.py) ... \u001b[?25l\u001b[?25hdone\n",
            "  Created wheel for gast: filename=gast-0.2.2-cp36-none-any.whl size=7540 sha256=bc2f56df609718c97552b23347ea6a7db88162cb12edac29e911b6c57d81cf78\n",
            "  Stored in directory: /root/.cache/pip/wheels/5c/2e/7e/a1d4d4fcebe6c381f378ce7743a3ced3699feb89bcfbdadadd\n",
            "Successfully built resampy gast\n",
            "\u001b[31mERROR: tensorflow-probability 0.10.0rc0 has requirement gast>=0.3.2, but you'll have gast 0.2.2 which is incompatible.\u001b[0m\n",
            "Installing collected packages: tensorflow-estimator, tensorboard, gast, tensorflow, resampy, coremltools, turicreate\n",
            "  Found existing installation: tensorflow-estimator 2.2.0\n",
            "    Uninstalling tensorflow-estimator-2.2.0:\n",
            "      Successfully uninstalled tensorflow-estimator-2.2.0\n",
            "  Found existing installation: tensorboard 2.2.1\n",
            "    Uninstalling tensorboard-2.2.1:\n",
            "      Successfully uninstalled tensorboard-2.2.1\n",
            "  Found existing installation: gast 0.3.3\n",
            "    Uninstalling gast-0.3.3:\n",
            "      Successfully uninstalled gast-0.3.3\n",
            "  Found existing installation: tensorflow 2.2.0rc4\n",
            "    Uninstalling tensorflow-2.2.0rc4:\n",
            "      Successfully uninstalled tensorflow-2.2.0rc4\n",
            "  Found existing installation: resampy 0.2.2\n",
            "    Uninstalling resampy-0.2.2:\n",
            "      Successfully uninstalled resampy-0.2.2\n",
            "Successfully installed coremltools-3.3 gast-0.2.2 resampy-0.2.1 tensorboard-2.0.2 tensorflow-2.0.1 tensorflow-estimator-2.0.1 turicreate-6.2.1\n"
          ],
          "name": "stdout"
        }
      ]
    },
    {
      "cell_type": "code",
      "metadata": {
        "id": "TgMB88LqZQdW"
      },
      "source": [
        "import pandas as pd # pandas is a data manipulation library\n",
        "import numpy as np #provides numerical arrays and functions to manipulate the arrays efficiently\n",
        "import random\n",
        "import matplotlib.pyplot as plt # data visualization library\n",
        "import operator\n",
        "\n",
        "import turicreate\n",
        "from sklearn.metrics import mean_absolute_error\n",
        "\n",
        "import os\n",
        "import tensorflow as T\n",
        "import keras\n",
        "from keras import backend as K\n",
        "from keras import initializers\n",
        "from keras.initializers import RandomNormal\n",
        "from keras.models import Sequential, Model, load_model, save_model\n",
        "from keras.layers.core import Dense, Lambda, Activation\n",
        "from keras.layers import Embedding, Input, Dense, merge, Reshape,  Flatten, Dropout\n",
        "from keras.optimizers import Adagrad, Adam, SGD, RMSprop, Adamax\n",
        "from keras.regularizers import l2\n",
        "from keras.layers import Multiply, Concatenate\n",
        "from keras.callbacks import Callback, EarlyStopping, ModelCheckpoint\n",
        "from time import time\n",
        "import multiprocessing as mp\n",
        "import sys\n",
        "import math\n",
        "import argparse"
      ],
      "execution_count": null,
      "outputs": []
    },
    {
      "cell_type": "markdown",
      "metadata": {
        "id": "8V46FyR1q8RU"
      },
      "source": [
        "Connecting to drive\n"
      ]
    },
    {
      "cell_type": "code",
      "metadata": {
        "id": "l4U2dZR1Wi48"
      },
      "source": [
        "!pip install -U -q PyDrive ## you will have install for every colab session\n",
        "\n",
        "from pydrive.auth import GoogleAuth\n",
        "from pydrive.drive import GoogleDrive\n",
        "from google.colab import auth\n",
        "from oauth2client.client import GoogleCredentials\n",
        "from google.colab import files\n",
        "\n",
        "# 1. Authenticate and create the PyDrive client.\n",
        "auth.authenticate_user()\n",
        "gauth = GoogleAuth()\n",
        "gauth.credentials = GoogleCredentials.get_application_default()\n",
        "drive = GoogleDrive(gauth)"
      ],
      "execution_count": null,
      "outputs": []
    },
    {
      "cell_type": "code",
      "metadata": {
        "id": "WJUMxIkjWfXU",
        "outputId": "dcb8388e-8e38-4a9d-93cc-2775adb755fd",
        "colab": {
          "base_uri": "https://localhost:8080/",
          "height": 55
        }
      },
      "source": [
        "from google.colab import drive\n",
        "drive.mount('/content/drive')"
      ],
      "execution_count": null,
      "outputs": [
        {
          "output_type": "stream",
          "text": [
            "Drive already mounted at /content/drive; to attempt to forcibly remount, call drive.mount(\"/content/drive\", force_remount=True).\n"
          ],
          "name": "stdout"
        }
      ]
    },
    {
      "cell_type": "markdown",
      "metadata": {
        "id": "5x5fBE5QrWe3"
      },
      "source": [
        "Loading data"
      ]
    },
    {
      "cell_type": "markdown",
      "metadata": {
        "id": "sNQ5BHiqlcYz"
      },
      "source": [
        "# **Question 1**"
      ]
    },
    {
      "cell_type": "code",
      "metadata": {
        "id": "Z-LthKftXraI"
      },
      "source": [
        "MOVIELENS_DIR = '/content/drive/My Drive/eCommerce Project/ml-100k/'\n",
        "RATING_DATA_FILE = MOVIELENS_DIR+'u.item'"
      ],
      "execution_count": null,
      "outputs": []
    },
    {
      "cell_type": "code",
      "metadata": {
        "id": "pTw9HJ4SYIe8",
        "outputId": "3f8a304f-3d5c-4004-a2dc-e263453f5518",
        "colab": {
          "base_uri": "https://localhost:8080/",
          "height": 35
        }
      },
      "source": [
        "m_cols = ['movie_id','movie title','release date','video release date','IMDb URL'\n",
        "          ,'unknown','Action','Adventure','Animation','Childrens','Comedy',\n",
        "          'Crime','Documentary','Drama','Fantasy','Film-Noir','Horror','Musical','Mystery','Romance','Sci-Fi',\n",
        "        'Thriller','War','Western']\n",
        "data= pd.read_csv(RATING_DATA_FILE,delimiter='|',names=m_cols,encoding='latin-1')\n",
        "data.shape"
      ],
      "execution_count": null,
      "outputs": [
        {
          "output_type": "execute_result",
          "data": {
            "text/plain": [
              "(1682, 24)"
            ]
          },
          "metadata": {
            "tags": []
          },
          "execution_count": 16
        }
      ]
    },
    {
      "cell_type": "code",
      "metadata": {
        "id": "dVFoN5P-ZjMq",
        "outputId": "ddf3fc9e-6986-4eea-ba72-650d4de89a2e",
        "colab": {
          "base_uri": "https://localhost:8080/",
          "height": 202
        }
      },
      "source": [
        "r_cols = ['user_id','movie_id','rating','timestamp']\n",
        "user_rating = pd.read_csv(MOVIELENS_DIR + 'u1.base',delimiter='\\t', names=r_cols)\n",
        "user_rating.head()"
      ],
      "execution_count": null,
      "outputs": [
        {
          "output_type": "execute_result",
          "data": {
            "text/html": [
              "<div>\n",
              "<style scoped>\n",
              "    .dataframe tbody tr th:only-of-type {\n",
              "        vertical-align: middle;\n",
              "    }\n",
              "\n",
              "    .dataframe tbody tr th {\n",
              "        vertical-align: top;\n",
              "    }\n",
              "\n",
              "    .dataframe thead th {\n",
              "        text-align: right;\n",
              "    }\n",
              "</style>\n",
              "<table border=\"1\" class=\"dataframe\">\n",
              "  <thead>\n",
              "    <tr style=\"text-align: right;\">\n",
              "      <th></th>\n",
              "      <th>user_id</th>\n",
              "      <th>movie_id</th>\n",
              "      <th>rating</th>\n",
              "      <th>timestamp</th>\n",
              "    </tr>\n",
              "  </thead>\n",
              "  <tbody>\n",
              "    <tr>\n",
              "      <th>0</th>\n",
              "      <td>1</td>\n",
              "      <td>1</td>\n",
              "      <td>5</td>\n",
              "      <td>874965758</td>\n",
              "    </tr>\n",
              "    <tr>\n",
              "      <th>1</th>\n",
              "      <td>1</td>\n",
              "      <td>2</td>\n",
              "      <td>3</td>\n",
              "      <td>876893171</td>\n",
              "    </tr>\n",
              "    <tr>\n",
              "      <th>2</th>\n",
              "      <td>1</td>\n",
              "      <td>3</td>\n",
              "      <td>4</td>\n",
              "      <td>878542960</td>\n",
              "    </tr>\n",
              "    <tr>\n",
              "      <th>3</th>\n",
              "      <td>1</td>\n",
              "      <td>4</td>\n",
              "      <td>3</td>\n",
              "      <td>876893119</td>\n",
              "    </tr>\n",
              "    <tr>\n",
              "      <th>4</th>\n",
              "      <td>1</td>\n",
              "      <td>5</td>\n",
              "      <td>3</td>\n",
              "      <td>889751712</td>\n",
              "    </tr>\n",
              "  </tbody>\n",
              "</table>\n",
              "</div>"
            ],
            "text/plain": [
              "   user_id  movie_id  rating  timestamp\n",
              "0        1         1       5  874965758\n",
              "1        1         2       3  876893171\n",
              "2        1         3       4  878542960\n",
              "3        1         4       3  876893119\n",
              "4        1         5       3  889751712"
            ]
          },
          "metadata": {
            "tags": []
          },
          "execution_count": 17
        }
      ]
    },
    {
      "cell_type": "code",
      "metadata": {
        "id": "PfIxWQRvc2M6",
        "outputId": "31d63f45-116d-4f79-e559-ebb59acc6b71",
        "colab": {
          "base_uri": "https://localhost:8080/",
          "height": 233
        }
      },
      "source": [
        "average_movie_ratings = user_rating.groupby('movie_id')[['rating']].mean().round(1)\n",
        "average_movie_ratings.head()"
      ],
      "execution_count": null,
      "outputs": [
        {
          "output_type": "execute_result",
          "data": {
            "text/html": [
              "<div>\n",
              "<style scoped>\n",
              "    .dataframe tbody tr th:only-of-type {\n",
              "        vertical-align: middle;\n",
              "    }\n",
              "\n",
              "    .dataframe tbody tr th {\n",
              "        vertical-align: top;\n",
              "    }\n",
              "\n",
              "    .dataframe thead th {\n",
              "        text-align: right;\n",
              "    }\n",
              "</style>\n",
              "<table border=\"1\" class=\"dataframe\">\n",
              "  <thead>\n",
              "    <tr style=\"text-align: right;\">\n",
              "      <th></th>\n",
              "      <th>rating</th>\n",
              "    </tr>\n",
              "    <tr>\n",
              "      <th>movie_id</th>\n",
              "      <th></th>\n",
              "    </tr>\n",
              "  </thead>\n",
              "  <tbody>\n",
              "    <tr>\n",
              "      <th>1</th>\n",
              "      <td>3.9</td>\n",
              "    </tr>\n",
              "    <tr>\n",
              "      <th>2</th>\n",
              "      <td>3.2</td>\n",
              "    </tr>\n",
              "    <tr>\n",
              "      <th>3</th>\n",
              "      <td>3.0</td>\n",
              "    </tr>\n",
              "    <tr>\n",
              "      <th>4</th>\n",
              "      <td>3.5</td>\n",
              "    </tr>\n",
              "    <tr>\n",
              "      <th>5</th>\n",
              "      <td>3.3</td>\n",
              "    </tr>\n",
              "  </tbody>\n",
              "</table>\n",
              "</div>"
            ],
            "text/plain": [
              "          rating\n",
              "movie_id        \n",
              "1            3.9\n",
              "2            3.2\n",
              "3            3.0\n",
              "4            3.5\n",
              "5            3.3"
            ]
          },
          "metadata": {
            "tags": []
          },
          "execution_count": 18
        }
      ]
    },
    {
      "cell_type": "markdown",
      "metadata": {
        "id": "En9uw-2BsFzb"
      },
      "source": [
        "### 1.a finding the highest ranked movies"
      ]
    },
    {
      "cell_type": "code",
      "metadata": {
        "id": "qA_mAfiQft2o",
        "outputId": "264429c1-c549-4927-a1ee-dcdc17620860",
        "colab": {
          "base_uri": "https://localhost:8080/",
          "height": 265
        }
      },
      "source": [
        "movie_data_ratings_data=data.merge(average_movie_ratings,on = 'movie_id',how = 'inner')\n",
        "movie_data_ratings_data.head(3)"
      ],
      "execution_count": null,
      "outputs": [
        {
          "output_type": "execute_result",
          "data": {
            "text/html": [
              "<div>\n",
              "<style scoped>\n",
              "    .dataframe tbody tr th:only-of-type {\n",
              "        vertical-align: middle;\n",
              "    }\n",
              "\n",
              "    .dataframe tbody tr th {\n",
              "        vertical-align: top;\n",
              "    }\n",
              "\n",
              "    .dataframe thead th {\n",
              "        text-align: right;\n",
              "    }\n",
              "</style>\n",
              "<table border=\"1\" class=\"dataframe\">\n",
              "  <thead>\n",
              "    <tr style=\"text-align: right;\">\n",
              "      <th></th>\n",
              "      <th>movie_id</th>\n",
              "      <th>movie title</th>\n",
              "      <th>release date</th>\n",
              "      <th>video release date</th>\n",
              "      <th>IMDb URL</th>\n",
              "      <th>unknown</th>\n",
              "      <th>Action</th>\n",
              "      <th>Adventure</th>\n",
              "      <th>Animation</th>\n",
              "      <th>Childrens</th>\n",
              "      <th>Comedy</th>\n",
              "      <th>Crime</th>\n",
              "      <th>Documentary</th>\n",
              "      <th>Drama</th>\n",
              "      <th>Fantasy</th>\n",
              "      <th>Film-Noir</th>\n",
              "      <th>Horror</th>\n",
              "      <th>Musical</th>\n",
              "      <th>Mystery</th>\n",
              "      <th>Romance</th>\n",
              "      <th>Sci-Fi</th>\n",
              "      <th>Thriller</th>\n",
              "      <th>War</th>\n",
              "      <th>Western</th>\n",
              "      <th>rating</th>\n",
              "    </tr>\n",
              "  </thead>\n",
              "  <tbody>\n",
              "    <tr>\n",
              "      <th>0</th>\n",
              "      <td>1</td>\n",
              "      <td>Toy Story (1995)</td>\n",
              "      <td>01-Jan-1995</td>\n",
              "      <td>NaN</td>\n",
              "      <td>http://us.imdb.com/M/title-exact?Toy%20Story%2...</td>\n",
              "      <td>0</td>\n",
              "      <td>0</td>\n",
              "      <td>0</td>\n",
              "      <td>1</td>\n",
              "      <td>1</td>\n",
              "      <td>1</td>\n",
              "      <td>0</td>\n",
              "      <td>0</td>\n",
              "      <td>0</td>\n",
              "      <td>0</td>\n",
              "      <td>0</td>\n",
              "      <td>0</td>\n",
              "      <td>0</td>\n",
              "      <td>0</td>\n",
              "      <td>0</td>\n",
              "      <td>0</td>\n",
              "      <td>0</td>\n",
              "      <td>0</td>\n",
              "      <td>0</td>\n",
              "      <td>3.9</td>\n",
              "    </tr>\n",
              "    <tr>\n",
              "      <th>1</th>\n",
              "      <td>2</td>\n",
              "      <td>GoldenEye (1995)</td>\n",
              "      <td>01-Jan-1995</td>\n",
              "      <td>NaN</td>\n",
              "      <td>http://us.imdb.com/M/title-exact?GoldenEye%20(...</td>\n",
              "      <td>0</td>\n",
              "      <td>1</td>\n",
              "      <td>1</td>\n",
              "      <td>0</td>\n",
              "      <td>0</td>\n",
              "      <td>0</td>\n",
              "      <td>0</td>\n",
              "      <td>0</td>\n",
              "      <td>0</td>\n",
              "      <td>0</td>\n",
              "      <td>0</td>\n",
              "      <td>0</td>\n",
              "      <td>0</td>\n",
              "      <td>0</td>\n",
              "      <td>0</td>\n",
              "      <td>0</td>\n",
              "      <td>1</td>\n",
              "      <td>0</td>\n",
              "      <td>0</td>\n",
              "      <td>3.2</td>\n",
              "    </tr>\n",
              "    <tr>\n",
              "      <th>2</th>\n",
              "      <td>3</td>\n",
              "      <td>Four Rooms (1995)</td>\n",
              "      <td>01-Jan-1995</td>\n",
              "      <td>NaN</td>\n",
              "      <td>http://us.imdb.com/M/title-exact?Four%20Rooms%...</td>\n",
              "      <td>0</td>\n",
              "      <td>0</td>\n",
              "      <td>0</td>\n",
              "      <td>0</td>\n",
              "      <td>0</td>\n",
              "      <td>0</td>\n",
              "      <td>0</td>\n",
              "      <td>0</td>\n",
              "      <td>0</td>\n",
              "      <td>0</td>\n",
              "      <td>0</td>\n",
              "      <td>0</td>\n",
              "      <td>0</td>\n",
              "      <td>0</td>\n",
              "      <td>0</td>\n",
              "      <td>0</td>\n",
              "      <td>1</td>\n",
              "      <td>0</td>\n",
              "      <td>0</td>\n",
              "      <td>3.0</td>\n",
              "    </tr>\n",
              "  </tbody>\n",
              "</table>\n",
              "</div>"
            ],
            "text/plain": [
              "   movie_id        movie title release date  ...  War Western  rating\n",
              "0         1   Toy Story (1995)  01-Jan-1995  ...    0       0     3.9\n",
              "1         2   GoldenEye (1995)  01-Jan-1995  ...    0       0     3.2\n",
              "2         3  Four Rooms (1995)  01-Jan-1995  ...    0       0     3.0\n",
              "\n",
              "[3 rows x 25 columns]"
            ]
          },
          "metadata": {
            "tags": []
          },
          "execution_count": 20
        }
      ]
    },
    {
      "cell_type": "code",
      "metadata": {
        "id": "ZS3Ci0nGgtdo",
        "outputId": "e1bd535c-89a0-46b2-9a06-319b3695f8fd",
        "colab": {
          "base_uri": "https://localhost:8080/",
          "height": 79
        }
      },
      "source": [
        "rating_movie_count = average_movie_ratings.groupby('rating').size().reset_index(name='count')\n",
        "rating_movie_count[rating_movie_count['rating'] == 3]"
      ],
      "execution_count": null,
      "outputs": [
        {
          "output_type": "execute_result",
          "data": {
            "text/html": [
              "<div>\n",
              "<style scoped>\n",
              "    .dataframe tbody tr th:only-of-type {\n",
              "        vertical-align: middle;\n",
              "    }\n",
              "\n",
              "    .dataframe tbody tr th {\n",
              "        vertical-align: top;\n",
              "    }\n",
              "\n",
              "    .dataframe thead th {\n",
              "        text-align: right;\n",
              "    }\n",
              "</style>\n",
              "<table border=\"1\" class=\"dataframe\">\n",
              "  <thead>\n",
              "    <tr style=\"text-align: right;\">\n",
              "      <th></th>\n",
              "      <th>rating</th>\n",
              "      <th>count</th>\n",
              "    </tr>\n",
              "  </thead>\n",
              "  <tbody>\n",
              "    <tr>\n",
              "      <th>18</th>\n",
              "      <td>3.0</td>\n",
              "      <td>146</td>\n",
              "    </tr>\n",
              "  </tbody>\n",
              "</table>\n",
              "</div>"
            ],
            "text/plain": [
              "    rating  count\n",
              "18     3.0    146"
            ]
          },
          "metadata": {
            "tags": []
          },
          "execution_count": 22
        }
      ]
    },
    {
      "cell_type": "code",
      "metadata": {
        "id": "pd67KNtwj4nm",
        "outputId": "8f35b4e0-ea96-4197-e50e-b27435a3e7fe",
        "colab": {
          "base_uri": "https://localhost:8080/",
          "height": 339
        }
      },
      "source": [
        "fig = plt.figure(1, figsize=(18,13))\n",
        "ax2 = fig.add_subplot(2,1,2)\n",
        "y_axis = rating_movie_count['count']\n",
        "x_axis = rating_movie_count['rating']\n",
        "plt.xticks(np.arange(min(x_axis), max(x_axis) + 1, 1), rotation=90, fontsize = 15)\n",
        "plt.yticks(fontsize = 15)\n",
        "plt.ylabel(\"Number of movies\", fontsize = 24, labelpad = 0)\n",
        "plt.xlabel('Average rating', fontsize = 24, labelpad = 0)\n",
        "ax2.bar(x_axis, y_axis, align = 'center', color='b', width=0.08)\n",
        "plt.title(\"Number of movies for each average rating\",bbox={'facecolor':'k', 'pad':5},color='w',fontsize = 30)\n",
        "plt.show()"
      ],
      "execution_count": null,
      "outputs": [
        {
          "output_type": "display_data",
          "data": {
            "image/png": "[encoded data removed]",
            "text/plain": [
              "<Figure size 1296x936 with 1 Axes>"
            ]
          },
          "metadata": {
            "tags": [],
            "needs_background": "light"
          }
        }
      ]
    },
    {
      "cell_type": "code",
      "metadata": {
        "id": "IPD99BkUpeDX",
        "outputId": "777697ed-4c87-4e63-cae2-879ca546ad94",
        "colab": {
          "base_uri": "https://localhost:8080/",
          "height": 141
        }
      },
      "source": [
        "sorted_ratings = movie_data_ratings_data.sort_values(by=['rating'], ascending=False)[['movie_id', 'movie title', 'rating']]\n",
        "sorted_ratings.head(3)"
      ],
      "execution_count": null,
      "outputs": [
        {
          "output_type": "execute_result",
          "data": {
            "text/html": [
              "<div>\n",
              "<style scoped>\n",
              "    .dataframe tbody tr th:only-of-type {\n",
              "        vertical-align: middle;\n",
              "    }\n",
              "\n",
              "    .dataframe tbody tr th {\n",
              "        vertical-align: top;\n",
              "    }\n",
              "\n",
              "    .dataframe thead th {\n",
              "        text-align: right;\n",
              "    }\n",
              "</style>\n",
              "<table border=\"1\" class=\"dataframe\">\n",
              "  <thead>\n",
              "    <tr style=\"text-align: right;\">\n",
              "      <th></th>\n",
              "      <th>movie_id</th>\n",
              "      <th>movie title</th>\n",
              "      <th>rating</th>\n",
              "    </tr>\n",
              "  </thead>\n",
              "  <tbody>\n",
              "    <tr>\n",
              "      <th>1620</th>\n",
              "      <td>1653</td>\n",
              "      <td>Entertaining Angels: The Dorothy Day Story (1996)</td>\n",
              "      <td>5.0</td>\n",
              "    </tr>\n",
              "    <tr>\n",
              "      <th>1115</th>\n",
              "      <td>1122</td>\n",
              "      <td>They Made Me a Criminal (1939)</td>\n",
              "      <td>5.0</td>\n",
              "    </tr>\n",
              "    <tr>\n",
              "      <th>1566</th>\n",
              "      <td>1599</td>\n",
              "      <td>Someone Else's America (1995)</td>\n",
              "      <td>5.0</td>\n",
              "    </tr>\n",
              "  </tbody>\n",
              "</table>\n",
              "</div>"
            ],
            "text/plain": [
              "      movie_id                                        movie title  rating\n",
              "1620      1653  Entertaining Angels: The Dorothy Day Story (1996)     5.0\n",
              "1115      1122                     They Made Me a Criminal (1939)     5.0\n",
              "1566      1599                      Someone Else's America (1995)     5.0"
            ]
          },
          "metadata": {
            "tags": []
          },
          "execution_count": 24
        }
      ]
    },
    {
      "cell_type": "markdown",
      "metadata": {
        "id": "8Ry0m2dOsZH_"
      },
      "source": [
        "### 1.b.1 finding the highest ranked movies by female"
      ]
    },
    {
      "cell_type": "code",
      "metadata": {
        "id": "ag_j9WqKrzJB",
        "outputId": "783a94e0-acb9-4992-87af-4b11c045df04",
        "colab": {
          "base_uri": "https://localhost:8080/",
          "height": 202
        }
      },
      "source": [
        "user_data = pd.read_csv(MOVIELENS_DIR + 'u.user',delimiter='|', names=['user_id','age','gender','occupation','zip code'])\n",
        "user_data.head()"
      ],
      "execution_count": null,
      "outputs": [
        {
          "output_type": "execute_result",
          "data": {
            "text/html": [
              "<div>\n",
              "<style scoped>\n",
              "    .dataframe tbody tr th:only-of-type {\n",
              "        vertical-align: middle;\n",
              "    }\n",
              "\n",
              "    .dataframe tbody tr th {\n",
              "        vertical-align: top;\n",
              "    }\n",
              "\n",
              "    .dataframe thead th {\n",
              "        text-align: right;\n",
              "    }\n",
              "</style>\n",
              "<table border=\"1\" class=\"dataframe\">\n",
              "  <thead>\n",
              "    <tr style=\"text-align: right;\">\n",
              "      <th></th>\n",
              "      <th>user_id</th>\n",
              "      <th>age</th>\n",
              "      <th>gender</th>\n",
              "      <th>occupation</th>\n",
              "      <th>zip code</th>\n",
              "    </tr>\n",
              "  </thead>\n",
              "  <tbody>\n",
              "    <tr>\n",
              "      <th>0</th>\n",
              "      <td>1</td>\n",
              "      <td>24</td>\n",
              "      <td>M</td>\n",
              "      <td>technician</td>\n",
              "      <td>85711</td>\n",
              "    </tr>\n",
              "    <tr>\n",
              "      <th>1</th>\n",
              "      <td>2</td>\n",
              "      <td>53</td>\n",
              "      <td>F</td>\n",
              "      <td>other</td>\n",
              "      <td>94043</td>\n",
              "    </tr>\n",
              "    <tr>\n",
              "      <th>2</th>\n",
              "      <td>3</td>\n",
              "      <td>23</td>\n",
              "      <td>M</td>\n",
              "      <td>writer</td>\n",
              "      <td>32067</td>\n",
              "    </tr>\n",
              "    <tr>\n",
              "      <th>3</th>\n",
              "      <td>4</td>\n",
              "      <td>24</td>\n",
              "      <td>M</td>\n",
              "      <td>technician</td>\n",
              "      <td>43537</td>\n",
              "    </tr>\n",
              "    <tr>\n",
              "      <th>4</th>\n",
              "      <td>5</td>\n",
              "      <td>33</td>\n",
              "      <td>F</td>\n",
              "      <td>other</td>\n",
              "      <td>15213</td>\n",
              "    </tr>\n",
              "  </tbody>\n",
              "</table>\n",
              "</div>"
            ],
            "text/plain": [
              "   user_id  age gender  occupation zip code\n",
              "0        1   24      M  technician    85711\n",
              "1        2   53      F       other    94043\n",
              "2        3   23      M      writer    32067\n",
              "3        4   24      M  technician    43537\n",
              "4        5   33      F       other    15213"
            ]
          },
          "metadata": {
            "tags": []
          },
          "execution_count": 25
        }
      ]
    },
    {
      "cell_type": "code",
      "metadata": {
        "id": "mZu8KpUKuIlJ",
        "outputId": "830a527b-4981-4edc-86be-5ebfacb18b43",
        "colab": {
          "base_uri": "https://localhost:8080/",
          "height": 202
        }
      },
      "source": [
        "female_user_data = user_data[user_data['gender'] == 'F']\n",
        "female_user_data.head()"
      ],
      "execution_count": null,
      "outputs": [
        {
          "output_type": "execute_result",
          "data": {
            "text/html": [
              "<div>\n",
              "<style scoped>\n",
              "    .dataframe tbody tr th:only-of-type {\n",
              "        vertical-align: middle;\n",
              "    }\n",
              "\n",
              "    .dataframe tbody tr th {\n",
              "        vertical-align: top;\n",
              "    }\n",
              "\n",
              "    .dataframe thead th {\n",
              "        text-align: right;\n",
              "    }\n",
              "</style>\n",
              "<table border=\"1\" class=\"dataframe\">\n",
              "  <thead>\n",
              "    <tr style=\"text-align: right;\">\n",
              "      <th></th>\n",
              "      <th>user_id</th>\n",
              "      <th>age</th>\n",
              "      <th>gender</th>\n",
              "      <th>occupation</th>\n",
              "      <th>zip code</th>\n",
              "    </tr>\n",
              "  </thead>\n",
              "  <tbody>\n",
              "    <tr>\n",
              "      <th>1</th>\n",
              "      <td>2</td>\n",
              "      <td>53</td>\n",
              "      <td>F</td>\n",
              "      <td>other</td>\n",
              "      <td>94043</td>\n",
              "    </tr>\n",
              "    <tr>\n",
              "      <th>4</th>\n",
              "      <td>5</td>\n",
              "      <td>33</td>\n",
              "      <td>F</td>\n",
              "      <td>other</td>\n",
              "      <td>15213</td>\n",
              "    </tr>\n",
              "    <tr>\n",
              "      <th>10</th>\n",
              "      <td>11</td>\n",
              "      <td>39</td>\n",
              "      <td>F</td>\n",
              "      <td>other</td>\n",
              "      <td>30329</td>\n",
              "    </tr>\n",
              "    <tr>\n",
              "      <th>11</th>\n",
              "      <td>12</td>\n",
              "      <td>28</td>\n",
              "      <td>F</td>\n",
              "      <td>other</td>\n",
              "      <td>06405</td>\n",
              "    </tr>\n",
              "    <tr>\n",
              "      <th>14</th>\n",
              "      <td>15</td>\n",
              "      <td>49</td>\n",
              "      <td>F</td>\n",
              "      <td>educator</td>\n",
              "      <td>97301</td>\n",
              "    </tr>\n",
              "  </tbody>\n",
              "</table>\n",
              "</div>"
            ],
            "text/plain": [
              "    user_id  age gender occupation zip code\n",
              "1         2   53      F      other    94043\n",
              "4         5   33      F      other    15213\n",
              "10       11   39      F      other    30329\n",
              "11       12   28      F      other    06405\n",
              "14       15   49      F   educator    97301"
            ]
          },
          "metadata": {
            "tags": []
          },
          "execution_count": 26
        }
      ]
    },
    {
      "cell_type": "code",
      "metadata": {
        "id": "aBbwRyLQub7T",
        "outputId": "e7e045b0-e39b-40c2-e96b-4ad6e956b8a5",
        "colab": {
          "base_uri": "https://localhost:8080/",
          "height": 202
        }
      },
      "source": [
        "female_user_rating = user_rating.merge(female_user_data['user_id'],on = 'user_id',how = 'inner')\n",
        "female_user_rating.head()"
      ],
      "execution_count": null,
      "outputs": [
        {
          "output_type": "execute_result",
          "data": {
            "text/html": [
              "<div>\n",
              "<style scoped>\n",
              "    .dataframe tbody tr th:only-of-type {\n",
              "        vertical-align: middle;\n",
              "    }\n",
              "\n",
              "    .dataframe tbody tr th {\n",
              "        vertical-align: top;\n",
              "    }\n",
              "\n",
              "    .dataframe thead th {\n",
              "        text-align: right;\n",
              "    }\n",
              "</style>\n",
              "<table border=\"1\" class=\"dataframe\">\n",
              "  <thead>\n",
              "    <tr style=\"text-align: right;\">\n",
              "      <th></th>\n",
              "      <th>user_id</th>\n",
              "      <th>movie_id</th>\n",
              "      <th>rating</th>\n",
              "      <th>timestamp</th>\n",
              "    </tr>\n",
              "  </thead>\n",
              "  <tbody>\n",
              "    <tr>\n",
              "      <th>0</th>\n",
              "      <td>2</td>\n",
              "      <td>1</td>\n",
              "      <td>4</td>\n",
              "      <td>888550871</td>\n",
              "    </tr>\n",
              "    <tr>\n",
              "      <th>1</th>\n",
              "      <td>2</td>\n",
              "      <td>10</td>\n",
              "      <td>2</td>\n",
              "      <td>888551853</td>\n",
              "    </tr>\n",
              "    <tr>\n",
              "      <th>2</th>\n",
              "      <td>2</td>\n",
              "      <td>14</td>\n",
              "      <td>4</td>\n",
              "      <td>888551853</td>\n",
              "    </tr>\n",
              "    <tr>\n",
              "      <th>3</th>\n",
              "      <td>2</td>\n",
              "      <td>25</td>\n",
              "      <td>4</td>\n",
              "      <td>888551648</td>\n",
              "    </tr>\n",
              "    <tr>\n",
              "      <th>4</th>\n",
              "      <td>2</td>\n",
              "      <td>100</td>\n",
              "      <td>5</td>\n",
              "      <td>888552084</td>\n",
              "    </tr>\n",
              "  </tbody>\n",
              "</table>\n",
              "</div>"
            ],
            "text/plain": [
              "   user_id  movie_id  rating  timestamp\n",
              "0        2         1       4  888550871\n",
              "1        2        10       2  888551853\n",
              "2        2        14       4  888551853\n",
              "3        2        25       4  888551648\n",
              "4        2       100       5  888552084"
            ]
          },
          "metadata": {
            "tags": []
          },
          "execution_count": 27
        }
      ]
    },
    {
      "cell_type": "code",
      "metadata": {
        "id": "4Fas_gUKwGqJ",
        "outputId": "4fe2cca9-da9a-415d-8766-41c65e4388fa",
        "colab": {
          "base_uri": "https://localhost:8080/",
          "height": 339
        }
      },
      "source": [
        "female_average_movie_ratings = female_user_rating.groupby('movie_id')[['rating']].mean().round(1)\n",
        "\n",
        "female_movie_data_ratings_data=data.merge(female_average_movie_ratings,on = 'movie_id',how = 'inner')\n",
        "\n",
        "female_rating_movie_count = female_movie_data_ratings_data.groupby('rating').size().reset_index(name='count')\n",
        "\n",
        "fig = plt.figure(1, figsize=(18,13))\n",
        "ax2 = fig.add_subplot(2,1,2)\n",
        "y_axis = female_rating_movie_count['count']\n",
        "x_axis = female_rating_movie_count['rating']\n",
        "plt.xticks(np.arange(min(x_axis), max(x_axis) + 1, 1), rotation=90, fontsize = 15)\n",
        "plt.yticks(fontsize = 15)\n",
        "plt.ylabel(\"Number of movies\", fontsize = 24, labelpad = 0)\n",
        "plt.xlabel('Average rating', fontsize = 24, labelpad = 0)\n",
        "ax2.bar(x_axis, y_axis, align = 'center', color='b', width=0.08)\n",
        "plt.title(\"Number of movies for each average rating by female\",bbox={'facecolor':'k', 'pad':5},color='w',fontsize = 30)\n",
        "plt.show()"
      ],
      "execution_count": null,
      "outputs": [
        {
          "output_type": "display_data",
          "data": {
            "image/png": "[encoded data removed]",
            "text/plain": [
              "<Figure size 1296x936 with 1 Axes>"
            ]
          },
          "metadata": {
            "tags": [],
            "needs_background": "light"
          }
        }
      ]
    },
    {
      "cell_type": "code",
      "metadata": {
        "id": "6u14mYl5ySnF",
        "outputId": "9017b649-f01e-458d-ef22-33cbb60ea196",
        "colab": {
          "base_uri": "https://localhost:8080/",
          "height": 141
        }
      },
      "source": [
        "female_sorted_ratings = female_movie_data_ratings_data.sort_values(by=['rating'], ascending=False)[['movie_id', 'movie title', 'rating']]\n",
        "female_sorted_ratings.head(3)"
      ],
      "execution_count": null,
      "outputs": [
        {
          "output_type": "execute_result",
          "data": {
            "text/html": [
              "<div>\n",
              "<style scoped>\n",
              "    .dataframe tbody tr th:only-of-type {\n",
              "        vertical-align: middle;\n",
              "    }\n",
              "\n",
              "    .dataframe tbody tr th {\n",
              "        vertical-align: top;\n",
              "    }\n",
              "\n",
              "    .dataframe thead th {\n",
              "        text-align: right;\n",
              "    }\n",
              "</style>\n",
              "<table border=\"1\" class=\"dataframe\">\n",
              "  <thead>\n",
              "    <tr style=\"text-align: right;\">\n",
              "      <th></th>\n",
              "      <th>movie_id</th>\n",
              "      <th>movie title</th>\n",
              "      <th>rating</th>\n",
              "    </tr>\n",
              "  </thead>\n",
              "  <tbody>\n",
              "    <tr>\n",
              "      <th>1286</th>\n",
              "      <td>1368</td>\n",
              "      <td>Mina Tannenbaum (1994)</td>\n",
              "      <td>5.0</td>\n",
              "    </tr>\n",
              "    <tr>\n",
              "      <th>1364</th>\n",
              "      <td>1472</td>\n",
              "      <td>Visitors, The (Visiteurs, Les) (1993)</td>\n",
              "      <td>5.0</td>\n",
              "    </tr>\n",
              "    <tr>\n",
              "      <th>1155</th>\n",
              "      <td>1189</td>\n",
              "      <td>Prefontaine (1997)</td>\n",
              "      <td>5.0</td>\n",
              "    </tr>\n",
              "  </tbody>\n",
              "</table>\n",
              "</div>"
            ],
            "text/plain": [
              "      movie_id                            movie title  rating\n",
              "1286      1368                 Mina Tannenbaum (1994)     5.0\n",
              "1364      1472  Visitors, The (Visiteurs, Les) (1993)     5.0\n",
              "1155      1189                     Prefontaine (1997)     5.0"
            ]
          },
          "metadata": {
            "tags": []
          },
          "execution_count": 29
        }
      ]
    },
    {
      "cell_type": "markdown",
      "metadata": {
        "id": "-KV9tpfHs4oG"
      },
      "source": [
        "### 1.b.2 finding the highest ranked movies by male"
      ]
    },
    {
      "cell_type": "code",
      "metadata": {
        "id": "NuQzdcfjyqe8",
        "outputId": "653dc082-1173-46ef-c28a-d3ab38869c88",
        "colab": {
          "base_uri": "https://localhost:8080/",
          "height": 339
        }
      },
      "source": [
        "male_user_data = user_data[user_data['gender'] == 'M']\n",
        "male_user_rating = user_rating.merge(male_user_data['user_id'],on = 'user_id',how = 'inner')\n",
        "male_average_movie_ratings = male_user_rating.groupby('movie_id')[['rating']].mean().round(1)\n",
        "\n",
        "male_movie_data_ratings_data=data.merge(male_average_movie_ratings,on = 'movie_id',how = 'inner')\n",
        "\n",
        "male_rating_movie_count = male_movie_data_ratings_data.groupby('rating').size().reset_index(name='count')\n",
        "\n",
        "fig = plt.figure(1, figsize=(18,13))\n",
        "ax2 = fig.add_subplot(2,1,2)\n",
        "y_axis = male_rating_movie_count['count']\n",
        "x_axis = male_rating_movie_count['rating']\n",
        "plt.xticks(np.arange(min(x_axis), max(x_axis) + 1, 1), rotation=90, fontsize = 15)\n",
        "plt.yticks(fontsize = 15)\n",
        "plt.ylabel(\"Number of movies\", fontsize = 24, labelpad = 0)\n",
        "plt.xlabel('Average rating', fontsize = 24, labelpad = 0)\n",
        "ax2.bar(x_axis, y_axis, align = 'center', color='b', width=0.08)\n",
        "plt.title(\"Number of movies for each average rating by male\",bbox={'facecolor':'k', 'pad':5},color='w',fontsize = 30)\n",
        "plt.show()"
      ],
      "execution_count": null,
      "outputs": [
        {
          "output_type": "display_data",
          "data": {
            "image/png": "[encoded data removed]",
            "text/plain": [
              "<Figure size 1296x936 with 1 Axes>"
            ]
          },
          "metadata": {
            "tags": [],
            "needs_background": "light"
          }
        }
      ]
    },
    {
      "cell_type": "code",
      "metadata": {
        "id": "QXhEes4403sS",
        "outputId": "15a1cc4f-bf20-4653-e3fa-e2b9658a3102",
        "colab": {
          "base_uri": "https://localhost:8080/",
          "height": 141
        }
      },
      "source": [
        "male_sorted_ratings = male_movie_data_ratings_data.sort_values(by=['rating'], ascending=False)[['movie_id', 'movie title', 'rating']]\n",
        "male_sorted_ratings.head(3)"
      ],
      "execution_count": null,
      "outputs": [
        {
          "output_type": "execute_result",
          "data": {
            "text/html": [
              "<div>\n",
              "<style scoped>\n",
              "    .dataframe tbody tr th:only-of-type {\n",
              "        vertical-align: middle;\n",
              "    }\n",
              "\n",
              "    .dataframe tbody tr th {\n",
              "        vertical-align: top;\n",
              "    }\n",
              "\n",
              "    .dataframe thead th {\n",
              "        text-align: right;\n",
              "    }\n",
              "</style>\n",
              "<table border=\"1\" class=\"dataframe\">\n",
              "  <thead>\n",
              "    <tr style=\"text-align: right;\">\n",
              "      <th></th>\n",
              "      <th>movie_id</th>\n",
              "      <th>movie title</th>\n",
              "      <th>rating</th>\n",
              "    </tr>\n",
              "  </thead>\n",
              "  <tbody>\n",
              "    <tr>\n",
              "      <th>1156</th>\n",
              "      <td>1175</td>\n",
              "      <td>Hugo Pool (1997)</td>\n",
              "      <td>5.0</td>\n",
              "    </tr>\n",
              "    <tr>\n",
              "      <th>1539</th>\n",
              "      <td>1656</td>\n",
              "      <td>Little City (1998)</td>\n",
              "      <td>5.0</td>\n",
              "    </tr>\n",
              "    <tr>\n",
              "      <th>1105</th>\n",
              "      <td>1122</td>\n",
              "      <td>They Made Me a Criminal (1939)</td>\n",
              "      <td>5.0</td>\n",
              "    </tr>\n",
              "  </tbody>\n",
              "</table>\n",
              "</div>"
            ],
            "text/plain": [
              "      movie_id                     movie title  rating\n",
              "1156      1175                Hugo Pool (1997)     5.0\n",
              "1539      1656              Little City (1998)     5.0\n",
              "1105      1122  They Made Me a Criminal (1939)     5.0"
            ]
          },
          "metadata": {
            "tags": []
          },
          "execution_count": 31
        }
      ]
    },
    {
      "cell_type": "code",
      "metadata": {
        "id": "qbumpCOP1XRs",
        "outputId": "2b0f1657-326d-4478-d4d0-3ec5acfb8b35",
        "colab": {
          "base_uri": "https://localhost:8080/",
          "height": 141
        }
      },
      "source": [
        "merged_ratings = male_average_movie_ratings.merge(female_average_movie_ratings, on='movie_id', how='inner', suffixes=('_male', '_female'))\n",
        "merged_ratings['rating_diff'] = np.abs(merged_ratings['rating_male'] - merged_ratings['rating_female'])\n",
        "merged_ratings_with_movies = data.merge(merged_ratings[['rating_diff']], on='movie_id', how='inner').sort_values(by='rating_diff', ascending=False)\n",
        "merged_ratings_with_movies[['movie_id', 'movie title', 'rating_diff']].head(3)"
      ],
      "execution_count": null,
      "outputs": [
        {
          "output_type": "execute_result",
          "data": {
            "text/html": [
              "<div>\n",
              "<style scoped>\n",
              "    .dataframe tbody tr th:only-of-type {\n",
              "        vertical-align: middle;\n",
              "    }\n",
              "\n",
              "    .dataframe tbody tr th {\n",
              "        vertical-align: top;\n",
              "    }\n",
              "\n",
              "    .dataframe thead th {\n",
              "        text-align: right;\n",
              "    }\n",
              "</style>\n",
              "<table border=\"1\" class=\"dataframe\">\n",
              "  <thead>\n",
              "    <tr style=\"text-align: right;\">\n",
              "      <th></th>\n",
              "      <th>movie_id</th>\n",
              "      <th>movie title</th>\n",
              "      <th>rating_diff</th>\n",
              "    </tr>\n",
              "  </thead>\n",
              "  <tbody>\n",
              "    <tr>\n",
              "      <th>1131</th>\n",
              "      <td>1175</td>\n",
              "      <td>Hugo Pool (1997)</td>\n",
              "      <td>4.0</td>\n",
              "    </tr>\n",
              "    <tr>\n",
              "      <th>830</th>\n",
              "      <td>851</td>\n",
              "      <td>Two or Three Things I Know About Her (1966)</td>\n",
              "      <td>3.7</td>\n",
              "    </tr>\n",
              "    <tr>\n",
              "      <th>631</th>\n",
              "      <td>641</td>\n",
              "      <td>Paths of Glory (1957)</td>\n",
              "      <td>3.5</td>\n",
              "    </tr>\n",
              "  </tbody>\n",
              "</table>\n",
              "</div>"
            ],
            "text/plain": [
              "      movie_id                                  movie title  rating_diff\n",
              "1131      1175                             Hugo Pool (1997)          4.0\n",
              "830        851  Two or Three Things I Know About Her (1966)          3.7\n",
              "631        641                        Paths of Glory (1957)          3.5"
            ]
          },
          "metadata": {
            "tags": []
          },
          "execution_count": 33
        }
      ]
    },
    {
      "cell_type": "markdown",
      "metadata": {
        "id": "htprxko4tKBs"
      },
      "source": [
        "### 1.c.1  finding the distribution of movies by genre"
      ]
    },
    {
      "cell_type": "code",
      "metadata": {
        "id": "fWWtNDxcQggy"
      },
      "source": [
        "genres = ['unknown','Action','Adventure','Animation','Childrens','Comedy','Crime','Documentary','Drama','Fantasy','Film-Noir','Horror',\n",
        "'Musical','Mystery','Romance','Sci-Fi','Thriller','War','Western']"
      ],
      "execution_count": null,
      "outputs": []
    },
    {
      "cell_type": "code",
      "metadata": {
        "id": "FAyrEVHCHbxu"
      },
      "source": [
        "high_rated= movie_data_ratings_data['rating']>4.0\n",
        "highR=movie_data_ratings_data[high_rated]\n",
        "genres_count = {}\n"
      ],
      "execution_count": null,
      "outputs": []
    },
    {
      "cell_type": "code",
      "metadata": {
        "id": "BiHDt-YaNTbv",
        "outputId": "9001d76f-eae4-427d-bffc-89ddf7b35ba5",
        "colab": {
          "base_uri": "https://localhost:8080/",
          "height": 55
        }
      },
      "source": [
        "for genre in genres:\n",
        "    count = 0\n",
        "    genre_movies = highR[genre] == 1\n",
        "    genres_count[genre] = highR[genre_movies].shape[0]\n",
        "print(genres_count)"
      ],
      "execution_count": null,
      "outputs": [
        {
          "output_type": "stream",
          "text": [
            "{'unknown': 0, 'Action': 12, 'Adventure': 9, 'Animation': 4, 'Childrens': 1, 'Comedy': 16, 'Crime': 9, 'Documentary': 7, 'Drama': 56, 'Fantasy': 1, 'Film-Noir': 9, 'Horror': 1, 'Musical': 0, 'Mystery': 11, 'Romance': 14, 'Sci-Fi': 5, 'Thriller': 22, 'War': 19, 'Western': 2}\n"
          ],
          "name": "stdout"
        }
      ]
    },
    {
      "cell_type": "code",
      "metadata": {
        "id": "QxxwZaHfX_W9",
        "outputId": "324995ae-e980-4845-c078-2a2d91bc29e8",
        "colab": {
          "base_uri": "https://localhost:8080/",
          "height": 397
        }
      },
      "source": [
        "genres_count_list = sorted(genres_count.items(), key=operator.itemgetter(1),reverse=True)\n",
        "fig = plt.figure(1, figsize=(18,13))\n",
        "ax2 = fig.add_subplot(2,1,2)\n",
        "y_axis = [genre[1] for genre in genres_count_list]\n",
        "x_axis = [i for i in range(len(genres_count))]\n",
        "x_label = [genre[0] for genre in genres_count_list]\n",
        "plt.xticks(rotation=85, fontsize = 15)\n",
        "plt.yticks(fontsize = 15)\n",
        "plt.xticks(x_axis, x_label)\n",
        "plt.ylabel(\"No. of occurences\", fontsize = 24, labelpad = 0)\n",
        "ax2.bar(x_axis, y_axis, align = 'center', color='b')\n",
        "plt.title(\"Distribution of high rank movies by genre\",bbox={'facecolor':'k', 'pad':5},color='w',fontsize = 30)\n",
        "plt.show()"
      ],
      "execution_count": null,
      "outputs": [
        {
          "output_type": "display_data",
          "data": {
            "image/png": "[encoded data removed]",
            "text/plain": [
              "<Figure size 1296x936 with 1 Axes>"
            ]
          },
          "metadata": {
            "tags": [],
            "needs_background": "light"
          }
        }
      ]
    },
    {
      "cell_type": "code",
      "metadata": {
        "id": "8DZJFZdNLFzo"
      },
      "source": [
        "low_rated= movie_data_ratings_data['rating']<2.0\n",
        "lowR=movie_data_ratings_data[low_rated]\n",
        "genres_count = {}\n",
        "for genre in genres:\n",
        "    count = 0\n",
        "    genre_movies = lowR[genre] == 1\n",
        "    genres_count[genre] = lowR[genre_movies].shape[0]\n"
      ],
      "execution_count": null,
      "outputs": []
    },
    {
      "cell_type": "code",
      "metadata": {
        "id": "uSEIGDD7LbX3",
        "outputId": "d64efa53-dffe-43f2-a708-345fe78e4828",
        "colab": {
          "base_uri": "https://localhost:8080/",
          "height": 397
        }
      },
      "source": [
        "genres_count_list = sorted(genres_count.items(), key=operator.itemgetter(1),reverse=True)\n",
        "fig = plt.figure(1, figsize=(18,13))\n",
        "ax2 = fig.add_subplot(2,1,2)\n",
        "y_axis = [genre[1] for genre in genres_count_list]\n",
        "x_axis = [i for i in range(len(genres_count))]\n",
        "x_label = [genre[0] for genre in genres_count_list]\n",
        "plt.xticks(rotation=85, fontsize = 15)\n",
        "plt.yticks(fontsize = 15)\n",
        "plt.xticks(x_axis, x_label)\n",
        "plt.ylabel(\"No. of occurences\", fontsize = 24, labelpad = 0)\n",
        "ax2.bar(x_axis, y_axis, align = 'center', color='b')\n",
        "plt.title(\"Distribution of low rank movies by genre\",bbox={'facecolor':'k', 'pad':5},color='w',fontsize = 30)\n",
        "plt.show()"
      ],
      "execution_count": null,
      "outputs": [
        {
          "output_type": "display_data",
          "data": {
            "image/png": "[encoded data removed]",
            "text/plain": [
              "<Figure size 1296x936 with 1 Axes>"
            ]
          },
          "metadata": {
            "tags": [],
            "needs_background": "light"
          }
        }
      ]
    },
    {
      "cell_type": "markdown",
      "metadata": {
        "id": "YYEBKhT8tQkS"
      },
      "source": [
        "### 1.c.2 Finding the distribution of movies by genre by male"
      ]
    },
    {
      "cell_type": "code",
      "metadata": {
        "id": "dgih7Nb4OuAD",
        "outputId": "7069a688-3bb5-4f59-bbf5-3a6178f50969",
        "colab": {
          "base_uri": "https://localhost:8080/",
          "height": 55
        }
      },
      "source": [
        "lowR=male_movie_data_ratings_data['rating']<2\n",
        "male_low_rating=lowR=male_movie_data_ratings_data[lowR]\n",
        "genres_count = {}\n",
        "for genre in genres:\n",
        "    count = 0\n",
        "    genre_movies = male_low_rating[genre] == 1\n",
        "    genres_count[genre] = male_low_rating[genre_movies].shape[0]\n",
        "print(genres_count)\n"
      ],
      "execution_count": null,
      "outputs": [
        {
          "output_type": "stream",
          "text": [
            "{'unknown': 0, 'Action': 9, 'Adventure': 5, 'Animation': 0, 'Childrens': 10, 'Comedy': 30, 'Crime': 3, 'Documentary': 2, 'Drama': 29, 'Fantasy': 2, 'Film-Noir': 0, 'Horror': 11, 'Musical': 1, 'Mystery': 0, 'Romance': 5, 'Sci-Fi': 4, 'Thriller': 8, 'War': 0, 'Western': 1}\n"
          ],
          "name": "stdout"
        }
      ]
    },
    {
      "cell_type": "code",
      "metadata": {
        "id": "VR5KMEOtP0Fh",
        "outputId": "833a8c27-d924-416b-f955-4e0188b729a4",
        "colab": {
          "base_uri": "https://localhost:8080/",
          "height": 397
        }
      },
      "source": [
        "genres_count_list = sorted(genres_count.items(), key=operator.itemgetter(1),reverse=True)\n",
        "fig = plt.figure(1, figsize=(18,13))\n",
        "ax2 = fig.add_subplot(2,1,2)\n",
        "y_axis = [genre[1] for genre in genres_count_list]\n",
        "x_axis = [i for i in range(len(genres_count))]\n",
        "x_label = [genre[0] for genre in genres_count_list]\n",
        "plt.xticks(rotation=85, fontsize = 15)\n",
        "plt.yticks(fontsize = 15)\n",
        "plt.xticks(x_axis, x_label)\n",
        "plt.ylabel(\"No. of occurences\", fontsize = 24, labelpad = 0)\n",
        "ax2.bar(x_axis, y_axis, align = 'center', color='b')\n",
        "plt.title(\"Distribution of low rank movies by genre by male\",bbox={'facecolor':'k', 'pad':5},color='w',fontsize = 30)\n",
        "plt.show()"
      ],
      "execution_count": null,
      "outputs": [
        {
          "output_type": "display_data",
          "data": {
            "image/png": "[encoded data removed]",
            "text/plain": [
              "<Figure size 1296x936 with 1 Axes>"
            ]
          },
          "metadata": {
            "tags": [],
            "needs_background": "light"
          }
        }
      ]
    },
    {
      "cell_type": "code",
      "metadata": {
        "id": "V_iDYUlbP_iO",
        "outputId": "d0bd5dcb-cad7-460e-dcef-0ca586eee752",
        "colab": {
          "base_uri": "https://localhost:8080/",
          "height": 55
        }
      },
      "source": [
        "highR=male_movie_data_ratings_data['rating']>4\n",
        "male_high_rating=lowR=male_movie_data_ratings_data[highR]\n",
        "genres_count = {}\n",
        "for genre in genres:\n",
        "    count = 0\n",
        "    genre_movies = male_high_rating[genre] == 1\n",
        "    genres_count[genre] = male_high_rating[genre_movies].shape[0]\n",
        "print(genres_count)"
      ],
      "execution_count": null,
      "outputs": [
        {
          "output_type": "stream",
          "text": [
            "{'unknown': 0, 'Action': 11, 'Adventure': 10, 'Animation': 4, 'Childrens': 3, 'Comedy': 24, 'Crime': 14, 'Documentary': 6, 'Drama': 69, 'Fantasy': 1, 'Film-Noir': 12, 'Horror': 3, 'Musical': 0, 'Mystery': 13, 'Romance': 16, 'Sci-Fi': 7, 'Thriller': 27, 'War': 18, 'Western': 2}\n"
          ],
          "name": "stdout"
        }
      ]
    },
    {
      "cell_type": "code",
      "metadata": {
        "id": "93zKJigEQaXV",
        "outputId": "7455c318-40bb-4229-aaf3-01f705fddcab",
        "colab": {
          "base_uri": "https://localhost:8080/",
          "height": 397
        }
      },
      "source": [
        "genres_count_list = sorted(genres_count.items(), key=operator.itemgetter(1),reverse=True)\n",
        "fig = plt.figure(1, figsize=(18,13))\n",
        "ax2 = fig.add_subplot(2,1,2)\n",
        "y_axis = [genre[1] for genre in genres_count_list]\n",
        "x_axis = [i for i in range(len(genres_count))]\n",
        "x_label = [genre[0] for genre in genres_count_list]\n",
        "plt.xticks(rotation=85, fontsize = 15)\n",
        "plt.yticks(fontsize = 15)\n",
        "plt.xticks(x_axis, x_label)\n",
        "plt.ylabel(\"No. of occurences\", fontsize = 24, labelpad = 0)\n",
        "ax2.bar(x_axis, y_axis, align = 'center', color='b')\n",
        "plt.title(\"Distribution of high rank movies by genre by male\",bbox={'facecolor':'k', 'pad':5},color='w',fontsize = 30)\n",
        "plt.show()"
      ],
      "execution_count": null,
      "outputs": [
        {
          "output_type": "display_data",
          "data": {
            "image/png": "[encoded data removed]",
            "text/plain": [
              "<Figure size 1296x936 with 1 Axes>"
            ]
          },
          "metadata": {
            "tags": [],
            "needs_background": "light"
          }
        }
      ]
    },
    {
      "cell_type": "markdown",
      "metadata": {
        "id": "saGzhq6Nta79"
      },
      "source": [
        "### 1.c.3 Finding the distribution of movies by genre by female"
      ]
    },
    {
      "cell_type": "code",
      "metadata": {
        "id": "oqGKmaiRQqEG",
        "outputId": "e146859f-78cd-491c-a3f3-9e0d2234a30d",
        "colab": {
          "base_uri": "https://localhost:8080/",
          "height": 55
        }
      },
      "source": [
        "highR=female_movie_data_ratings_data['rating']>4\n",
        "female_high_rating=lowR=female_movie_data_ratings_data[highR]\n",
        "genres_count = {}\n",
        "for genre in genres:\n",
        "    count = 0\n",
        "    genre_movies = female_high_rating[genre] == 1\n",
        "    genres_count[genre] = female_high_rating[genre_movies].shape[0]\n",
        "print(genres_count)"
      ],
      "execution_count": null,
      "outputs": [
        {
          "output_type": "stream",
          "text": [
            "{'unknown': 0, 'Action': 14, 'Adventure': 5, 'Animation': 5, 'Childrens': 3, 'Comedy': 25, 'Crime': 3, 'Documentary': 4, 'Drama': 63, 'Fantasy': 0, 'Film-Noir': 2, 'Horror': 1, 'Musical': 5, 'Mystery': 7, 'Romance': 27, 'Sci-Fi': 4, 'Thriller': 19, 'War': 13, 'Western': 0}\n"
          ],
          "name": "stdout"
        }
      ]
    },
    {
      "cell_type": "code",
      "metadata": {
        "id": "PGOM9a-nQ7Vn",
        "outputId": "c593ea38-768e-43c8-aba4-dd8d162ffbe3",
        "colab": {
          "base_uri": "https://localhost:8080/",
          "height": 397
        }
      },
      "source": [
        "genres_count_list = sorted(genres_count.items(), key=operator.itemgetter(1),reverse=True)\n",
        "fig = plt.figure(1, figsize=(18,13))\n",
        "ax2 = fig.add_subplot(2,1,2)\n",
        "y_axis = [genre[1] for genre in genres_count_list]\n",
        "x_axis = [i for i in range(len(genres_count))]\n",
        "x_label = [genre[0] for genre in genres_count_list]\n",
        "plt.xticks(rotation=85, fontsize = 15)\n",
        "plt.yticks(fontsize = 15)\n",
        "plt.xticks(x_axis, x_label)\n",
        "plt.ylabel(\"No. of occurences\", fontsize = 24, labelpad = 0)\n",
        "ax2.bar(x_axis, y_axis, align = 'center', color='b')\n",
        "plt.title(\"Distribution of high rank movies by genre by female\",bbox={'facecolor':'k', 'pad':5},color='w',fontsize = 30)\n",
        "plt.show()"
      ],
      "execution_count": null,
      "outputs": [
        {
          "output_type": "display_data",
          "data": {
            "image/png": "[encoded data removed]",
            "text/plain": [
              "<Figure size 1296x936 with 1 Axes>"
            ]
          },
          "metadata": {
            "tags": [],
            "needs_background": "light"
          }
        }
      ]
    },
    {
      "cell_type": "code",
      "metadata": {
        "id": "qs0UnAhARFEV",
        "outputId": "4926e2ed-8353-4bfc-f01d-fe97ffd93ce1",
        "colab": {
          "base_uri": "https://localhost:8080/",
          "height": 55
        }
      },
      "source": [
        "lowR=female_movie_data_ratings_data['rating']<2\n",
        "female_low_rating=lowR=female_movie_data_ratings_data[lowR]\n",
        "genres_count = {}\n",
        "for genre in genres:\n",
        "    count = 0\n",
        "    genre_movies = female_low_rating[genre] == 1\n",
        "    genres_count[genre] = female_low_rating[genre_movies].shape[0]\n",
        "print(genres_count)"
      ],
      "execution_count": null,
      "outputs": [
        {
          "output_type": "stream",
          "text": [
            "{'unknown': 0, 'Action': 16, 'Adventure': 4, 'Animation': 1, 'Childrens': 7, 'Comedy': 32, 'Crime': 7, 'Documentary': 3, 'Drama': 47, 'Fantasy': 3, 'Film-Noir': 0, 'Horror': 20, 'Musical': 2, 'Mystery': 2, 'Romance': 14, 'Sci-Fi': 3, 'Thriller': 12, 'War': 5, 'Western': 3}\n"
          ],
          "name": "stdout"
        }
      ]
    },
    {
      "cell_type": "code",
      "metadata": {
        "id": "5iI2hvxORWGL",
        "outputId": "1ea4a2c6-8ba6-4225-bef5-71fc1f355db5",
        "colab": {
          "base_uri": "https://localhost:8080/",
          "height": 397
        }
      },
      "source": [
        "genres_count_list = sorted(genres_count.items(), key=operator.itemgetter(1),reverse=True)\n",
        "fig = plt.figure(1, figsize=(18,13))\n",
        "ax2 = fig.add_subplot(2,1,2)\n",
        "y_axis = [genre[1] for genre in genres_count_list]\n",
        "x_axis = [i for i in range(len(genres_count))]\n",
        "x_label = [genre[0] for genre in genres_count_list]\n",
        "plt.xticks(rotation=85, fontsize = 15)\n",
        "plt.yticks(fontsize = 15)\n",
        "plt.xticks(x_axis, x_label)\n",
        "plt.ylabel(\"No. of occurences\", fontsize = 24, labelpad = 0)\n",
        "ax2.bar(x_axis, y_axis, align = 'center', color='b')\n",
        "plt.title(\"Distribution of low rank movies by genre by female\",bbox={'facecolor':'k', 'pad':5},color='w',fontsize = 30)\n",
        "plt.show()"
      ],
      "execution_count": null,
      "outputs": [
        {
          "output_type": "display_data",
          "data": {
            "image/png": "[encoded data removed]",
            "text/plain": [
              "<Figure size 1296x936 with 1 Axes>"
            ]
          },
          "metadata": {
            "tags": [],
            "needs_background": "light"
          }
        }
      ]
    },
    {
      "cell_type": "markdown",
      "metadata": {
        "id": "aleoF4twt0iU"
      },
      "source": [
        "### 1.d Finding the most popular movies"
      ]
    },
    {
      "cell_type": "code",
      "metadata": {
        "id": "SFaSuaOqBca5",
        "outputId": "3f21536a-640a-4dca-8659-1847b0bdcc13",
        "colab": {
          "base_uri": "https://localhost:8080/",
          "height": 446
        }
      },
      "source": [
        "user_rating.head()\n",
        "user_rating['freq']=user_rating.groupby('movie_id')['movie_id'].transform('count')\n",
        "user_rating.sort_values(by='freq', ascending=False)\n",
        "popular=user_rating.sort_values(by='freq',ascending=False)\n",
        "aggregation_functions = { 'freq': 'first'}\n",
        "popular_movies=popular.groupby(popular['movie_id']).aggregate(aggregation_functions)\n",
        "p=popular_movies.sort_values(by='freq',ascending=False)\n",
        "p\n"
      ],
      "execution_count": null,
      "outputs": [
        {
          "output_type": "execute_result",
          "data": {
            "text/html": [
              "<div>\n",
              "<style scoped>\n",
              "    .dataframe tbody tr th:only-of-type {\n",
              "        vertical-align: middle;\n",
              "    }\n",
              "\n",
              "    .dataframe tbody tr th {\n",
              "        vertical-align: top;\n",
              "    }\n",
              "\n",
              "    .dataframe thead th {\n",
              "        text-align: right;\n",
              "    }\n",
              "</style>\n",
              "<table border=\"1\" class=\"dataframe\">\n",
              "  <thead>\n",
              "    <tr style=\"text-align: right;\">\n",
              "      <th></th>\n",
              "      <th>freq</th>\n",
              "    </tr>\n",
              "    <tr>\n",
              "      <th>movie_id</th>\n",
              "      <th></th>\n",
              "    </tr>\n",
              "  </thead>\n",
              "  <tbody>\n",
              "    <tr>\n",
              "      <th>50</th>\n",
              "      <td>484</td>\n",
              "    </tr>\n",
              "    <tr>\n",
              "      <th>181</th>\n",
              "      <td>422</td>\n",
              "    </tr>\n",
              "    <tr>\n",
              "      <th>258</th>\n",
              "      <td>402</td>\n",
              "    </tr>\n",
              "    <tr>\n",
              "      <th>100</th>\n",
              "      <td>395</td>\n",
              "    </tr>\n",
              "    <tr>\n",
              "      <th>294</th>\n",
              "      <td>394</td>\n",
              "    </tr>\n",
              "    <tr>\n",
              "      <th>...</th>\n",
              "      <td>...</td>\n",
              "    </tr>\n",
              "    <tr>\n",
              "      <th>1564</th>\n",
              "      <td>1</td>\n",
              "    </tr>\n",
              "    <tr>\n",
              "      <th>1566</th>\n",
              "      <td>1</td>\n",
              "    </tr>\n",
              "    <tr>\n",
              "      <th>1567</th>\n",
              "      <td>1</td>\n",
              "    </tr>\n",
              "    <tr>\n",
              "      <th>1340</th>\n",
              "      <td>1</td>\n",
              "    </tr>\n",
              "    <tr>\n",
              "      <th>1682</th>\n",
              "      <td>1</td>\n",
              "    </tr>\n",
              "  </tbody>\n",
              "</table>\n",
              "<p>1650 rows × 1 columns</p>\n",
              "</div>"
            ],
            "text/plain": [
              "          freq\n",
              "movie_id      \n",
              "50         484\n",
              "181        422\n",
              "258        402\n",
              "100        395\n",
              "294        394\n",
              "...        ...\n",
              "1564         1\n",
              "1566         1\n",
              "1567         1\n",
              "1340         1\n",
              "1682         1\n",
              "\n",
              "[1650 rows x 1 columns]"
            ]
          },
          "metadata": {
            "tags": []
          },
          "execution_count": 48
        }
      ]
    },
    {
      "cell_type": "code",
      "metadata": {
        "id": "Epst2byYSecx",
        "outputId": "86d2a31b-599c-4816-9a2a-93f714c517f9",
        "colab": {
          "base_uri": "https://localhost:8080/",
          "height": 202
        }
      },
      "source": [
        "movie_data_ratings_data.head()\n",
        "popular_movies_all=p.merge(movie_data_ratings_data,how='inner',on='movie_id')\n",
        "popular_movies_all.drop(['unknown','release date','video release date','IMDb URL','Action','Adventure','Animation','Childrens','Comedy',\n",
        "          'Crime','Documentary','Drama','Fantasy','Film-Noir','Horror','Musical','Mystery','Romance','Sci-Fi',\n",
        "        'Thriller','War','Western'], axis=1, inplace=True)\n",
        "popular_movies_all.head()"
      ],
      "execution_count": null,
      "outputs": [
        {
          "output_type": "execute_result",
          "data": {
            "text/html": [
              "<div>\n",
              "<style scoped>\n",
              "    .dataframe tbody tr th:only-of-type {\n",
              "        vertical-align: middle;\n",
              "    }\n",
              "\n",
              "    .dataframe tbody tr th {\n",
              "        vertical-align: top;\n",
              "    }\n",
              "\n",
              "    .dataframe thead th {\n",
              "        text-align: right;\n",
              "    }\n",
              "</style>\n",
              "<table border=\"1\" class=\"dataframe\">\n",
              "  <thead>\n",
              "    <tr style=\"text-align: right;\">\n",
              "      <th></th>\n",
              "      <th>movie_id</th>\n",
              "      <th>freq</th>\n",
              "      <th>movie title</th>\n",
              "      <th>rating</th>\n",
              "    </tr>\n",
              "  </thead>\n",
              "  <tbody>\n",
              "    <tr>\n",
              "      <th>0</th>\n",
              "      <td>50</td>\n",
              "      <td>484</td>\n",
              "      <td>Star Wars (1977)</td>\n",
              "      <td>4.4</td>\n",
              "    </tr>\n",
              "    <tr>\n",
              "      <th>1</th>\n",
              "      <td>181</td>\n",
              "      <td>422</td>\n",
              "      <td>Return of the Jedi (1983)</td>\n",
              "      <td>4.0</td>\n",
              "    </tr>\n",
              "    <tr>\n",
              "      <th>2</th>\n",
              "      <td>258</td>\n",
              "      <td>402</td>\n",
              "      <td>Contact (1997)</td>\n",
              "      <td>3.8</td>\n",
              "    </tr>\n",
              "    <tr>\n",
              "      <th>3</th>\n",
              "      <td>100</td>\n",
              "      <td>395</td>\n",
              "      <td>Fargo (1996)</td>\n",
              "      <td>4.1</td>\n",
              "    </tr>\n",
              "    <tr>\n",
              "      <th>4</th>\n",
              "      <td>294</td>\n",
              "      <td>394</td>\n",
              "      <td>Liar Liar (1997)</td>\n",
              "      <td>3.2</td>\n",
              "    </tr>\n",
              "  </tbody>\n",
              "</table>\n",
              "</div>"
            ],
            "text/plain": [
              "   movie_id  freq                movie title  rating\n",
              "0        50   484           Star Wars (1977)     4.4\n",
              "1       181   422  Return of the Jedi (1983)     4.0\n",
              "2       258   402             Contact (1997)     3.8\n",
              "3       100   395               Fargo (1996)     4.1\n",
              "4       294   394           Liar Liar (1997)     3.2"
            ]
          },
          "metadata": {
            "tags": []
          },
          "execution_count": 89
        }
      ]
    },
    {
      "cell_type": "code",
      "metadata": {
        "id": "Xwnmqs6Qm3Xw",
        "outputId": "50bbbaee-baaa-4d79-93e3-2ea7a94de17c",
        "colab": {
          "base_uri": "https://localhost:8080/",
          "height": 450
        }
      },
      "source": [
        "popular_movies_all['freq'] = popular_movies_all['freq'].div(484)\n",
        "popular_movies_all['rating'] = popular_movies_all['rating'].div(5)\n",
        "popular_movies_all['freqAlpha'] = popular_movies_all['freq'].multiply(0.5)\n",
        "popular_movies_all['ratingAlpha'] = popular_movies_all['rating'].multiply(0.5)\n",
        "popular_movies_all['totalPopularityRank']=popular_movies_all['ratingAlpha']+popular_movies_all['freqAlpha'].round(2)\n",
        "mostPopular=popular_movies_all.sort_values(by='totalPopularityRank',ascending=False)\n",
        "mostPopular"
      ],
      "execution_count": null,
      "outputs": [
        {
          "output_type": "execute_result",
          "data": {
            "text/html": [
              "<div>\n",
              "<style scoped>\n",
              "    .dataframe tbody tr th:only-of-type {\n",
              "        vertical-align: middle;\n",
              "    }\n",
              "\n",
              "    .dataframe tbody tr th {\n",
              "        vertical-align: top;\n",
              "    }\n",
              "\n",
              "    .dataframe thead th {\n",
              "        text-align: right;\n",
              "    }\n",
              "</style>\n",
              "<table border=\"1\" class=\"dataframe\">\n",
              "  <thead>\n",
              "    <tr style=\"text-align: right;\">\n",
              "      <th></th>\n",
              "      <th>movie_id</th>\n",
              "      <th>freq</th>\n",
              "      <th>movie title</th>\n",
              "      <th>rating</th>\n",
              "      <th>freqAlpha</th>\n",
              "      <th>ratingAlpha</th>\n",
              "      <th>totalPopularityRank</th>\n",
              "    </tr>\n",
              "  </thead>\n",
              "  <tbody>\n",
              "    <tr>\n",
              "      <th>0</th>\n",
              "      <td>50</td>\n",
              "      <td>1.000000</td>\n",
              "      <td>Star Wars (1977)</td>\n",
              "      <td>0.88</td>\n",
              "      <td>0.500000</td>\n",
              "      <td>0.44</td>\n",
              "      <td>0.94</td>\n",
              "    </tr>\n",
              "    <tr>\n",
              "      <th>1</th>\n",
              "      <td>181</td>\n",
              "      <td>0.871901</td>\n",
              "      <td>Return of the Jedi (1983)</td>\n",
              "      <td>0.80</td>\n",
              "      <td>0.435950</td>\n",
              "      <td>0.40</td>\n",
              "      <td>0.84</td>\n",
              "    </tr>\n",
              "    <tr>\n",
              "      <th>3</th>\n",
              "      <td>100</td>\n",
              "      <td>0.816116</td>\n",
              "      <td>Fargo (1996)</td>\n",
              "      <td>0.82</td>\n",
              "      <td>0.408058</td>\n",
              "      <td>0.41</td>\n",
              "      <td>0.82</td>\n",
              "    </tr>\n",
              "    <tr>\n",
              "      <th>2</th>\n",
              "      <td>258</td>\n",
              "      <td>0.830579</td>\n",
              "      <td>Contact (1997)</td>\n",
              "      <td>0.76</td>\n",
              "      <td>0.415289</td>\n",
              "      <td>0.38</td>\n",
              "      <td>0.80</td>\n",
              "    </tr>\n",
              "    <tr>\n",
              "      <th>7</th>\n",
              "      <td>1</td>\n",
              "      <td>0.791322</td>\n",
              "      <td>Toy Story (1995)</td>\n",
              "      <td>0.78</td>\n",
              "      <td>0.395661</td>\n",
              "      <td>0.39</td>\n",
              "      <td>0.79</td>\n",
              "    </tr>\n",
              "    <tr>\n",
              "      <th>...</th>\n",
              "      <td>...</td>\n",
              "      <td>...</td>\n",
              "      <td>...</td>\n",
              "      <td>...</td>\n",
              "      <td>...</td>\n",
              "      <td>...</td>\n",
              "      <td>...</td>\n",
              "    </tr>\n",
              "    <tr>\n",
              "      <th>1612</th>\n",
              "      <td>1574</td>\n",
              "      <td>0.002066</td>\n",
              "      <td>Pharaoh's Army (1995)</td>\n",
              "      <td>0.20</td>\n",
              "      <td>0.001033</td>\n",
              "      <td>0.10</td>\n",
              "      <td>0.10</td>\n",
              "    </tr>\n",
              "    <tr>\n",
              "      <th>1573</th>\n",
              "      <td>1354</td>\n",
              "      <td>0.002066</td>\n",
              "      <td>Venice/Venice (1992)</td>\n",
              "      <td>0.20</td>\n",
              "      <td>0.001033</td>\n",
              "      <td>0.10</td>\n",
              "      <td>0.10</td>\n",
              "    </tr>\n",
              "    <tr>\n",
              "      <th>1614</th>\n",
              "      <td>1576</td>\n",
              "      <td>0.002066</td>\n",
              "      <td>Hungarian Fairy Tale, A (1987)</td>\n",
              "      <td>0.20</td>\n",
              "      <td>0.001033</td>\n",
              "      <td>0.10</td>\n",
              "      <td>0.10</td>\n",
              "    </tr>\n",
              "    <tr>\n",
              "      <th>1615</th>\n",
              "      <td>1577</td>\n",
              "      <td>0.002066</td>\n",
              "      <td>Death in the Garden (Mort en ce jardin, La) (1...</td>\n",
              "      <td>0.20</td>\n",
              "      <td>0.001033</td>\n",
              "      <td>0.10</td>\n",
              "      <td>0.10</td>\n",
              "    </tr>\n",
              "    <tr>\n",
              "      <th>1389</th>\n",
              "      <td>1250</td>\n",
              "      <td>0.006198</td>\n",
              "      <td>Best of the Best 3: No Turning Back (1995)</td>\n",
              "      <td>0.20</td>\n",
              "      <td>0.003099</td>\n",
              "      <td>0.10</td>\n",
              "      <td>0.10</td>\n",
              "    </tr>\n",
              "  </tbody>\n",
              "</table>\n",
              "<p>1650 rows × 7 columns</p>\n",
              "</div>"
            ],
            "text/plain": [
              "      movie_id      freq  ... ratingAlpha  totalPopularityRank\n",
              "0           50  1.000000  ...        0.44                 0.94\n",
              "1          181  0.871901  ...        0.40                 0.84\n",
              "3          100  0.816116  ...        0.41                 0.82\n",
              "2          258  0.830579  ...        0.38                 0.80\n",
              "7            1  0.791322  ...        0.39                 0.79\n",
              "...        ...       ...  ...         ...                  ...\n",
              "1612      1574  0.002066  ...        0.10                 0.10\n",
              "1573      1354  0.002066  ...        0.10                 0.10\n",
              "1614      1576  0.002066  ...        0.10                 0.10\n",
              "1615      1577  0.002066  ...        0.10                 0.10\n",
              "1389      1250  0.006198  ...        0.10                 0.10\n",
              "\n",
              "[1650 rows x 7 columns]"
            ]
          },
          "metadata": {
            "tags": []
          },
          "execution_count": 90
        }
      ]
    },
    {
      "cell_type": "markdown",
      "metadata": {
        "id": "VpFJVu9df25l"
      },
      "source": [
        "# **Question 2**"
      ]
    },
    {
      "cell_type": "markdown",
      "metadata": {
        "id": "XM1Ax_vMlxNt"
      },
      "source": [
        "### Loading data"
      ]
    },
    {
      "cell_type": "code",
      "metadata": {
        "id": "3S5_eRh0f89k"
      },
      "source": [
        "MOVIELENS_DIR = '/content/drive/My Drive/eCommerce Project/ml-100k/'\n",
        "RATING_DATA_FILE = MOVIELENS_DIR+'u.item'"
      ],
      "execution_count": null,
      "outputs": []
    },
    {
      "cell_type": "code",
      "metadata": {
        "outputId": "c58d76fb-cd5d-4a91-f5b9-cc3765da55fb",
        "id": "jgx1fF6yf89t",
        "colab": {
          "base_uri": "https://localhost:8080/",
          "height": 34
        }
      },
      "source": [
        "m_cols = ['movie_id','movie title','release date','video release date','IMDb URL'\n",
        "          ,'unknown','Action','Adventure','Animation','Childrens','Comedy',\n",
        "          'Crime','Documentary','Drama','Fantasy','Film-Noir','Horror','Musical','Mystery','Romance','Sci-Fi',\n",
        "        'Thriller','War','Western']\n",
        "data= pd.read_csv(RATING_DATA_FILE,delimiter='|',names=m_cols,encoding='latin-1')\n",
        "data.shape"
      ],
      "execution_count": null,
      "outputs": [
        {
          "output_type": "execute_result",
          "data": {
            "text/plain": [
              "(1682, 24)"
            ]
          },
          "metadata": {
            "tags": []
          },
          "execution_count": 6
        }
      ]
    },
    {
      "cell_type": "code",
      "metadata": {
        "outputId": "51e5a66a-251c-46f0-b556-08d2b656b57e",
        "id": "4XanDYc2f893",
        "colab": {
          "base_uri": "https://localhost:8080/",
          "height": 204
        }
      },
      "source": [
        "r_cols = ['user_id','movie_id','rating','timestamp']\n",
        "user_rating = pd.read_csv(MOVIELENS_DIR + 'u1.base',delimiter='\\t', names=r_cols) #train data\n",
        "user_rating.head()"
      ],
      "execution_count": null,
      "outputs": [
        {
          "output_type": "execute_result",
          "data": {
            "text/html": [
              "<div>\n",
              "<style scoped>\n",
              "    .dataframe tbody tr th:only-of-type {\n",
              "        vertical-align: middle;\n",
              "    }\n",
              "\n",
              "    .dataframe tbody tr th {\n",
              "        vertical-align: top;\n",
              "    }\n",
              "\n",
              "    .dataframe thead th {\n",
              "        text-align: right;\n",
              "    }\n",
              "</style>\n",
              "<table border=\"1\" class=\"dataframe\">\n",
              "  <thead>\n",
              "    <tr style=\"text-align: right;\">\n",
              "      <th></th>\n",
              "      <th>user_id</th>\n",
              "      <th>movie_id</th>\n",
              "      <th>rating</th>\n",
              "      <th>timestamp</th>\n",
              "    </tr>\n",
              "  </thead>\n",
              "  <tbody>\n",
              "    <tr>\n",
              "      <th>0</th>\n",
              "      <td>1</td>\n",
              "      <td>1</td>\n",
              "      <td>5</td>\n",
              "      <td>874965758</td>\n",
              "    </tr>\n",
              "    <tr>\n",
              "      <th>1</th>\n",
              "      <td>1</td>\n",
              "      <td>2</td>\n",
              "      <td>3</td>\n",
              "      <td>876893171</td>\n",
              "    </tr>\n",
              "    <tr>\n",
              "      <th>2</th>\n",
              "      <td>1</td>\n",
              "      <td>3</td>\n",
              "      <td>4</td>\n",
              "      <td>878542960</td>\n",
              "    </tr>\n",
              "    <tr>\n",
              "      <th>3</th>\n",
              "      <td>1</td>\n",
              "      <td>4</td>\n",
              "      <td>3</td>\n",
              "      <td>876893119</td>\n",
              "    </tr>\n",
              "    <tr>\n",
              "      <th>4</th>\n",
              "      <td>1</td>\n",
              "      <td>5</td>\n",
              "      <td>3</td>\n",
              "      <td>889751712</td>\n",
              "    </tr>\n",
              "  </tbody>\n",
              "</table>\n",
              "</div>"
            ],
            "text/plain": [
              "   user_id  movie_id  rating  timestamp\n",
              "0        1         1       5  874965758\n",
              "1        1         2       3  876893171\n",
              "2        1         3       4  878542960\n",
              "3        1         4       3  876893119\n",
              "4        1         5       3  889751712"
            ]
          },
          "metadata": {
            "tags": []
          },
          "execution_count": 7
        }
      ]
    },
    {
      "cell_type": "code",
      "metadata": {
        "outputId": "6aabf385-b175-4fe9-e699-8bcc870af6f8",
        "id": "Un0v-wVGf89_",
        "colab": {
          "base_uri": "https://localhost:8080/",
          "height": 235
        }
      },
      "source": [
        "average_movie_ratings = user_rating.groupby('movie_id')[['rating']].mean().round(1)\n",
        "average_movie_ratings.head()"
      ],
      "execution_count": null,
      "outputs": [
        {
          "output_type": "execute_result",
          "data": {
            "text/html": [
              "<div>\n",
              "<style scoped>\n",
              "    .dataframe tbody tr th:only-of-type {\n",
              "        vertical-align: middle;\n",
              "    }\n",
              "\n",
              "    .dataframe tbody tr th {\n",
              "        vertical-align: top;\n",
              "    }\n",
              "\n",
              "    .dataframe thead th {\n",
              "        text-align: right;\n",
              "    }\n",
              "</style>\n",
              "<table border=\"1\" class=\"dataframe\">\n",
              "  <thead>\n",
              "    <tr style=\"text-align: right;\">\n",
              "      <th></th>\n",
              "      <th>rating</th>\n",
              "    </tr>\n",
              "    <tr>\n",
              "      <th>movie_id</th>\n",
              "      <th></th>\n",
              "    </tr>\n",
              "  </thead>\n",
              "  <tbody>\n",
              "    <tr>\n",
              "      <th>1</th>\n",
              "      <td>3.9</td>\n",
              "    </tr>\n",
              "    <tr>\n",
              "      <th>2</th>\n",
              "      <td>3.2</td>\n",
              "    </tr>\n",
              "    <tr>\n",
              "      <th>3</th>\n",
              "      <td>3.0</td>\n",
              "    </tr>\n",
              "    <tr>\n",
              "      <th>4</th>\n",
              "      <td>3.5</td>\n",
              "    </tr>\n",
              "    <tr>\n",
              "      <th>5</th>\n",
              "      <td>3.3</td>\n",
              "    </tr>\n",
              "  </tbody>\n",
              "</table>\n",
              "</div>"
            ],
            "text/plain": [
              "          rating\n",
              "movie_id        \n",
              "1            3.9\n",
              "2            3.2\n",
              "3            3.0\n",
              "4            3.5\n",
              "5            3.3"
            ]
          },
          "metadata": {
            "tags": []
          },
          "execution_count": 8
        }
      ]
    },
    {
      "cell_type": "code",
      "metadata": {
        "outputId": "372a938e-2812-4769-8899-3630bc94fcfc",
        "id": "SAkOZKT5f8-H",
        "colab": {
          "base_uri": "https://localhost:8080/",
          "height": 264
        }
      },
      "source": [
        "movie_data_ratings_data=data.merge(average_movie_ratings,on = 'movie_id',how = 'inner')\n",
        "movie_data_ratings_data.head(3)"
      ],
      "execution_count": null,
      "outputs": [
        {
          "output_type": "execute_result",
          "data": {
            "text/html": [
              "<div>\n",
              "<style scoped>\n",
              "    .dataframe tbody tr th:only-of-type {\n",
              "        vertical-align: middle;\n",
              "    }\n",
              "\n",
              "    .dataframe tbody tr th {\n",
              "        vertical-align: top;\n",
              "    }\n",
              "\n",
              "    .dataframe thead th {\n",
              "        text-align: right;\n",
              "    }\n",
              "</style>\n",
              "<table border=\"1\" class=\"dataframe\">\n",
              "  <thead>\n",
              "    <tr style=\"text-align: right;\">\n",
              "      <th></th>\n",
              "      <th>movie_id</th>\n",
              "      <th>movie title</th>\n",
              "      <th>release date</th>\n",
              "      <th>video release date</th>\n",
              "      <th>IMDb URL</th>\n",
              "      <th>unknown</th>\n",
              "      <th>Action</th>\n",
              "      <th>Adventure</th>\n",
              "      <th>Animation</th>\n",
              "      <th>Childrens</th>\n",
              "      <th>Comedy</th>\n",
              "      <th>Crime</th>\n",
              "      <th>Documentary</th>\n",
              "      <th>Drama</th>\n",
              "      <th>Fantasy</th>\n",
              "      <th>Film-Noir</th>\n",
              "      <th>Horror</th>\n",
              "      <th>Musical</th>\n",
              "      <th>Mystery</th>\n",
              "      <th>Romance</th>\n",
              "      <th>Sci-Fi</th>\n",
              "      <th>Thriller</th>\n",
              "      <th>War</th>\n",
              "      <th>Western</th>\n",
              "      <th>rating</th>\n",
              "    </tr>\n",
              "  </thead>\n",
              "  <tbody>\n",
              "    <tr>\n",
              "      <th>0</th>\n",
              "      <td>1</td>\n",
              "      <td>Toy Story (1995)</td>\n",
              "      <td>01-Jan-1995</td>\n",
              "      <td>NaN</td>\n",
              "      <td>http://us.imdb.com/M/title-exact?Toy%20Story%2...</td>\n",
              "      <td>0</td>\n",
              "      <td>0</td>\n",
              "      <td>0</td>\n",
              "      <td>1</td>\n",
              "      <td>1</td>\n",
              "      <td>1</td>\n",
              "      <td>0</td>\n",
              "      <td>0</td>\n",
              "      <td>0</td>\n",
              "      <td>0</td>\n",
              "      <td>0</td>\n",
              "      <td>0</td>\n",
              "      <td>0</td>\n",
              "      <td>0</td>\n",
              "      <td>0</td>\n",
              "      <td>0</td>\n",
              "      <td>0</td>\n",
              "      <td>0</td>\n",
              "      <td>0</td>\n",
              "      <td>3.9</td>\n",
              "    </tr>\n",
              "    <tr>\n",
              "      <th>1</th>\n",
              "      <td>2</td>\n",
              "      <td>GoldenEye (1995)</td>\n",
              "      <td>01-Jan-1995</td>\n",
              "      <td>NaN</td>\n",
              "      <td>http://us.imdb.com/M/title-exact?GoldenEye%20(...</td>\n",
              "      <td>0</td>\n",
              "      <td>1</td>\n",
              "      <td>1</td>\n",
              "      <td>0</td>\n",
              "      <td>0</td>\n",
              "      <td>0</td>\n",
              "      <td>0</td>\n",
              "      <td>0</td>\n",
              "      <td>0</td>\n",
              "      <td>0</td>\n",
              "      <td>0</td>\n",
              "      <td>0</td>\n",
              "      <td>0</td>\n",
              "      <td>0</td>\n",
              "      <td>0</td>\n",
              "      <td>0</td>\n",
              "      <td>1</td>\n",
              "      <td>0</td>\n",
              "      <td>0</td>\n",
              "      <td>3.2</td>\n",
              "    </tr>\n",
              "    <tr>\n",
              "      <th>2</th>\n",
              "      <td>3</td>\n",
              "      <td>Four Rooms (1995)</td>\n",
              "      <td>01-Jan-1995</td>\n",
              "      <td>NaN</td>\n",
              "      <td>http://us.imdb.com/M/title-exact?Four%20Rooms%...</td>\n",
              "      <td>0</td>\n",
              "      <td>0</td>\n",
              "      <td>0</td>\n",
              "      <td>0</td>\n",
              "      <td>0</td>\n",
              "      <td>0</td>\n",
              "      <td>0</td>\n",
              "      <td>0</td>\n",
              "      <td>0</td>\n",
              "      <td>0</td>\n",
              "      <td>0</td>\n",
              "      <td>0</td>\n",
              "      <td>0</td>\n",
              "      <td>0</td>\n",
              "      <td>0</td>\n",
              "      <td>0</td>\n",
              "      <td>1</td>\n",
              "      <td>0</td>\n",
              "      <td>0</td>\n",
              "      <td>3.0</td>\n",
              "    </tr>\n",
              "  </tbody>\n",
              "</table>\n",
              "</div>"
            ],
            "text/plain": [
              "   movie_id        movie title release date  ...  War Western  rating\n",
              "0         1   Toy Story (1995)  01-Jan-1995  ...    0       0     3.9\n",
              "1         2   GoldenEye (1995)  01-Jan-1995  ...    0       0     3.2\n",
              "2         3  Four Rooms (1995)  01-Jan-1995  ...    0       0     3.0\n",
              "\n",
              "[3 rows x 25 columns]"
            ]
          },
          "metadata": {
            "tags": []
          },
          "execution_count": 9
        }
      ]
    },
    {
      "cell_type": "code",
      "metadata": {
        "id": "PgDQCue9Ii9A",
        "outputId": "74b0b101-1e8a-40c7-9a1b-e4b9996cee9c",
        "colab": {
          "base_uri": "https://localhost:8080/",
          "height": 111
        }
      },
      "source": [
        "user_rating = pd.read_csv(MOVIELENS_DIR + 'u.data',delimiter='\\t', names=r_cols)\n",
        "average_movie_ratings = user_rating.groupby('movie_id')[['movie_id', 'rating']].mean().round(1)\n",
        "x = average_movie_ratings['movie_id']==100\n",
        "average_movie_ratings[x].head()"
      ],
      "execution_count": null,
      "outputs": [
        {
          "output_type": "execute_result",
          "data": {
            "text/html": [
              "<div>\n",
              "<style scoped>\n",
              "    .dataframe tbody tr th:only-of-type {\n",
              "        vertical-align: middle;\n",
              "    }\n",
              "\n",
              "    .dataframe tbody tr th {\n",
              "        vertical-align: top;\n",
              "    }\n",
              "\n",
              "    .dataframe thead th {\n",
              "        text-align: right;\n",
              "    }\n",
              "</style>\n",
              "<table border=\"1\" class=\"dataframe\">\n",
              "  <thead>\n",
              "    <tr style=\"text-align: right;\">\n",
              "      <th></th>\n",
              "      <th>movie_id</th>\n",
              "      <th>rating</th>\n",
              "    </tr>\n",
              "    <tr>\n",
              "      <th>movie_id</th>\n",
              "      <th></th>\n",
              "      <th></th>\n",
              "    </tr>\n",
              "  </thead>\n",
              "  <tbody>\n",
              "    <tr>\n",
              "      <th>100</th>\n",
              "      <td>100.0</td>\n",
              "      <td>4.2</td>\n",
              "    </tr>\n",
              "  </tbody>\n",
              "</table>\n",
              "</div>"
            ],
            "text/plain": [
              "          movie_id  rating\n",
              "movie_id                  \n",
              "100          100.0     4.2"
            ]
          },
          "metadata": {
            "tags": []
          },
          "execution_count": 10
        }
      ]
    },
    {
      "cell_type": "code",
      "metadata": {
        "id": "9aJMEvdGtjzg"
      },
      "source": [
        "user_data = pd.read_csv(MOVIELENS_DIR + 'u.user',delimiter='|', names=['user_id','age','gender','occupation','zip code'])\n",
        "men_user_data = user_data[user_data['gender'] == 'M']\n",
        "men_user_rating = user_rating.merge(men_user_data['user_id'],on = 'user_id',how = 'inner')\n",
        "men_average_movie_ratings = men_user_rating.groupby('movie_id')[['rating']].mean().round(1)\n",
        "\n",
        "women_user_data = user_data[user_data['gender'] == 'F']\n",
        "women_user_rating = user_rating.merge(women_user_data['user_id'],on = 'user_id',how = 'inner')\n",
        "women_average_movie_ratings = women_user_rating.groupby('movie_id')[['rating']].mean().round(1)\n"
      ],
      "execution_count": null,
      "outputs": []
    },
    {
      "cell_type": "markdown",
      "metadata": {
        "id": "yPc8myDil3kS"
      },
      "source": [
        "### 2.1 - calculate MAE for a model of movie rating based on aberage movie rating"
      ]
    },
    {
      "cell_type": "code",
      "metadata": {
        "id": "ziza_T17MSb1",
        "outputId": "8412f8b5-3558-4ce8-ce11-c393cc7ff2dd",
        "colab": {
          "base_uri": "https://localhost:8080/",
          "height": 34
        }
      },
      "source": [
        "# EX2.1 - calculate MAE for a model of movie rating based on average movie rating\n",
        "test = pd.read_csv(MOVIELENS_DIR + 'u1.test',delimiter='\\t', names=r_cols)\n",
        "average_movie_ratings = user_rating.groupby('movie_id')[['rating']].mean().round(1)\n",
        "test_average_movie_ratings = test.merge(average_movie_ratings,on = 'movie_id',how = 'inner',suffixes=('_test', '_average'))\n",
        "test_average_movie_ratings['abs_diff'] = abs(test_average_movie_ratings.rating_test - test_average_movie_ratings.rating_average)\n",
        "rows_num = test_average_movie_ratings.shape[0]\n",
        "sum_diffs = test_average_movie_ratings['abs_diff'].sum()\n",
        "MAE = sum_diffs / rows_num\n",
        "print(\"The MAE of the test data by an average rating model is \" + str(MAE))"
      ],
      "execution_count": null,
      "outputs": [
        {
          "output_type": "stream",
          "text": [
            "The MAE of the test data by an average rating model is 0.807005\n"
          ],
          "name": "stdout"
        }
      ]
    },
    {
      "cell_type": "markdown",
      "metadata": {
        "id": "aDkcJB3LmHF1"
      },
      "source": [
        "### 2.3 - calculate MAE for MEN for a model of movie rating based on average movie rating"
      ]
    },
    {
      "cell_type": "code",
      "metadata": {
        "id": "ZVRGGmkoaNeQ",
        "outputId": "834fe8a4-9413-42e0-d605-a8e530315600",
        "colab": {
          "base_uri": "https://localhost:8080/",
          "height": 34
        }
      },
      "source": [
        "# EX 2.3 - calculate MAE for MEN for a model of movie rating based on average movie rating\n",
        "test = pd.read_csv(MOVIELENS_DIR + 'u1.test',delimiter='\\t', names=r_cols)\n",
        "\n",
        "#filter the MEN to the test\n",
        "users_data = pd.read_csv(MOVIELENS_DIR + 'u.user',delimiter='|', names=['user_id','age','gender','occupation','zip code'])\n",
        "users = test[['user_id']].drop_duplicates() \n",
        "men_users = users.merge(users_data, on='user_id', how='inner')\n",
        "men_users = men_users[men_users['gender']=='M']\n",
        "men_users = men_users[['user_id']] #all the men users\n",
        "\n",
        "test_men = test.merge(men_users, on='user_id', how='inner') #test data of men users\n",
        "\n",
        "average_movie_ratings = user_rating.groupby('movie_id')[['rating']].mean().round(1)\n",
        "test_average_movie_ratings = test_men.merge(men_average_movie_ratings,on = 'movie_id',how = 'inner',suffixes=('_test', '_average'))\n",
        "test_average_movie_ratings['abs_diff'] = abs(test_average_movie_ratings.rating_test - test_average_movie_ratings.rating_average)\n",
        "rows_num = test_average_movie_ratings.shape[0]\n",
        "sum_diffs = test_average_movie_ratings['abs_diff'].sum()\n",
        "MAE = sum_diffs / rows_num\n",
        "print(\"The MAE of the men users test data by an average rating model is \" + str(MAE))"
      ],
      "execution_count": null,
      "outputs": [
        {
          "output_type": "stream",
          "text": [
            "The MAE of the men users test data by an average rating model is 0.780398233005868\n"
          ],
          "name": "stdout"
        }
      ]
    },
    {
      "cell_type": "markdown",
      "metadata": {
        "id": "YsQTQs46mTmM"
      },
      "source": [
        "### 2.3 - calculate MAE for WOMEN for a model of movie rating based on average movie rating"
      ]
    },
    {
      "cell_type": "code",
      "metadata": {
        "id": "-InmePvafZbn",
        "outputId": "71e54a91-befa-4d79-ca57-0aa3ce08b673",
        "colab": {
          "base_uri": "https://localhost:8080/",
          "height": 34
        }
      },
      "source": [
        "# EX 2.3 - calculate MAE for WOMEN for a model of movie rating based on average movie rating\n",
        "test = pd.read_csv(MOVIELENS_DIR + 'u1.test',delimiter='\\t', names=r_cols)\n",
        "\n",
        "#filter the WOMEN to the test\n",
        "users_data = pd.read_csv(MOVIELENS_DIR + 'u.user',delimiter='|', names=['user_id','age','gender','occupation','zip code'])\n",
        "users = test[['user_id']].drop_duplicates() \n",
        "women_users = users.merge(users_data, on='user_id', how='inner')\n",
        "women_users = women_users[women_users['gender']=='F']\n",
        "women_users = women_users[['user_id']] #all the women users\n",
        "\n",
        "test_women = test.merge(women_users, on='user_id', how='inner') #test data of women users\n",
        "\n",
        "average_movie_ratings = user_rating.groupby('movie_id')[['rating']].mean().round(1)\n",
        "test_average_movie_ratings = test_women.merge(women_average_movie_ratings,on = 'movie_id',how = 'inner',suffixes=('_test', '_average'))\n",
        "test_average_movie_ratings['abs_diff'] = abs(test_average_movie_ratings.rating_test - test_average_movie_ratings.rating_average)\n",
        "rows_num = test_average_movie_ratings.shape[0]\n",
        "sum_diffs = test_average_movie_ratings['abs_diff'].sum()\n",
        "MAE = sum_diffs / rows_num\n",
        "print(\"The MAE of the women users test data by an average rating model is \" + str(MAE))"
      ],
      "execution_count": null,
      "outputs": [
        {
          "output_type": "stream",
          "text": [
            "The MAE of the women users test data by an average rating model is 0.852658804055452\n"
          ],
          "name": "stdout"
        }
      ]
    },
    {
      "cell_type": "markdown",
      "metadata": {
        "id": "SJw-NEfbmeZQ"
      },
      "source": [
        "### 2.2 - calculate Precision and Recall when recommending 20 best rating movies to users"
      ]
    },
    {
      "cell_type": "code",
      "metadata": {
        "id": "-hl-ujw14vAx",
        "outputId": "7a73847d-9a0a-4e2f-c0fe-fb017f151168",
        "colab": {
          "base_uri": "https://localhost:8080/",
          "height": 68
        }
      },
      "source": [
        "# EX 2.2 - calculate Precision and Recall when recommending 20 best rating movies to users\n",
        "\n",
        "best_20_movies = average_movie_ratings.nlargest(20, 'rating')\n",
        "\n",
        "test_best_20_movies = test.merge(best_20_movies, on=\"movie_id\", how='inner') #represents the relevant movies that were retrieved for each user\n",
        "test_best_20_movies_relevant = test_best_20_movies.groupby('user_id')['user_id'].count().reset_index(name=\"retrieved_relevant_count\") #represents the amount of movies that were recommended to the user and were relevant (the user watched them)\n",
        "test_number_of_relevant_documents = test.groupby('user_id')['user_id'].count().reset_index(name=\"relevant_documents_count\") #represents the amount of relevant (that the user watched) movies per user\n",
        "\n",
        "users = test[['user_id']].drop_duplicates() #all the users. we need them because maybe some got recommendations that they did not watch any of them\n",
        "\n",
        "# merge the recommended movies number and the relevant movies number\n",
        "test_precision_recall_per_user = users.merge(test_best_20_movies_relevant, on='user_id', how='left')\n",
        "test_precision_recall_per_user = test_precision_recall_per_user.merge(test_number_of_relevant_documents, on='user_id', how='inner')\n",
        "\n",
        "# calculate the precision and recall per user\n",
        "test_precision_recall_per_user['precision'] = test_precision_recall_per_user.retrieved_relevant_count / 20\n",
        "test_precision_recall_per_user['recall'] = test_precision_recall_per_user.retrieved_relevant_count / test_precision_recall_per_user.relevant_documents_count\n",
        "test_precision_recall_per_user = test_precision_recall_per_user.fillna(0)\n",
        "\n",
        "#calculate the average precision and recall\n",
        "avg_precision = test_precision_recall_per_user['precision'].mean()\n",
        "avg_recall = test_precision_recall_per_user['recall'].mean()\n",
        "\n",
        "print(\"For all the test users based on a recommendation of the best 20 movies: \")\n",
        "print(\"The average precision is: \" + str(avg_precision))\n",
        "print(\"The average recall is: \" + str(avg_recall))\n"
      ],
      "execution_count": null,
      "outputs": [
        {
          "output_type": "stream",
          "text": [
            "For all the test users based on a recommendation of the best 20 movies: \n",
            "The average precision is: 0.023093681917211326\n",
            "The average recall is: 0.009058944549662416\n"
          ],
          "name": "stdout"
        }
      ]
    },
    {
      "cell_type": "markdown",
      "metadata": {
        "id": "Z7C7ync9mn2w"
      },
      "source": [
        "### 2.2 - calculate Precision and Recall when recommending 20 random rating movies to users"
      ]
    },
    {
      "cell_type": "code",
      "metadata": {
        "id": "N_nRO0-bQUyr",
        "outputId": "2195a59c-945c-4014-d77c-d41951f68a14",
        "colab": {
          "base_uri": "https://localhost:8080/",
          "height": 68
        }
      },
      "source": [
        "# EX 2.2 - calculate Precision and Recall when recommending 20 random rating movies to users\n",
        "\n",
        "random_20_movies = average_movie_ratings.sample(20)\n",
        "\n",
        "test_random_20_movies = test.merge(random_20_movies, on=\"movie_id\", how='inner') #represents the relevant movies that were retrieved for each user\n",
        "test_random_20_movies_relevant = test_random_20_movies.groupby('user_id')['user_id'].count().reset_index(name=\"retrieved_relevant_count\") #represents the amount of movies that were recommended to the user and were relevant (the user watched them)\n",
        "test_number_of_relevant_documents = test.groupby('user_id')['user_id'].count().reset_index(name=\"relevant_documents_count\") #represents the amount of relevant (that the user watched) movies per user\n",
        "\n",
        "users = test[['user_id']].drop_duplicates() #all the users. we need them because maybe some got recommendations that they did not watch any of them\n",
        "\n",
        "# merge the recommended movies number and the relevant movies number\n",
        "test_precision_recall_per_user = users.merge(test_random_20_movies_relevant, on='user_id', how='left')\n",
        "test_precision_recall_per_user = test_precision_recall_per_user.merge(test_number_of_relevant_documents, on='user_id', how='inner')\n",
        "\n",
        "# calculate the precision and recall per user\n",
        "test_precision_recall_per_user['precision'] = test_precision_recall_per_user.retrieved_relevant_count / 20\n",
        "test_precision_recall_per_user['recall'] = test_precision_recall_per_user.retrieved_relevant_count / test_precision_recall_per_user.relevant_documents_count\n",
        "test_precision_recall_per_user = test_precision_recall_per_user.fillna(0)\n",
        "\n",
        "#calculate the average precision and recall\n",
        "avg_precision = test_precision_recall_per_user['precision'].mean()\n",
        "avg_recall = test_precision_recall_per_user['recall'].mean()\n",
        "\n",
        "print(\"For all the test users based on a recommendation of 20 random movies: \")\n",
        "print(\"The average precision is: \" + str(avg_precision))\n",
        "print(\"The average recall is: \" + str(avg_recall))"
      ],
      "execution_count": null,
      "outputs": [
        {
          "output_type": "stream",
          "text": [
            "For all the test users based on a recommendation of 20 random movies: \n",
            "The average precision is: 0.0142701525054466\n",
            "The average recall is: 0.005127985091906729\n"
          ],
          "name": "stdout"
        }
      ]
    },
    {
      "cell_type": "markdown",
      "metadata": {
        "id": "MNlZg-RfmwoE"
      },
      "source": [
        "### 2.3 - calculate Precision and Recall when recommending 20 best rating movies to MEN users"
      ]
    },
    {
      "cell_type": "code",
      "metadata": {
        "id": "B5xsV3hzS3aY",
        "outputId": "18c25af2-f10e-4757-9eb8-decc1d49c85f",
        "colab": {
          "base_uri": "https://localhost:8080/",
          "height": 68
        }
      },
      "source": [
        "#EX 2.3 - calculate Precision and Recall when recommending 20 best rating movies to MEN users\n",
        "\n",
        "best_20_movies = men_average_movie_ratings.nlargest(20, 'rating') # best 20 movies based on men rating\n",
        "\n",
        "test_best_20_movies = test.merge(best_20_movies, on=\"movie_id\", how='inner') #represents the relevant movies that were retrieved for each user\n",
        "test_best_20_movies_relevant = test_best_20_movies.groupby('user_id')['user_id'].count().reset_index(name=\"retrieved_relevant_count\") #represents the amount of movies that were recommended to the user and were relevant (the user watched them)\n",
        "test_number_of_relevant_documents = test.groupby('user_id')['user_id'].count().reset_index(name=\"relevant_documents_count\") #represents the amount of relevant (that the user watched) movies per user\n",
        "\n",
        "# filter only men users\n",
        "users_data = pd.read_csv(MOVIELENS_DIR + 'u.user',delimiter='|', names=['user_id','age','gender','occupation','zip code'])\n",
        "\n",
        "users = test[['user_id']].drop_duplicates() #all the men users. we need them because maybe some got recommendations that they did not watch any of them\n",
        "men_users = users.merge(users_data, on='user_id', how='inner')\n",
        "men_users = men_users[men_users['gender']=='M']\n",
        "men_users = men_users[['user_id']]\n",
        "\n",
        "# merge the recommended movies number and the relevant movies number\n",
        "test_precision_recall_per_user = men_users.merge(test_best_20_movies_relevant, on='user_id', how='left')\n",
        "test_precision_recall_per_user = test_precision_recall_per_user.merge(test_number_of_relevant_documents, on='user_id', how='inner')\n",
        "\n",
        "# calculate the precision and recall per user\n",
        "test_precision_recall_per_user['precision'] = test_precision_recall_per_user.retrieved_relevant_count / 20\n",
        "test_precision_recall_per_user['recall'] = test_precision_recall_per_user.retrieved_relevant_count / test_precision_recall_per_user.relevant_documents_count\n",
        "test_precision_recall_per_user = test_precision_recall_per_user.fillna(0)\n",
        "\n",
        "#calculate the average precision and recall\n",
        "avg_precision = test_precision_recall_per_user['precision'].mean()\n",
        "avg_recall = test_precision_recall_per_user['recall'].mean()\n",
        "\n",
        "print(\"For men test users based on a recommendation of the best 20 movies: \")\n",
        "print(\"The average precision is: \" + str(avg_precision))\n",
        "print(\"The average recall is: \" + str(avg_recall))\n"
      ],
      "execution_count": null,
      "outputs": [
        {
          "output_type": "stream",
          "text": [
            "For men test users based on a recommendation of the best 20 movies: \n",
            "The average precision is: 0.003963414634146343\n",
            "The average recall is: 0.001724115819699719\n"
          ],
          "name": "stdout"
        }
      ]
    },
    {
      "cell_type": "markdown",
      "metadata": {
        "id": "_rY_4-ZKm8xE"
      },
      "source": [
        "### 2.3 - calculate Precision and Recall when recommending 20 random rating movies to MEN users"
      ]
    },
    {
      "cell_type": "code",
      "metadata": {
        "id": "mtb309LCYzm9",
        "outputId": "398193a3-89b9-4c94-895d-9b976c268356",
        "colab": {
          "base_uri": "https://localhost:8080/",
          "height": 68
        }
      },
      "source": [
        "#EX 2.3 - calculate Precision and Recall when recommending 20 random rating movies to MEN users\n",
        "\n",
        "random_20_movies = men_average_movie_ratings.sample(20) # random 20 movies based on men rating\n",
        "\n",
        "test_random_20_movies = test.merge(random_20_movies, on=\"movie_id\", how='inner') #represents the relevant movies that were retrieved for each user\n",
        "test_random_20_movies_relevant = test_random_20_movies.groupby('user_id')['user_id'].count().reset_index(name=\"retrieved_relevant_count\") #represents the amount of movies that were recommended to the user and were relevant (the user watched them)\n",
        "test_number_of_relevant_documents = test.groupby('user_id')['user_id'].count().reset_index(name=\"relevant_documents_count\") #represents the amount of relevant (that the user watched) movies per user\n",
        "\n",
        "# filter only men users\n",
        "users_data = pd.read_csv(MOVIELENS_DIR + 'u.user',delimiter='|', names=['user_id','age','gender','occupation','zip code'])\n",
        "\n",
        "users = test[['user_id']].drop_duplicates() #all the men users. we need them because maybe some got recommendations that they did not watch any of them\n",
        "men_users = users.merge(users_data, on='user_id', how='inner')\n",
        "men_users = men_users[men_users['gender']=='M']\n",
        "men_users = men_users[['user_id']]\n",
        "\n",
        "# merge the recommended movies number and the relevant movies number\n",
        "test_precision_recall_per_user = men_users.merge(test_random_20_movies_relevant, on='user_id', how='left')\n",
        "test_precision_recall_per_user = test_precision_recall_per_user.merge(test_number_of_relevant_documents, on='user_id', how='inner')\n",
        "\n",
        "# calculate the precision and recall per user\n",
        "test_precision_recall_per_user['precision'] = test_precision_recall_per_user.retrieved_relevant_count / 20\n",
        "test_precision_recall_per_user['recall'] = test_precision_recall_per_user.retrieved_relevant_count / test_precision_recall_per_user.relevant_documents_count\n",
        "test_precision_recall_per_user = test_precision_recall_per_user.fillna(0)\n",
        "\n",
        "#calculate the average precision and recall\n",
        "avg_precision = test_precision_recall_per_user['precision'].mean()\n",
        "avg_recall = test_precision_recall_per_user['recall'].mean()\n",
        "\n",
        "print(\"For men test users based on a recommendation of 20 random movies: \")\n",
        "print(\"The average precision is: \" + str(avg_precision))\n",
        "print(\"The average recall is: \" + str(avg_recall))"
      ],
      "execution_count": null,
      "outputs": [
        {
          "output_type": "stream",
          "text": [
            "For men test users based on a recommendation of 20 random movies: \n",
            "The average precision is: 0.026981707317073163\n",
            "The average recall is: 0.01385697912129671\n"
          ],
          "name": "stdout"
        }
      ]
    },
    {
      "cell_type": "markdown",
      "metadata": {
        "id": "uuiaXNx3nE_F"
      },
      "source": [
        "### 2.3 - calculate Precision and Recall when recommending 20 best rating movies to WOMEN users"
      ]
    },
    {
      "cell_type": "code",
      "metadata": {
        "id": "PdfkU-qvZJol",
        "outputId": "9b049292-7fdc-49da-fc7f-db4854ac5502",
        "colab": {
          "base_uri": "https://localhost:8080/",
          "height": 68
        }
      },
      "source": [
        "#EX 2.3 - calculate Precision and Recall when recommending 20 best rating movies to WOMEN users\n",
        "\n",
        "best_20_movies = women_average_movie_ratings.nlargest(20, 'rating')\n",
        "\n",
        "test_best_20_movies = test.merge(best_20_movies, on=\"movie_id\", how='inner') #represents the relevant movies that were retrieved for each user\n",
        "test_best_20_movies_relevant = test_best_20_movies.groupby('user_id')['user_id'].count().reset_index(name=\"retrieved_relevant_count\") #represents the amount of movies that were recommended to the user and were relevant (the user watched them)\n",
        "test_number_of_relevant_documents = test.groupby('user_id')['user_id'].count().reset_index(name=\"relevant_documents_count\") #represents the amount of relevant (that the user watched) movies per user\n",
        "\n",
        "# filter only women users\n",
        "users_data = pd.read_csv(MOVIELENS_DIR + 'u.user',delimiter='|', names=['user_id','age','gender','occupation','zip code'])\n",
        "\n",
        "users = test[['user_id']].drop_duplicates() #all the women users. we need them because maybe some got recommendations that they did not watch any of them\n",
        "women_users = users.merge(users_data, on='user_id', how='inner')\n",
        "women_users = women_users[women_users['gender']=='F']\n",
        "women_users = women_users[['user_id']]\n",
        "\n",
        "# merge the recommended movies number and the relevant movies number\n",
        "test_precision_recall_per_user = women_users.merge(test_best_20_movies_relevant, on='user_id', how='left')\n",
        "test_precision_recall_per_user = test_precision_recall_per_user.merge(test_number_of_relevant_documents, on='user_id', how='inner')\n",
        "\n",
        "# calculate the precision and recall per user\n",
        "test_precision_recall_per_user['precision'] = test_precision_recall_per_user.retrieved_relevant_count / 20\n",
        "test_precision_recall_per_user['recall'] = test_precision_recall_per_user.retrieved_relevant_count / test_precision_recall_per_user.relevant_documents_count\n",
        "test_precision_recall_per_user = test_precision_recall_per_user.fillna(0)\n",
        "\n",
        "#calculate the average precision and recall\n",
        "avg_precision = test_precision_recall_per_user['precision'].mean()\n",
        "avg_recall = test_precision_recall_per_user['recall'].mean()\n",
        "\n",
        "print(\"For women test users based on a recommendation of the best 20 movies: \")\n",
        "print(\"The average precision is: \" + str(avg_precision))\n",
        "print(\"The average recall is: \" + str(avg_recall))"
      ],
      "execution_count": null,
      "outputs": [
        {
          "output_type": "stream",
          "text": [
            "For women test users based on a recommendation of the best 20 movies: \n",
            "The average precision is: 0.022137404580152672\n",
            "The average recall is: 0.009669421340745285\n"
          ],
          "name": "stdout"
        }
      ]
    },
    {
      "cell_type": "markdown",
      "metadata": {
        "id": "CG0osEzYnMJk"
      },
      "source": [
        "### 2.3 - calculate Precision and Recall when recommending 20 random rating movies to WOMEN users"
      ]
    },
    {
      "cell_type": "code",
      "metadata": {
        "id": "uLWR11GMZvmP",
        "outputId": "4a38115a-8d4d-40d9-edc9-b32b0d168576",
        "colab": {
          "base_uri": "https://localhost:8080/",
          "height": 68
        }
      },
      "source": [
        "#EX 2.3 - calculate Precision and Recall when recommending 20 random rating movies to WOMEN users\n",
        "\n",
        "random_20_movies = women_average_movie_ratings.sample(20)\n",
        "\n",
        "test_random_20_movies = test.merge(random_20_movies, on=\"movie_id\", how='inner') #represents the relevant movies that were retrieved for each user\n",
        "test_random_20_movies_relevant = test_random_20_movies.groupby('user_id')['user_id'].count().reset_index(name=\"retrieved_relevant_count\") #represents the amount of movies that were recommended to the user and were relevant (the user watched them)\n",
        "test_number_of_relevant_documents = test.groupby('user_id')['user_id'].count().reset_index(name=\"relevant_documents_count\") #represents the amount of relevant (that the user watched) movies per user\n",
        "\n",
        "# filter only men users\n",
        "users_data = pd.read_csv(MOVIELENS_DIR + 'u.user',delimiter='|', names=['user_id','age','gender','occupation','zip code'])\n",
        "\n",
        "users = test[['user_id']].drop_duplicates() #all the women users. we need them because maybe some got recommendations that they did not watch any of them\n",
        "women_users = users.merge(users_data, on='user_id', how='inner')\n",
        "women_users = women_users[women_users['gender']=='F']\n",
        "women_users = women_users[['user_id']]\n",
        "\n",
        "# merge the recommended movies number and the relevant movies number\n",
        "test_precision_recall_per_user = women_users.merge(test_random_20_movies_relevant, on='user_id', how='left')\n",
        "test_precision_recall_per_user = test_precision_recall_per_user.merge(test_number_of_relevant_documents, on='user_id', how='inner')\n",
        "\n",
        "# calculate the precision and recall per user\n",
        "test_precision_recall_per_user['precision'] = test_precision_recall_per_user.retrieved_relevant_count / 20\n",
        "test_precision_recall_per_user['recall'] = test_precision_recall_per_user.retrieved_relevant_count / test_precision_recall_per_user.relevant_documents_count\n",
        "test_precision_recall_per_user = test_precision_recall_per_user.fillna(0)\n",
        "\n",
        "#calculate the average precision and recall\n",
        "avg_precision = test_precision_recall_per_user['precision'].mean()\n",
        "avg_recall = test_precision_recall_per_user['recall'].mean()\n",
        "\n",
        "print(\"For women test users based on a recommendation of 20 random movies: \")\n",
        "print(\"The average precision is: \" + str(avg_precision))\n",
        "print(\"The average recall is: \" + str(avg_recall))"
      ],
      "execution_count": null,
      "outputs": [
        {
          "output_type": "stream",
          "text": [
            "For women test users based on a recommendation of 20 random movies: \n",
            "The average precision is: 0.016030534351145043\n",
            "The average recall is: 0.006533949842318579\n"
          ],
          "name": "stdout"
        }
      ]
    },
    {
      "cell_type": "markdown",
      "metadata": {
        "id": "iPmEHhpcgDSr"
      },
      "source": [
        "# **Question 3**"
      ]
    },
    {
      "cell_type": "markdown",
      "metadata": {
        "id": "L8TeDuXJm5W2"
      },
      "source": [
        "### Loading data"
      ]
    },
    {
      "cell_type": "code",
      "metadata": {
        "id": "VriOwRcHt2iu"
      },
      "source": [
        "MOVIELENS_DIR = '/content/drive/My Drive/eCommerce Project/ml-100k/'\n",
        "MOVIES_DATA_FILE = MOVIELENS_DIR + 'u.item'\n",
        "USERS_DATA_FILE = MOVIELENS_DIR + 'u.user'\n",
        "RATING_DATA_FILE = MOVIELENS_DIR + 'u1.base'"
      ],
      "execution_count": null,
      "outputs": []
    },
    {
      "cell_type": "code",
      "metadata": {
        "id": "apYpnP1kunDJ",
        "outputId": "9ed8dc49-df63-4df5-b193-2c41540ad964",
        "colab": {
          "base_uri": "https://localhost:8080/",
          "height": 326
        }
      },
      "source": [
        "movies_cols = ['movie_id','movie_title','release_date','video_release_date','IMDb_URL'\n",
        "          ,'unknown','Action','Adventure','Animation','Childrens','Comedy',\n",
        "          'Crime','Documentary','Drama','Fantasy','Film-Noir','Horror','Musical','Mystery','Romance','Sci-Fi',\n",
        "        'Thriller','War','Western']\n",
        "movies_data = pd.read_csv(MOVIES_DATA_FILE,delimiter='|',names=movies_cols,encoding='latin-1')\n",
        "movies_data.head()"
      ],
      "execution_count": null,
      "outputs": [
        {
          "output_type": "execute_result",
          "data": {
            "text/html": [
              "<div>\n",
              "<style scoped>\n",
              "    .dataframe tbody tr th:only-of-type {\n",
              "        vertical-align: middle;\n",
              "    }\n",
              "\n",
              "    .dataframe tbody tr th {\n",
              "        vertical-align: top;\n",
              "    }\n",
              "\n",
              "    .dataframe thead th {\n",
              "        text-align: right;\n",
              "    }\n",
              "</style>\n",
              "<table border=\"1\" class=\"dataframe\">\n",
              "  <thead>\n",
              "    <tr style=\"text-align: right;\">\n",
              "      <th></th>\n",
              "      <th>movie_id</th>\n",
              "      <th>movie_title</th>\n",
              "      <th>release_date</th>\n",
              "      <th>video_release date</th>\n",
              "      <th>IMDb_URL</th>\n",
              "      <th>unknown</th>\n",
              "      <th>Action</th>\n",
              "      <th>Adventure</th>\n",
              "      <th>Animation</th>\n",
              "      <th>Childrens</th>\n",
              "      <th>Comedy</th>\n",
              "      <th>Crime</th>\n",
              "      <th>Documentary</th>\n",
              "      <th>Drama</th>\n",
              "      <th>Fantasy</th>\n",
              "      <th>Film-Noir</th>\n",
              "      <th>Horror</th>\n",
              "      <th>Musical</th>\n",
              "      <th>Mystery</th>\n",
              "      <th>Romance</th>\n",
              "      <th>Sci-Fi</th>\n",
              "      <th>Thriller</th>\n",
              "      <th>War</th>\n",
              "      <th>Western</th>\n",
              "    </tr>\n",
              "  </thead>\n",
              "  <tbody>\n",
              "    <tr>\n",
              "      <th>0</th>\n",
              "      <td>1</td>\n",
              "      <td>Toy Story (1995)</td>\n",
              "      <td>01-Jan-1995</td>\n",
              "      <td>NaN</td>\n",
              "      <td>http://us.imdb.com/M/title-exact?Toy%20Story%2...</td>\n",
              "      <td>0</td>\n",
              "      <td>0</td>\n",
              "      <td>0</td>\n",
              "      <td>1</td>\n",
              "      <td>1</td>\n",
              "      <td>1</td>\n",
              "      <td>0</td>\n",
              "      <td>0</td>\n",
              "      <td>0</td>\n",
              "      <td>0</td>\n",
              "      <td>0</td>\n",
              "      <td>0</td>\n",
              "      <td>0</td>\n",
              "      <td>0</td>\n",
              "      <td>0</td>\n",
              "      <td>0</td>\n",
              "      <td>0</td>\n",
              "      <td>0</td>\n",
              "      <td>0</td>\n",
              "    </tr>\n",
              "    <tr>\n",
              "      <th>1</th>\n",
              "      <td>2</td>\n",
              "      <td>GoldenEye (1995)</td>\n",
              "      <td>01-Jan-1995</td>\n",
              "      <td>NaN</td>\n",
              "      <td>http://us.imdb.com/M/title-exact?GoldenEye%20(...</td>\n",
              "      <td>0</td>\n",
              "      <td>1</td>\n",
              "      <td>1</td>\n",
              "      <td>0</td>\n",
              "      <td>0</td>\n",
              "      <td>0</td>\n",
              "      <td>0</td>\n",
              "      <td>0</td>\n",
              "      <td>0</td>\n",
              "      <td>0</td>\n",
              "      <td>0</td>\n",
              "      <td>0</td>\n",
              "      <td>0</td>\n",
              "      <td>0</td>\n",
              "      <td>0</td>\n",
              "      <td>0</td>\n",
              "      <td>1</td>\n",
              "      <td>0</td>\n",
              "      <td>0</td>\n",
              "    </tr>\n",
              "    <tr>\n",
              "      <th>2</th>\n",
              "      <td>3</td>\n",
              "      <td>Four Rooms (1995)</td>\n",
              "      <td>01-Jan-1995</td>\n",
              "      <td>NaN</td>\n",
              "      <td>http://us.imdb.com/M/title-exact?Four%20Rooms%...</td>\n",
              "      <td>0</td>\n",
              "      <td>0</td>\n",
              "      <td>0</td>\n",
              "      <td>0</td>\n",
              "      <td>0</td>\n",
              "      <td>0</td>\n",
              "      <td>0</td>\n",
              "      <td>0</td>\n",
              "      <td>0</td>\n",
              "      <td>0</td>\n",
              "      <td>0</td>\n",
              "      <td>0</td>\n",
              "      <td>0</td>\n",
              "      <td>0</td>\n",
              "      <td>0</td>\n",
              "      <td>0</td>\n",
              "      <td>1</td>\n",
              "      <td>0</td>\n",
              "      <td>0</td>\n",
              "    </tr>\n",
              "    <tr>\n",
              "      <th>3</th>\n",
              "      <td>4</td>\n",
              "      <td>Get Shorty (1995)</td>\n",
              "      <td>01-Jan-1995</td>\n",
              "      <td>NaN</td>\n",
              "      <td>http://us.imdb.com/M/title-exact?Get%20Shorty%...</td>\n",
              "      <td>0</td>\n",
              "      <td>1</td>\n",
              "      <td>0</td>\n",
              "      <td>0</td>\n",
              "      <td>0</td>\n",
              "      <td>1</td>\n",
              "      <td>0</td>\n",
              "      <td>0</td>\n",
              "      <td>1</td>\n",
              "      <td>0</td>\n",
              "      <td>0</td>\n",
              "      <td>0</td>\n",
              "      <td>0</td>\n",
              "      <td>0</td>\n",
              "      <td>0</td>\n",
              "      <td>0</td>\n",
              "      <td>0</td>\n",
              "      <td>0</td>\n",
              "      <td>0</td>\n",
              "    </tr>\n",
              "    <tr>\n",
              "      <th>4</th>\n",
              "      <td>5</td>\n",
              "      <td>Copycat (1995)</td>\n",
              "      <td>01-Jan-1995</td>\n",
              "      <td>NaN</td>\n",
              "      <td>http://us.imdb.com/M/title-exact?Copycat%20(1995)</td>\n",
              "      <td>0</td>\n",
              "      <td>0</td>\n",
              "      <td>0</td>\n",
              "      <td>0</td>\n",
              "      <td>0</td>\n",
              "      <td>0</td>\n",
              "      <td>1</td>\n",
              "      <td>0</td>\n",
              "      <td>1</td>\n",
              "      <td>0</td>\n",
              "      <td>0</td>\n",
              "      <td>0</td>\n",
              "      <td>0</td>\n",
              "      <td>0</td>\n",
              "      <td>0</td>\n",
              "      <td>0</td>\n",
              "      <td>1</td>\n",
              "      <td>0</td>\n",
              "      <td>0</td>\n",
              "    </tr>\n",
              "  </tbody>\n",
              "</table>\n",
              "</div>"
            ],
            "text/plain": [
              "   movie_id        movie_title release_date  ...  Thriller War  Western\n",
              "0         1   Toy Story (1995)  01-Jan-1995  ...         0   0        0\n",
              "1         2   GoldenEye (1995)  01-Jan-1995  ...         1   0        0\n",
              "2         3  Four Rooms (1995)  01-Jan-1995  ...         1   0        0\n",
              "3         4  Get Shorty (1995)  01-Jan-1995  ...         0   0        0\n",
              "4         5     Copycat (1995)  01-Jan-1995  ...         1   0        0\n",
              "\n",
              "[5 rows x 24 columns]"
            ]
          },
          "metadata": {
            "tags": []
          },
          "execution_count": 6
        }
      ]
    },
    {
      "cell_type": "code",
      "metadata": {
        "id": "NU8BvlWPux3k",
        "outputId": "95196c0e-e6e2-4109-e2fa-bfd10a1a76b5",
        "colab": {
          "base_uri": "https://localhost:8080/",
          "height": 202
        }
      },
      "source": [
        "user_cols = ['user_id', 'age', 'gender', 'occupation', 'zip_code']\n",
        "users_data = pd.read_csv(USERS_DATA_FILE,delimiter='|',names=user_cols, encoding='latin-1')\n",
        "users_data.head()"
      ],
      "execution_count": null,
      "outputs": [
        {
          "output_type": "execute_result",
          "data": {
            "text/html": [
              "<div>\n",
              "<style scoped>\n",
              "    .dataframe tbody tr th:only-of-type {\n",
              "        vertical-align: middle;\n",
              "    }\n",
              "\n",
              "    .dataframe tbody tr th {\n",
              "        vertical-align: top;\n",
              "    }\n",
              "\n",
              "    .dataframe thead th {\n",
              "        text-align: right;\n",
              "    }\n",
              "</style>\n",
              "<table border=\"1\" class=\"dataframe\">\n",
              "  <thead>\n",
              "    <tr style=\"text-align: right;\">\n",
              "      <th></th>\n",
              "      <th>user_id</th>\n",
              "      <th>age</th>\n",
              "      <th>gender</th>\n",
              "      <th>occupation</th>\n",
              "      <th>zip_code</th>\n",
              "    </tr>\n",
              "  </thead>\n",
              "  <tbody>\n",
              "    <tr>\n",
              "      <th>0</th>\n",
              "      <td>1</td>\n",
              "      <td>24</td>\n",
              "      <td>M</td>\n",
              "      <td>technician</td>\n",
              "      <td>85711</td>\n",
              "    </tr>\n",
              "    <tr>\n",
              "      <th>1</th>\n",
              "      <td>2</td>\n",
              "      <td>53</td>\n",
              "      <td>F</td>\n",
              "      <td>other</td>\n",
              "      <td>94043</td>\n",
              "    </tr>\n",
              "    <tr>\n",
              "      <th>2</th>\n",
              "      <td>3</td>\n",
              "      <td>23</td>\n",
              "      <td>M</td>\n",
              "      <td>writer</td>\n",
              "      <td>32067</td>\n",
              "    </tr>\n",
              "    <tr>\n",
              "      <th>3</th>\n",
              "      <td>4</td>\n",
              "      <td>24</td>\n",
              "      <td>M</td>\n",
              "      <td>technician</td>\n",
              "      <td>43537</td>\n",
              "    </tr>\n",
              "    <tr>\n",
              "      <th>4</th>\n",
              "      <td>5</td>\n",
              "      <td>33</td>\n",
              "      <td>F</td>\n",
              "      <td>other</td>\n",
              "      <td>15213</td>\n",
              "    </tr>\n",
              "  </tbody>\n",
              "</table>\n",
              "</div>"
            ],
            "text/plain": [
              "   user_id  age gender  occupation zip_code\n",
              "0        1   24      M  technician    85711\n",
              "1        2   53      F       other    94043\n",
              "2        3   23      M      writer    32067\n",
              "3        4   24      M  technician    43537\n",
              "4        5   33      F       other    15213"
            ]
          },
          "metadata": {
            "tags": []
          },
          "execution_count": 7
        }
      ]
    },
    {
      "cell_type": "code",
      "metadata": {
        "id": "upcOxLvxxsEJ",
        "outputId": "33d924b2-3997-4c25-d56b-a250ecf8fca0",
        "colab": {
          "base_uri": "https://localhost:8080/",
          "height": 35
        }
      },
      "source": [
        "rating_cols = ['user_id', 'movie_id', 'rating', 'timestamp']\n",
        "rating_data = pd.read_csv(RATING_DATA_FILE, delimiter='\\t', names=rating_cols, encoding='latin-1')\n",
        "rating_data.shape"
      ],
      "execution_count": null,
      "outputs": [
        {
          "output_type": "execute_result",
          "data": {
            "text/plain": [
              "(80000, 4)"
            ]
          },
          "metadata": {
            "tags": []
          },
          "execution_count": 8
        }
      ]
    },
    {
      "cell_type": "markdown",
      "metadata": {
        "id": "IUPb1L-Xm9ny"
      },
      "source": [
        "### Getting data ready for turicreate"
      ]
    },
    {
      "cell_type": "code",
      "metadata": {
        "id": "PCm753-4wKjx",
        "outputId": "9b74626d-2302-471f-a4f9-151652ee910e",
        "colab": {
          "base_uri": "https://localhost:8080/",
          "height": 448
        }
      },
      "source": [
        "rating_sf = turicreate.SFrame(rating_data.replace({np.nan: None})).remove_columns(['timestamp'])\n",
        "user_sf = turicreate.SFrame(users_data.replace({np.nan: None})).remove_columns(['zip_code', 'occupation'])\n",
        "movie_sf = turicreate.SFrame(movies_data.replace({np.nan: None}))\n",
        "movie_sf = movie_sf.remove_columns(['movie_title', 'release_date', 'video_release_date', 'IMDb_URL'])\n",
        "movie_sf.head()"
      ],
      "execution_count": null,
      "outputs": [
        {
          "output_type": "execute_result",
          "data": {
            "text/html": [
              "<div style=\"max-height:1000px;max-width:1500px;overflow:auto;\"><table frame=\"box\" rules=\"cols\">\n",
              "    <tr>\n",
              "        <th style=\"padding-left: 1em; padding-right: 1em; text-align: center\">movie_id</th>\n",
              "        <th style=\"padding-left: 1em; padding-right: 1em; text-align: center\">unknown</th>\n",
              "        <th style=\"padding-left: 1em; padding-right: 1em; text-align: center\">Action</th>\n",
              "        <th style=\"padding-left: 1em; padding-right: 1em; text-align: center\">Adventure</th>\n",
              "        <th style=\"padding-left: 1em; padding-right: 1em; text-align: center\">Animation</th>\n",
              "        <th style=\"padding-left: 1em; padding-right: 1em; text-align: center\">Childrens</th>\n",
              "        <th style=\"padding-left: 1em; padding-right: 1em; text-align: center\">Comedy</th>\n",
              "        <th style=\"padding-left: 1em; padding-right: 1em; text-align: center\">Crime</th>\n",
              "        <th style=\"padding-left: 1em; padding-right: 1em; text-align: center\">Documentary</th>\n",
              "        <th style=\"padding-left: 1em; padding-right: 1em; text-align: center\">Drama</th>\n",
              "        <th style=\"padding-left: 1em; padding-right: 1em; text-align: center\">Fantasy</th>\n",
              "        <th style=\"padding-left: 1em; padding-right: 1em; text-align: center\">Film-Noir</th>\n",
              "    </tr>\n",
              "    <tr>\n",
              "        <td style=\"padding-left: 1em; padding-right: 1em; text-align: center; vertical-align: top\">1</td>\n",
              "        <td style=\"padding-left: 1em; padding-right: 1em; text-align: center; vertical-align: top\">0</td>\n",
              "        <td style=\"padding-left: 1em; padding-right: 1em; text-align: center; vertical-align: top\">0</td>\n",
              "        <td style=\"padding-left: 1em; padding-right: 1em; text-align: center; vertical-align: top\">0</td>\n",
              "        <td style=\"padding-left: 1em; padding-right: 1em; text-align: center; vertical-align: top\">1</td>\n",
              "        <td style=\"padding-left: 1em; padding-right: 1em; text-align: center; vertical-align: top\">1</td>\n",
              "        <td style=\"padding-left: 1em; padding-right: 1em; text-align: center; vertical-align: top\">1</td>\n",
              "        <td style=\"padding-left: 1em; padding-right: 1em; text-align: center; vertical-align: top\">0</td>\n",
              "        <td style=\"padding-left: 1em; padding-right: 1em; text-align: center; vertical-align: top\">0</td>\n",
              "        <td style=\"padding-left: 1em; padding-right: 1em; text-align: center; vertical-align: top\">0</td>\n",
              "        <td style=\"padding-left: 1em; padding-right: 1em; text-align: center; vertical-align: top\">0</td>\n",
              "        <td style=\"padding-left: 1em; padding-right: 1em; text-align: center; vertical-align: top\">0</td>\n",
              "    </tr>\n",
              "    <tr>\n",
              "        <td style=\"padding-left: 1em; padding-right: 1em; text-align: center; vertical-align: top\">2</td>\n",
              "        <td style=\"padding-left: 1em; padding-right: 1em; text-align: center; vertical-align: top\">0</td>\n",
              "        <td style=\"padding-left: 1em; padding-right: 1em; text-align: center; vertical-align: top\">1</td>\n",
              "        <td style=\"padding-left: 1em; padding-right: 1em; text-align: center; vertical-align: top\">1</td>\n",
              "        <td style=\"padding-left: 1em; padding-right: 1em; text-align: center; vertical-align: top\">0</td>\n",
              "        <td style=\"padding-left: 1em; padding-right: 1em; text-align: center; vertical-align: top\">0</td>\n",
              "        <td style=\"padding-left: 1em; padding-right: 1em; text-align: center; vertical-align: top\">0</td>\n",
              "        <td style=\"padding-left: 1em; padding-right: 1em; text-align: center; vertical-align: top\">0</td>\n",
              "        <td style=\"padding-left: 1em; padding-right: 1em; text-align: center; vertical-align: top\">0</td>\n",
              "        <td style=\"padding-left: 1em; padding-right: 1em; text-align: center; vertical-align: top\">0</td>\n",
              "        <td style=\"padding-left: 1em; padding-right: 1em; text-align: center; vertical-align: top\">0</td>\n",
              "        <td style=\"padding-left: 1em; padding-right: 1em; text-align: center; vertical-align: top\">0</td>\n",
              "    </tr>\n",
              "    <tr>\n",
              "        <td style=\"padding-left: 1em; padding-right: 1em; text-align: center; vertical-align: top\">3</td>\n",
              "        <td style=\"padding-left: 1em; padding-right: 1em; text-align: center; vertical-align: top\">0</td>\n",
              "        <td style=\"padding-left: 1em; padding-right: 1em; text-align: center; vertical-align: top\">0</td>\n",
              "        <td style=\"padding-left: 1em; padding-right: 1em; text-align: center; vertical-align: top\">0</td>\n",
              "        <td style=\"padding-left: 1em; padding-right: 1em; text-align: center; vertical-align: top\">0</td>\n",
              "        <td style=\"padding-left: 1em; padding-right: 1em; text-align: center; vertical-align: top\">0</td>\n",
              "        <td style=\"padding-left: 1em; padding-right: 1em; text-align: center; vertical-align: top\">0</td>\n",
              "        <td style=\"padding-left: 1em; padding-right: 1em; text-align: center; vertical-align: top\">0</td>\n",
              "        <td style=\"padding-left: 1em; padding-right: 1em; text-align: center; vertical-align: top\">0</td>\n",
              "        <td style=\"padding-left: 1em; padding-right: 1em; text-align: center; vertical-align: top\">0</td>\n",
              "        <td style=\"padding-left: 1em; padding-right: 1em; text-align: center; vertical-align: top\">0</td>\n",
              "        <td style=\"padding-left: 1em; padding-right: 1em; text-align: center; vertical-align: top\">0</td>\n",
              "    </tr>\n",
              "    <tr>\n",
              "        <td style=\"padding-left: 1em; padding-right: 1em; text-align: center; vertical-align: top\">4</td>\n",
              "        <td style=\"padding-left: 1em; padding-right: 1em; text-align: center; vertical-align: top\">0</td>\n",
              "        <td style=\"padding-left: 1em; padding-right: 1em; text-align: center; vertical-align: top\">1</td>\n",
              "        <td style=\"padding-left: 1em; padding-right: 1em; text-align: center; vertical-align: top\">0</td>\n",
              "        <td style=\"padding-left: 1em; padding-right: 1em; text-align: center; vertical-align: top\">0</td>\n",
              "        <td style=\"padding-left: 1em; padding-right: 1em; text-align: center; vertical-align: top\">0</td>\n",
              "        <td style=\"padding-left: 1em; padding-right: 1em; text-align: center; vertical-align: top\">1</td>\n",
              "        <td style=\"padding-left: 1em; padding-right: 1em; text-align: center; vertical-align: top\">0</td>\n",
              "        <td style=\"padding-left: 1em; padding-right: 1em; text-align: center; vertical-align: top\">0</td>\n",
              "        <td style=\"padding-left: 1em; padding-right: 1em; text-align: center; vertical-align: top\">1</td>\n",
              "        <td style=\"padding-left: 1em; padding-right: 1em; text-align: center; vertical-align: top\">0</td>\n",
              "        <td style=\"padding-left: 1em; padding-right: 1em; text-align: center; vertical-align: top\">0</td>\n",
              "    </tr>\n",
              "    <tr>\n",
              "        <td style=\"padding-left: 1em; padding-right: 1em; text-align: center; vertical-align: top\">5</td>\n",
              "        <td style=\"padding-left: 1em; padding-right: 1em; text-align: center; vertical-align: top\">0</td>\n",
              "        <td style=\"padding-left: 1em; padding-right: 1em; text-align: center; vertical-align: top\">0</td>\n",
              "        <td style=\"padding-left: 1em; padding-right: 1em; text-align: center; vertical-align: top\">0</td>\n",
              "        <td style=\"padding-left: 1em; padding-right: 1em; text-align: center; vertical-align: top\">0</td>\n",
              "        <td style=\"padding-left: 1em; padding-right: 1em; text-align: center; vertical-align: top\">0</td>\n",
              "        <td style=\"padding-left: 1em; padding-right: 1em; text-align: center; vertical-align: top\">0</td>\n",
              "        <td style=\"padding-left: 1em; padding-right: 1em; text-align: center; vertical-align: top\">1</td>\n",
              "        <td style=\"padding-left: 1em; padding-right: 1em; text-align: center; vertical-align: top\">0</td>\n",
              "        <td style=\"padding-left: 1em; padding-right: 1em; text-align: center; vertical-align: top\">1</td>\n",
              "        <td style=\"padding-left: 1em; padding-right: 1em; text-align: center; vertical-align: top\">0</td>\n",
              "        <td style=\"padding-left: 1em; padding-right: 1em; text-align: center; vertical-align: top\">0</td>\n",
              "    </tr>\n",
              "    <tr>\n",
              "        <td style=\"padding-left: 1em; padding-right: 1em; text-align: center; vertical-align: top\">6</td>\n",
              "        <td style=\"padding-left: 1em; padding-right: 1em; text-align: center; vertical-align: top\">0</td>\n",
              "        <td style=\"padding-left: 1em; padding-right: 1em; text-align: center; vertical-align: top\">0</td>\n",
              "        <td style=\"padding-left: 1em; padding-right: 1em; text-align: center; vertical-align: top\">0</td>\n",
              "        <td style=\"padding-left: 1em; padding-right: 1em; text-align: center; vertical-align: top\">0</td>\n",
              "        <td style=\"padding-left: 1em; padding-right: 1em; text-align: center; vertical-align: top\">0</td>\n",
              "        <td style=\"padding-left: 1em; padding-right: 1em; text-align: center; vertical-align: top\">0</td>\n",
              "        <td style=\"padding-left: 1em; padding-right: 1em; text-align: center; vertical-align: top\">0</td>\n",
              "        <td style=\"padding-left: 1em; padding-right: 1em; text-align: center; vertical-align: top\">0</td>\n",
              "        <td style=\"padding-left: 1em; padding-right: 1em; text-align: center; vertical-align: top\">1</td>\n",
              "        <td style=\"padding-left: 1em; padding-right: 1em; text-align: center; vertical-align: top\">0</td>\n",
              "        <td style=\"padding-left: 1em; padding-right: 1em; text-align: center; vertical-align: top\">0</td>\n",
              "    </tr>\n",
              "    <tr>\n",
              "        <td style=\"padding-left: 1em; padding-right: 1em; text-align: center; vertical-align: top\">7</td>\n",
              "        <td style=\"padding-left: 1em; padding-right: 1em; text-align: center; vertical-align: top\">0</td>\n",
              "        <td style=\"padding-left: 1em; padding-right: 1em; text-align: center; vertical-align: top\">0</td>\n",
              "        <td style=\"padding-left: 1em; padding-right: 1em; text-align: center; vertical-align: top\">0</td>\n",
              "        <td style=\"padding-left: 1em; padding-right: 1em; text-align: center; vertical-align: top\">0</td>\n",
              "        <td style=\"padding-left: 1em; padding-right: 1em; text-align: center; vertical-align: top\">0</td>\n",
              "        <td style=\"padding-left: 1em; padding-right: 1em; text-align: center; vertical-align: top\">0</td>\n",
              "        <td style=\"padding-left: 1em; padding-right: 1em; text-align: center; vertical-align: top\">0</td>\n",
              "        <td style=\"padding-left: 1em; padding-right: 1em; text-align: center; vertical-align: top\">0</td>\n",
              "        <td style=\"padding-left: 1em; padding-right: 1em; text-align: center; vertical-align: top\">1</td>\n",
              "        <td style=\"padding-left: 1em; padding-right: 1em; text-align: center; vertical-align: top\">0</td>\n",
              "        <td style=\"padding-left: 1em; padding-right: 1em; text-align: center; vertical-align: top\">0</td>\n",
              "    </tr>\n",
              "    <tr>\n",
              "        <td style=\"padding-left: 1em; padding-right: 1em; text-align: center; vertical-align: top\">8</td>\n",
              "        <td style=\"padding-left: 1em; padding-right: 1em; text-align: center; vertical-align: top\">0</td>\n",
              "        <td style=\"padding-left: 1em; padding-right: 1em; text-align: center; vertical-align: top\">0</td>\n",
              "        <td style=\"padding-left: 1em; padding-right: 1em; text-align: center; vertical-align: top\">0</td>\n",
              "        <td style=\"padding-left: 1em; padding-right: 1em; text-align: center; vertical-align: top\">0</td>\n",
              "        <td style=\"padding-left: 1em; padding-right: 1em; text-align: center; vertical-align: top\">1</td>\n",
              "        <td style=\"padding-left: 1em; padding-right: 1em; text-align: center; vertical-align: top\">1</td>\n",
              "        <td style=\"padding-left: 1em; padding-right: 1em; text-align: center; vertical-align: top\">0</td>\n",
              "        <td style=\"padding-left: 1em; padding-right: 1em; text-align: center; vertical-align: top\">0</td>\n",
              "        <td style=\"padding-left: 1em; padding-right: 1em; text-align: center; vertical-align: top\">1</td>\n",
              "        <td style=\"padding-left: 1em; padding-right: 1em; text-align: center; vertical-align: top\">0</td>\n",
              "        <td style=\"padding-left: 1em; padding-right: 1em; text-align: center; vertical-align: top\">0</td>\n",
              "    </tr>\n",
              "    <tr>\n",
              "        <td style=\"padding-left: 1em; padding-right: 1em; text-align: center; vertical-align: top\">9</td>\n",
              "        <td style=\"padding-left: 1em; padding-right: 1em; text-align: center; vertical-align: top\">0</td>\n",
              "        <td style=\"padding-left: 1em; padding-right: 1em; text-align: center; vertical-align: top\">0</td>\n",
              "        <td style=\"padding-left: 1em; padding-right: 1em; text-align: center; vertical-align: top\">0</td>\n",
              "        <td style=\"padding-left: 1em; padding-right: 1em; text-align: center; vertical-align: top\">0</td>\n",
              "        <td style=\"padding-left: 1em; padding-right: 1em; text-align: center; vertical-align: top\">0</td>\n",
              "        <td style=\"padding-left: 1em; padding-right: 1em; text-align: center; vertical-align: top\">0</td>\n",
              "        <td style=\"padding-left: 1em; padding-right: 1em; text-align: center; vertical-align: top\">0</td>\n",
              "        <td style=\"padding-left: 1em; padding-right: 1em; text-align: center; vertical-align: top\">0</td>\n",
              "        <td style=\"padding-left: 1em; padding-right: 1em; text-align: center; vertical-align: top\">1</td>\n",
              "        <td style=\"padding-left: 1em; padding-right: 1em; text-align: center; vertical-align: top\">0</td>\n",
              "        <td style=\"padding-left: 1em; padding-right: 1em; text-align: center; vertical-align: top\">0</td>\n",
              "    </tr>\n",
              "    <tr>\n",
              "        <td style=\"padding-left: 1em; padding-right: 1em; text-align: center; vertical-align: top\">10</td>\n",
              "        <td style=\"padding-left: 1em; padding-right: 1em; text-align: center; vertical-align: top\">0</td>\n",
              "        <td style=\"padding-left: 1em; padding-right: 1em; text-align: center; vertical-align: top\">0</td>\n",
              "        <td style=\"padding-left: 1em; padding-right: 1em; text-align: center; vertical-align: top\">0</td>\n",
              "        <td style=\"padding-left: 1em; padding-right: 1em; text-align: center; vertical-align: top\">0</td>\n",
              "        <td style=\"padding-left: 1em; padding-right: 1em; text-align: center; vertical-align: top\">0</td>\n",
              "        <td style=\"padding-left: 1em; padding-right: 1em; text-align: center; vertical-align: top\">0</td>\n",
              "        <td style=\"padding-left: 1em; padding-right: 1em; text-align: center; vertical-align: top\">0</td>\n",
              "        <td style=\"padding-left: 1em; padding-right: 1em; text-align: center; vertical-align: top\">0</td>\n",
              "        <td style=\"padding-left: 1em; padding-right: 1em; text-align: center; vertical-align: top\">1</td>\n",
              "        <td style=\"padding-left: 1em; padding-right: 1em; text-align: center; vertical-align: top\">0</td>\n",
              "        <td style=\"padding-left: 1em; padding-right: 1em; text-align: center; vertical-align: top\">0</td>\n",
              "    </tr>\n",
              "</table>\n",
              "<table frame=\"box\" rules=\"cols\">\n",
              "    <tr>\n",
              "        <th style=\"padding-left: 1em; padding-right: 1em; text-align: center\">Horror</th>\n",
              "        <th style=\"padding-left: 1em; padding-right: 1em; text-align: center\">Musical</th>\n",
              "        <th style=\"padding-left: 1em; padding-right: 1em; text-align: center\">Mystery</th>\n",
              "        <th style=\"padding-left: 1em; padding-right: 1em; text-align: center\">Romance</th>\n",
              "        <th style=\"padding-left: 1em; padding-right: 1em; text-align: center\">Sci-Fi</th>\n",
              "        <th style=\"padding-left: 1em; padding-right: 1em; text-align: center\">Thriller</th>\n",
              "        <th style=\"padding-left: 1em; padding-right: 1em; text-align: center\">War</th>\n",
              "        <th style=\"padding-left: 1em; padding-right: 1em; text-align: center\">Western</th>\n",
              "    </tr>\n",
              "    <tr>\n",
              "        <td style=\"padding-left: 1em; padding-right: 1em; text-align: center; vertical-align: top\">0</td>\n",
              "        <td style=\"padding-left: 1em; padding-right: 1em; text-align: center; vertical-align: top\">0</td>\n",
              "        <td style=\"padding-left: 1em; padding-right: 1em; text-align: center; vertical-align: top\">0</td>\n",
              "        <td style=\"padding-left: 1em; padding-right: 1em; text-align: center; vertical-align: top\">0</td>\n",
              "        <td style=\"padding-left: 1em; padding-right: 1em; text-align: center; vertical-align: top\">0</td>\n",
              "        <td style=\"padding-left: 1em; padding-right: 1em; text-align: center; vertical-align: top\">0</td>\n",
              "        <td style=\"padding-left: 1em; padding-right: 1em; text-align: center; vertical-align: top\">0</td>\n",
              "        <td style=\"padding-left: 1em; padding-right: 1em; text-align: center; vertical-align: top\">0</td>\n",
              "    </tr>\n",
              "    <tr>\n",
              "        <td style=\"padding-left: 1em; padding-right: 1em; text-align: center; vertical-align: top\">0</td>\n",
              "        <td style=\"padding-left: 1em; padding-right: 1em; text-align: center; vertical-align: top\">0</td>\n",
              "        <td style=\"padding-left: 1em; padding-right: 1em; text-align: center; vertical-align: top\">0</td>\n",
              "        <td style=\"padding-left: 1em; padding-right: 1em; text-align: center; vertical-align: top\">0</td>\n",
              "        <td style=\"padding-left: 1em; padding-right: 1em; text-align: center; vertical-align: top\">0</td>\n",
              "        <td style=\"padding-left: 1em; padding-right: 1em; text-align: center; vertical-align: top\">1</td>\n",
              "        <td style=\"padding-left: 1em; padding-right: 1em; text-align: center; vertical-align: top\">0</td>\n",
              "        <td style=\"padding-left: 1em; padding-right: 1em; text-align: center; vertical-align: top\">0</td>\n",
              "    </tr>\n",
              "    <tr>\n",
              "        <td style=\"padding-left: 1em; padding-right: 1em; text-align: center; vertical-align: top\">0</td>\n",
              "        <td style=\"padding-left: 1em; padding-right: 1em; text-align: center; vertical-align: top\">0</td>\n",
              "        <td style=\"padding-left: 1em; padding-right: 1em; text-align: center; vertical-align: top\">0</td>\n",
              "        <td style=\"padding-left: 1em; padding-right: 1em; text-align: center; vertical-align: top\">0</td>\n",
              "        <td style=\"padding-left: 1em; padding-right: 1em; text-align: center; vertical-align: top\">0</td>\n",
              "        <td style=\"padding-left: 1em; padding-right: 1em; text-align: center; vertical-align: top\">1</td>\n",
              "        <td style=\"padding-left: 1em; padding-right: 1em; text-align: center; vertical-align: top\">0</td>\n",
              "        <td style=\"padding-left: 1em; padding-right: 1em; text-align: center; vertical-align: top\">0</td>\n",
              "    </tr>\n",
              "    <tr>\n",
              "        <td style=\"padding-left: 1em; padding-right: 1em; text-align: center; vertical-align: top\">0</td>\n",
              "        <td style=\"padding-left: 1em; padding-right: 1em; text-align: center; vertical-align: top\">0</td>\n",
              "        <td style=\"padding-left: 1em; padding-right: 1em; text-align: center; vertical-align: top\">0</td>\n",
              "        <td style=\"padding-left: 1em; padding-right: 1em; text-align: center; vertical-align: top\">0</td>\n",
              "        <td style=\"padding-left: 1em; padding-right: 1em; text-align: center; vertical-align: top\">0</td>\n",
              "        <td style=\"padding-left: 1em; padding-right: 1em; text-align: center; vertical-align: top\">0</td>\n",
              "        <td style=\"padding-left: 1em; padding-right: 1em; text-align: center; vertical-align: top\">0</td>\n",
              "        <td style=\"padding-left: 1em; padding-right: 1em; text-align: center; vertical-align: top\">0</td>\n",
              "    </tr>\n",
              "    <tr>\n",
              "        <td style=\"padding-left: 1em; padding-right: 1em; text-align: center; vertical-align: top\">0</td>\n",
              "        <td style=\"padding-left: 1em; padding-right: 1em; text-align: center; vertical-align: top\">0</td>\n",
              "        <td style=\"padding-left: 1em; padding-right: 1em; text-align: center; vertical-align: top\">0</td>\n",
              "        <td style=\"padding-left: 1em; padding-right: 1em; text-align: center; vertical-align: top\">0</td>\n",
              "        <td style=\"padding-left: 1em; padding-right: 1em; text-align: center; vertical-align: top\">0</td>\n",
              "        <td style=\"padding-left: 1em; padding-right: 1em; text-align: center; vertical-align: top\">1</td>\n",
              "        <td style=\"padding-left: 1em; padding-right: 1em; text-align: center; vertical-align: top\">0</td>\n",
              "        <td style=\"padding-left: 1em; padding-right: 1em; text-align: center; vertical-align: top\">0</td>\n",
              "    </tr>\n",
              "    <tr>\n",
              "        <td style=\"padding-left: 1em; padding-right: 1em; text-align: center; vertical-align: top\">0</td>\n",
              "        <td style=\"padding-left: 1em; padding-right: 1em; text-align: center; vertical-align: top\">0</td>\n",
              "        <td style=\"padding-left: 1em; padding-right: 1em; text-align: center; vertical-align: top\">0</td>\n",
              "        <td style=\"padding-left: 1em; padding-right: 1em; text-align: center; vertical-align: top\">0</td>\n",
              "        <td style=\"padding-left: 1em; padding-right: 1em; text-align: center; vertical-align: top\">0</td>\n",
              "        <td style=\"padding-left: 1em; padding-right: 1em; text-align: center; vertical-align: top\">0</td>\n",
              "        <td style=\"padding-left: 1em; padding-right: 1em; text-align: center; vertical-align: top\">0</td>\n",
              "        <td style=\"padding-left: 1em; padding-right: 1em; text-align: center; vertical-align: top\">0</td>\n",
              "    </tr>\n",
              "    <tr>\n",
              "        <td style=\"padding-left: 1em; padding-right: 1em; text-align: center; vertical-align: top\">0</td>\n",
              "        <td style=\"padding-left: 1em; padding-right: 1em; text-align: center; vertical-align: top\">0</td>\n",
              "        <td style=\"padding-left: 1em; padding-right: 1em; text-align: center; vertical-align: top\">0</td>\n",
              "        <td style=\"padding-left: 1em; padding-right: 1em; text-align: center; vertical-align: top\">0</td>\n",
              "        <td style=\"padding-left: 1em; padding-right: 1em; text-align: center; vertical-align: top\">1</td>\n",
              "        <td style=\"padding-left: 1em; padding-right: 1em; text-align: center; vertical-align: top\">0</td>\n",
              "        <td style=\"padding-left: 1em; padding-right: 1em; text-align: center; vertical-align: top\">0</td>\n",
              "        <td style=\"padding-left: 1em; padding-right: 1em; text-align: center; vertical-align: top\">0</td>\n",
              "    </tr>\n",
              "    <tr>\n",
              "        <td style=\"padding-left: 1em; padding-right: 1em; text-align: center; vertical-align: top\">0</td>\n",
              "        <td style=\"padding-left: 1em; padding-right: 1em; text-align: center; vertical-align: top\">0</td>\n",
              "        <td style=\"padding-left: 1em; padding-right: 1em; text-align: center; vertical-align: top\">0</td>\n",
              "        <td style=\"padding-left: 1em; padding-right: 1em; text-align: center; vertical-align: top\">0</td>\n",
              "        <td style=\"padding-left: 1em; padding-right: 1em; text-align: center; vertical-align: top\">0</td>\n",
              "        <td style=\"padding-left: 1em; padding-right: 1em; text-align: center; vertical-align: top\">0</td>\n",
              "        <td style=\"padding-left: 1em; padding-right: 1em; text-align: center; vertical-align: top\">0</td>\n",
              "        <td style=\"padding-left: 1em; padding-right: 1em; text-align: center; vertical-align: top\">0</td>\n",
              "    </tr>\n",
              "    <tr>\n",
              "        <td style=\"padding-left: 1em; padding-right: 1em; text-align: center; vertical-align: top\">0</td>\n",
              "        <td style=\"padding-left: 1em; padding-right: 1em; text-align: center; vertical-align: top\">0</td>\n",
              "        <td style=\"padding-left: 1em; padding-right: 1em; text-align: center; vertical-align: top\">0</td>\n",
              "        <td style=\"padding-left: 1em; padding-right: 1em; text-align: center; vertical-align: top\">0</td>\n",
              "        <td style=\"padding-left: 1em; padding-right: 1em; text-align: center; vertical-align: top\">0</td>\n",
              "        <td style=\"padding-left: 1em; padding-right: 1em; text-align: center; vertical-align: top\">0</td>\n",
              "        <td style=\"padding-left: 1em; padding-right: 1em; text-align: center; vertical-align: top\">0</td>\n",
              "        <td style=\"padding-left: 1em; padding-right: 1em; text-align: center; vertical-align: top\">0</td>\n",
              "    </tr>\n",
              "    <tr>\n",
              "        <td style=\"padding-left: 1em; padding-right: 1em; text-align: center; vertical-align: top\">0</td>\n",
              "        <td style=\"padding-left: 1em; padding-right: 1em; text-align: center; vertical-align: top\">0</td>\n",
              "        <td style=\"padding-left: 1em; padding-right: 1em; text-align: center; vertical-align: top\">0</td>\n",
              "        <td style=\"padding-left: 1em; padding-right: 1em; text-align: center; vertical-align: top\">0</td>\n",
              "        <td style=\"padding-left: 1em; padding-right: 1em; text-align: center; vertical-align: top\">0</td>\n",
              "        <td style=\"padding-left: 1em; padding-right: 1em; text-align: center; vertical-align: top\">0</td>\n",
              "        <td style=\"padding-left: 1em; padding-right: 1em; text-align: center; vertical-align: top\">1</td>\n",
              "        <td style=\"padding-left: 1em; padding-right: 1em; text-align: center; vertical-align: top\">0</td>\n",
              "    </tr>\n",
              "</table>\n",
              "[10 rows x 20 columns]<br/>\n",
              "</div>"
            ],
            "text/plain": [
              "Columns:\n",
              "\tmovie_id\tint\n",
              "\tunknown\tint\n",
              "\tAction\tint\n",
              "\tAdventure\tint\n",
              "\tAnimation\tint\n",
              "\tChildrens\tint\n",
              "\tComedy\tint\n",
              "\tCrime\tint\n",
              "\tDocumentary\tint\n",
              "\tDrama\tint\n",
              "\tFantasy\tint\n",
              "\tFilm-Noir\tint\n",
              "\tHorror\tint\n",
              "\tMusical\tint\n",
              "\tMystery\tint\n",
              "\tRomance\tint\n",
              "\tSci-Fi\tint\n",
              "\tThriller\tint\n",
              "\tWar\tint\n",
              "\tWestern\tint\n",
              "\n",
              "Rows: 10\n",
              "\n",
              "Data:\n",
              "+----------+---------+--------+-----------+-----------+-----------+--------+-------+\n",
              "| movie_id | unknown | Action | Adventure | Animation | Childrens | Comedy | Crime |\n",
              "+----------+---------+--------+-----------+-----------+-----------+--------+-------+\n",
              "|    1     |    0    |   0    |     0     |     1     |     1     |   1    |   0   |\n",
              "|    2     |    0    |   1    |     1     |     0     |     0     |   0    |   0   |\n",
              "|    3     |    0    |   0    |     0     |     0     |     0     |   0    |   0   |\n",
              "|    4     |    0    |   1    |     0     |     0     |     0     |   1    |   0   |\n",
              "|    5     |    0    |   0    |     0     |     0     |     0     |   0    |   1   |\n",
              "|    6     |    0    |   0    |     0     |     0     |     0     |   0    |   0   |\n",
              "|    7     |    0    |   0    |     0     |     0     |     0     |   0    |   0   |\n",
              "|    8     |    0    |   0    |     0     |     0     |     1     |   1    |   0   |\n",
              "|    9     |    0    |   0    |     0     |     0     |     0     |   0    |   0   |\n",
              "|    10    |    0    |   0    |     0     |     0     |     0     |   0    |   0   |\n",
              "+----------+---------+--------+-----------+-----------+-----------+--------+-------+\n",
              "+-------------+-------+---------+-----------+--------+---------+---------+---------+\n",
              "| Documentary | Drama | Fantasy | Film-Noir | Horror | Musical | Mystery | Romance |\n",
              "+-------------+-------+---------+-----------+--------+---------+---------+---------+\n",
              "|      0      |   0   |    0    |     0     |   0    |    0    |    0    |    0    |\n",
              "|      0      |   0   |    0    |     0     |   0    |    0    |    0    |    0    |\n",
              "|      0      |   0   |    0    |     0     |   0    |    0    |    0    |    0    |\n",
              "|      0      |   1   |    0    |     0     |   0    |    0    |    0    |    0    |\n",
              "|      0      |   1   |    0    |     0     |   0    |    0    |    0    |    0    |\n",
              "|      0      |   1   |    0    |     0     |   0    |    0    |    0    |    0    |\n",
              "|      0      |   1   |    0    |     0     |   0    |    0    |    0    |    0    |\n",
              "|      0      |   1   |    0    |     0     |   0    |    0    |    0    |    0    |\n",
              "|      0      |   1   |    0    |     0     |   0    |    0    |    0    |    0    |\n",
              "|      0      |   1   |    0    |     0     |   0    |    0    |    0    |    0    |\n",
              "+-------------+-------+---------+-----------+--------+---------+---------+---------+\n",
              "+--------+----------+-----+---------+\n",
              "| Sci-Fi | Thriller | War | Western |\n",
              "+--------+----------+-----+---------+\n",
              "|   0    |    0     |  0  |    0    |\n",
              "|   0    |    1     |  0  |    0    |\n",
              "|   0    |    1     |  0  |    0    |\n",
              "|   0    |    0     |  0  |    0    |\n",
              "|   0    |    1     |  0  |    0    |\n",
              "|   0    |    0     |  0  |    0    |\n",
              "|   1    |    0     |  0  |    0    |\n",
              "|   0    |    0     |  0  |    0    |\n",
              "|   0    |    0     |  0  |    0    |\n",
              "|   0    |    0     |  1  |    0    |\n",
              "+--------+----------+-----+---------+\n",
              "[10 rows x 20 columns]"
            ]
          },
          "metadata": {
            "tags": []
          },
          "execution_count": 9
        }
      ]
    },
    {
      "cell_type": "markdown",
      "metadata": {
        "id": "8vi4uKf-mpAa"
      },
      "source": [
        "### Creating the models"
      ]
    },
    {
      "cell_type": "markdown",
      "metadata": {
        "id": "KegMTlmyng0P"
      },
      "source": [
        "Matrix factorization recommender"
      ]
    },
    {
      "cell_type": "code",
      "metadata": {
        "id": "NPCgV2Opw8E_",
        "outputId": "e77f54b1-6420-42f5-a158-3471e54c782c",
        "colab": {
          "base_uri": "https://localhost:8080/",
          "height": 832
        }
      },
      "source": [
        "matrix_factorization_model = turicreate.factorization_recommender.create(rating_sf, 'user_id', 'movie_id', target='rating', user_data=user_sf, item_data=movie_sf)"
      ],
      "execution_count": null,
      "outputs": [
        {
          "output_type": "display_data",
          "data": {
            "text/html": [
              "<pre>Preparing data set.</pre>"
            ],
            "text/plain": [
              "Preparing data set."
            ]
          },
          "metadata": {
            "tags": []
          }
        },
        {
          "output_type": "display_data",
          "data": {
            "text/html": [
              "<pre>    Data has 80000 observations with 943 users and 1682 items.</pre>"
            ],
            "text/plain": [
              "    Data has 80000 observations with 943 users and 1682 items."
            ]
          },
          "metadata": {
            "tags": []
          }
        },
        {
          "output_type": "display_data",
          "data": {
            "text/html": [
              "<pre>    Data prepared in: 0.078452s</pre>"
            ],
            "text/plain": [
              "    Data prepared in: 0.078452s"
            ]
          },
          "metadata": {
            "tags": []
          }
        },
        {
          "output_type": "display_data",
          "data": {
            "text/html": [
              "<pre>Training factorization_recommender for recommendations.</pre>"
            ],
            "text/plain": [
              "Training factorization_recommender for recommendations."
            ]
          },
          "metadata": {
            "tags": []
          }
        },
        {
          "output_type": "display_data",
          "data": {
            "text/html": [
              "<pre>+--------------------------------+--------------------------------------------------+----------+</pre>"
            ],
            "text/plain": [
              "+--------------------------------+--------------------------------------------------+----------+"
            ]
          },
          "metadata": {
            "tags": []
          }
        },
        {
          "output_type": "display_data",
          "data": {
            "text/html": [
              "<pre>| Parameter                      | Description                                      | Value    |</pre>"
            ],
            "text/plain": [
              "| Parameter                      | Description                                      | Value    |"
            ]
          },
          "metadata": {
            "tags": []
          }
        },
        {
          "output_type": "display_data",
          "data": {
            "text/html": [
              "<pre>+--------------------------------+--------------------------------------------------+----------+</pre>"
            ],
            "text/plain": [
              "+--------------------------------+--------------------------------------------------+----------+"
            ]
          },
          "metadata": {
            "tags": []
          }
        },
        {
          "output_type": "display_data",
          "data": {
            "text/html": [
              "<pre>| num_factors                    | Factor Dimension                                 | 8        |</pre>"
            ],
            "text/plain": [
              "| num_factors                    | Factor Dimension                                 | 8        |"
            ]
          },
          "metadata": {
            "tags": []
          }
        },
        {
          "output_type": "display_data",
          "data": {
            "text/html": [
              "<pre>| regularization                 | L2 Regularization on Factors                     | 1e-08    |</pre>"
            ],
            "text/plain": [
              "| regularization                 | L2 Regularization on Factors                     | 1e-08    |"
            ]
          },
          "metadata": {
            "tags": []
          }
        },
        {
          "output_type": "display_data",
          "data": {
            "text/html": [
              "<pre>| solver                         | Solver used for training                         | adagrad  |</pre>"
            ],
            "text/plain": [
              "| solver                         | Solver used for training                         | adagrad  |"
            ]
          },
          "metadata": {
            "tags": []
          }
        },
        {
          "output_type": "display_data",
          "data": {
            "text/html": [
              "<pre>| linear_regularization          | L2 Regularization on Linear Coefficients         | 1e-10    |</pre>"
            ],
            "text/plain": [
              "| linear_regularization          | L2 Regularization on Linear Coefficients         | 1e-10    |"
            ]
          },
          "metadata": {
            "tags": []
          }
        },
        {
          "output_type": "display_data",
          "data": {
            "text/html": [
              "<pre>| side_data_factorization        | Assign Factors for Side Data                     | True     |</pre>"
            ],
            "text/plain": [
              "| side_data_factorization        | Assign Factors for Side Data                     | True     |"
            ]
          },
          "metadata": {
            "tags": []
          }
        },
        {
          "output_type": "display_data",
          "data": {
            "text/html": [
              "<pre>| max_iterations                 | Maximum Number of Iterations                     | 50       |</pre>"
            ],
            "text/plain": [
              "| max_iterations                 | Maximum Number of Iterations                     | 50       |"
            ]
          },
          "metadata": {
            "tags": []
          }
        },
        {
          "output_type": "display_data",
          "data": {
            "text/html": [
              "<pre>+--------------------------------+--------------------------------------------------+----------+</pre>"
            ],
            "text/plain": [
              "+--------------------------------+--------------------------------------------------+----------+"
            ]
          },
          "metadata": {
            "tags": []
          }
        },
        {
          "output_type": "display_data",
          "data": {
            "text/html": [
              "<pre>  Optimizing model using SGD; tuning step size.</pre>"
            ],
            "text/plain": [
              "  Optimizing model using SGD; tuning step size."
            ]
          },
          "metadata": {
            "tags": []
          }
        },
        {
          "output_type": "display_data",
          "data": {
            "text/html": [
              "<pre>  Using 10000 / 80000 points for tuning the step size.</pre>"
            ],
            "text/plain": [
              "  Using 10000 / 80000 points for tuning the step size."
            ]
          },
          "metadata": {
            "tags": []
          }
        },
        {
          "output_type": "display_data",
          "data": {
            "text/html": [
              "<pre>+---------+-------------------+------------------------------------------+</pre>"
            ],
            "text/plain": [
              "+---------+-------------------+------------------------------------------+"
            ]
          },
          "metadata": {
            "tags": []
          }
        },
        {
          "output_type": "display_data",
          "data": {
            "text/html": [
              "<pre>| Attempt | Initial Step Size | Estimated Objective Value                |</pre>"
            ],
            "text/plain": [
              "| Attempt | Initial Step Size | Estimated Objective Value                |"
            ]
          },
          "metadata": {
            "tags": []
          }
        },
        {
          "output_type": "display_data",
          "data": {
            "text/html": [
              "<pre>+---------+-------------------+------------------------------------------+</pre>"
            ],
            "text/plain": [
              "+---------+-------------------+------------------------------------------+"
            ]
          },
          "metadata": {
            "tags": []
          }
        },
        {
          "output_type": "display_data",
          "data": {
            "text/html": [
              "<pre>| 0       | 2.17391           | Not Viable                               |</pre>"
            ],
            "text/plain": [
              "| 0       | 2.17391           | Not Viable                               |"
            ]
          },
          "metadata": {
            "tags": []
          }
        },
        {
          "output_type": "display_data",
          "data": {
            "text/html": [
              "<pre>| 1       | 0.543478          | Not Viable                               |</pre>"
            ],
            "text/plain": [
              "| 1       | 0.543478          | Not Viable                               |"
            ]
          },
          "metadata": {
            "tags": []
          }
        },
        {
          "output_type": "display_data",
          "data": {
            "text/html": [
              "<pre>| 2       | 0.13587           | 0.522846                                 |</pre>"
            ],
            "text/plain": [
              "| 2       | 0.13587           | 0.522846                                 |"
            ]
          },
          "metadata": {
            "tags": []
          }
        },
        {
          "output_type": "display_data",
          "data": {
            "text/html": [
              "<pre>| 3       | 0.0679348         | 0.673836                                 |</pre>"
            ],
            "text/plain": [
              "| 3       | 0.0679348         | 0.673836                                 |"
            ]
          },
          "metadata": {
            "tags": []
          }
        },
        {
          "output_type": "display_data",
          "data": {
            "text/html": [
              "<pre>| 4       | 0.0339674         | 0.84296                                  |</pre>"
            ],
            "text/plain": [
              "| 4       | 0.0339674         | 0.84296                                  |"
            ]
          },
          "metadata": {
            "tags": []
          }
        },
        {
          "output_type": "display_data",
          "data": {
            "text/html": [
              "<pre>| 5       | 0.0169837         | 1.00345                                  |</pre>"
            ],
            "text/plain": [
              "| 5       | 0.0169837         | 1.00345                                  |"
            ]
          },
          "metadata": {
            "tags": []
          }
        },
        {
          "output_type": "display_data",
          "data": {
            "text/html": [
              "<pre>+---------+-------------------+------------------------------------------+</pre>"
            ],
            "text/plain": [
              "+---------+-------------------+------------------------------------------+"
            ]
          },
          "metadata": {
            "tags": []
          }
        },
        {
          "output_type": "display_data",
          "data": {
            "text/html": [
              "<pre>| Final   | 0.13587           | 0.522846                                 |</pre>"
            ],
            "text/plain": [
              "| Final   | 0.13587           | 0.522846                                 |"
            ]
          },
          "metadata": {
            "tags": []
          }
        },
        {
          "output_type": "display_data",
          "data": {
            "text/html": [
              "<pre>+---------+-------------------+------------------------------------------+</pre>"
            ],
            "text/plain": [
              "+---------+-------------------+------------------------------------------+"
            ]
          },
          "metadata": {
            "tags": []
          }
        },
        {
          "output_type": "display_data",
          "data": {
            "text/html": [
              "<pre>Starting Optimization.</pre>"
            ],
            "text/plain": [
              "Starting Optimization."
            ]
          },
          "metadata": {
            "tags": []
          }
        },
        {
          "output_type": "display_data",
          "data": {
            "text/html": [
              "<pre>+---------+--------------+-------------------+-----------------------+-------------+</pre>"
            ],
            "text/plain": [
              "+---------+--------------+-------------------+-----------------------+-------------+"
            ]
          },
          "metadata": {
            "tags": []
          }
        },
        {
          "output_type": "display_data",
          "data": {
            "text/html": [
              "<pre>| Iter.   | Elapsed Time | Approx. Objective | Approx. Training RMSE | Step Size   |</pre>"
            ],
            "text/plain": [
              "| Iter.   | Elapsed Time | Approx. Objective | Approx. Training RMSE | Step Size   |"
            ]
          },
          "metadata": {
            "tags": []
          }
        },
        {
          "output_type": "display_data",
          "data": {
            "text/html": [
              "<pre>+---------+--------------+-------------------+-----------------------+-------------+</pre>"
            ],
            "text/plain": [
              "+---------+--------------+-------------------+-----------------------+-------------+"
            ]
          },
          "metadata": {
            "tags": []
          }
        },
        {
          "output_type": "display_data",
          "data": {
            "text/html": [
              "<pre>| Initial | 85us         | 1.25114           | 1.11854               |             |</pre>"
            ],
            "text/plain": [
              "| Initial | 85us         | 1.25114           | 1.11854               |             |"
            ]
          },
          "metadata": {
            "tags": []
          }
        },
        {
          "output_type": "display_data",
          "data": {
            "text/html": [
              "<pre>+---------+--------------+-------------------+-----------------------+-------------+</pre>"
            ],
            "text/plain": [
              "+---------+--------------+-------------------+-----------------------+-------------+"
            ]
          },
          "metadata": {
            "tags": []
          }
        },
        {
          "output_type": "display_data",
          "data": {
            "text/html": [
              "<pre>| 1       | 153.512ms    | 1.18275           | 1.08754               | 0.13587     |</pre>"
            ],
            "text/plain": [
              "| 1       | 153.512ms    | 1.18275           | 1.08754               | 0.13587     |"
            ]
          },
          "metadata": {
            "tags": []
          }
        },
        {
          "output_type": "display_data",
          "data": {
            "text/html": [
              "<pre>| 2       | 303.543ms    | 1.01003           | 1.005                 | 0.13587     |</pre>"
            ],
            "text/plain": [
              "| 2       | 303.543ms    | 1.01003           | 1.005                 | 0.13587     |"
            ]
          },
          "metadata": {
            "tags": []
          }
        },
        {
          "output_type": "display_data",
          "data": {
            "text/html": [
              "<pre>| 3       | 460.279ms    | 0.90712           | 0.952423              | 0.13587     |</pre>"
            ],
            "text/plain": [
              "| 3       | 460.279ms    | 0.90712           | 0.952423              | 0.13587     |"
            ]
          },
          "metadata": {
            "tags": []
          }
        },
        {
          "output_type": "display_data",
          "data": {
            "text/html": [
              "<pre>| 4       | 605.754ms    | 0.86782           | 0.931563              | 0.13587     |</pre>"
            ],
            "text/plain": [
              "| 4       | 605.754ms    | 0.86782           | 0.931563              | 0.13587     |"
            ]
          },
          "metadata": {
            "tags": []
          }
        },
        {
          "output_type": "display_data",
          "data": {
            "text/html": [
              "<pre>| 5       | 756.138ms    | 0.84073           | 0.916907              | 0.13587     |</pre>"
            ],
            "text/plain": [
              "| 5       | 756.138ms    | 0.84073           | 0.916907              | 0.13587     |"
            ]
          },
          "metadata": {
            "tags": []
          }
        },
        {
          "output_type": "display_data",
          "data": {
            "text/html": [
              "<pre>| 10      | 1.48s        | 0.796693          | 0.89257               | 0.13587     |</pre>"
            ],
            "text/plain": [
              "| 10      | 1.48s        | 0.796693          | 0.89257               | 0.13587     |"
            ]
          },
          "metadata": {
            "tags": []
          }
        },
        {
          "output_type": "display_data",
          "data": {
            "text/html": [
              "<pre>| 25      | 3.56s        | 0.75775           | 0.87048               | 0.13587     |</pre>"
            ],
            "text/plain": [
              "| 25      | 3.56s        | 0.75775           | 0.87048               | 0.13587     |"
            ]
          },
          "metadata": {
            "tags": []
          }
        },
        {
          "output_type": "display_data",
          "data": {
            "text/html": [
              "<pre>| 50      | 7.02s        | 0.730282          | 0.854556              | 0.13587     |</pre>"
            ],
            "text/plain": [
              "| 50      | 7.02s        | 0.730282          | 0.854556              | 0.13587     |"
            ]
          },
          "metadata": {
            "tags": []
          }
        },
        {
          "output_type": "display_data",
          "data": {
            "text/html": [
              "<pre>+---------+--------------+-------------------+-----------------------+-------------+</pre>"
            ],
            "text/plain": [
              "+---------+--------------+-------------------+-----------------------+-------------+"
            ]
          },
          "metadata": {
            "tags": []
          }
        },
        {
          "output_type": "display_data",
          "data": {
            "text/html": [
              "<pre>Optimization Complete: Maximum number of passes through the data reached.</pre>"
            ],
            "text/plain": [
              "Optimization Complete: Maximum number of passes through the data reached."
            ]
          },
          "metadata": {
            "tags": []
          }
        },
        {
          "output_type": "display_data",
          "data": {
            "text/html": [
              "<pre>Computing final objective value and training RMSE.</pre>"
            ],
            "text/plain": [
              "Computing final objective value and training RMSE."
            ]
          },
          "metadata": {
            "tags": []
          }
        },
        {
          "output_type": "display_data",
          "data": {
            "text/html": [
              "<pre>       Final objective value: 0.711741</pre>"
            ],
            "text/plain": [
              "       Final objective value: 0.711741"
            ]
          },
          "metadata": {
            "tags": []
          }
        },
        {
          "output_type": "display_data",
          "data": {
            "text/html": [
              "<pre>       Final training RMSE: 0.843638</pre>"
            ],
            "text/plain": [
              "       Final training RMSE: 0.843638"
            ]
          },
          "metadata": {
            "tags": []
          }
        }
      ]
    },
    {
      "cell_type": "markdown",
      "metadata": {
        "id": "jgjkSlxanDuf"
      },
      "source": [
        "Item similarity recommender"
      ]
    },
    {
      "cell_type": "code",
      "metadata": {
        "id": "1S2CVs22mmam",
        "outputId": "73c3f40c-c7bc-43e4-feac-bfa10dc15e8b",
        "colab": {
          "base_uri": "https://localhost:8080/",
          "height": 381
        }
      },
      "source": [
        "item_similarity_model = turicreate.item_similarity_recommender.create(rating_sf, 'user_id', 'movie_id', target='rating', item_data=movie_sf, similarity_type='pearson')"
      ],
      "execution_count": null,
      "outputs": [
        {
          "output_type": "display_data",
          "data": {
            "text/html": [
              "<pre>Preparing data set.</pre>"
            ],
            "text/plain": [
              "Preparing data set."
            ]
          },
          "metadata": {
            "tags": []
          }
        },
        {
          "output_type": "display_data",
          "data": {
            "text/html": [
              "<pre>    Data has 80000 observations with 943 users and 1682 items.</pre>"
            ],
            "text/plain": [
              "    Data has 80000 observations with 943 users and 1682 items."
            ]
          },
          "metadata": {
            "tags": []
          }
        },
        {
          "output_type": "display_data",
          "data": {
            "text/html": [
              "<pre>    Data prepared in: 0.076814s</pre>"
            ],
            "text/plain": [
              "    Data prepared in: 0.076814s"
            ]
          },
          "metadata": {
            "tags": []
          }
        },
        {
          "output_type": "display_data",
          "data": {
            "text/html": [
              "<pre>Training model from provided data.</pre>"
            ],
            "text/plain": [
              "Training model from provided data."
            ]
          },
          "metadata": {
            "tags": []
          }
        },
        {
          "output_type": "display_data",
          "data": {
            "text/html": [
              "<pre>Gathering per-item and per-user statistics.</pre>"
            ],
            "text/plain": [
              "Gathering per-item and per-user statistics."
            ]
          },
          "metadata": {
            "tags": []
          }
        },
        {
          "output_type": "display_data",
          "data": {
            "text/html": [
              "<pre>+--------------------------------+------------+</pre>"
            ],
            "text/plain": [
              "+--------------------------------+------------+"
            ]
          },
          "metadata": {
            "tags": []
          }
        },
        {
          "output_type": "display_data",
          "data": {
            "text/html": [
              "<pre>| Elapsed Time (Item Statistics) | % Complete |</pre>"
            ],
            "text/plain": [
              "| Elapsed Time (Item Statistics) | % Complete |"
            ]
          },
          "metadata": {
            "tags": []
          }
        },
        {
          "output_type": "display_data",
          "data": {
            "text/html": [
              "<pre>+--------------------------------+------------+</pre>"
            ],
            "text/plain": [
              "+--------------------------------+------------+"
            ]
          },
          "metadata": {
            "tags": []
          }
        },
        {
          "output_type": "display_data",
          "data": {
            "text/html": [
              "<pre>| 4.055ms                        | 100        |</pre>"
            ],
            "text/plain": [
              "| 4.055ms                        | 100        |"
            ]
          },
          "metadata": {
            "tags": []
          }
        },
        {
          "output_type": "display_data",
          "data": {
            "text/html": [
              "<pre>+--------------------------------+------------+</pre>"
            ],
            "text/plain": [
              "+--------------------------------+------------+"
            ]
          },
          "metadata": {
            "tags": []
          }
        },
        {
          "output_type": "display_data",
          "data": {
            "text/html": [
              "<pre>Setting up lookup tables.</pre>"
            ],
            "text/plain": [
              "Setting up lookup tables."
            ]
          },
          "metadata": {
            "tags": []
          }
        },
        {
          "output_type": "display_data",
          "data": {
            "text/html": [
              "<pre>Processing data in one pass using dense lookup tables.</pre>"
            ],
            "text/plain": [
              "Processing data in one pass using dense lookup tables."
            ]
          },
          "metadata": {
            "tags": []
          }
        },
        {
          "output_type": "display_data",
          "data": {
            "text/html": [
              "<pre>+-------------------------------------+------------------+-----------------+</pre>"
            ],
            "text/plain": [
              "+-------------------------------------+------------------+-----------------+"
            ]
          },
          "metadata": {
            "tags": []
          }
        },
        {
          "output_type": "display_data",
          "data": {
            "text/html": [
              "<pre>| Elapsed Time (Constructing Lookups) | Total % Complete | Items Processed |</pre>"
            ],
            "text/plain": [
              "| Elapsed Time (Constructing Lookups) | Total % Complete | Items Processed |"
            ]
          },
          "metadata": {
            "tags": []
          }
        },
        {
          "output_type": "display_data",
          "data": {
            "text/html": [
              "<pre>+-------------------------------------+------------------+-----------------+</pre>"
            ],
            "text/plain": [
              "+-------------------------------------+------------------+-----------------+"
            ]
          },
          "metadata": {
            "tags": []
          }
        },
        {
          "output_type": "display_data",
          "data": {
            "text/html": [
              "<pre>| 9.861ms                             | 0                | 2               |</pre>"
            ],
            "text/plain": [
              "| 9.861ms                             | 0                | 2               |"
            ]
          },
          "metadata": {
            "tags": []
          }
        },
        {
          "output_type": "display_data",
          "data": {
            "text/html": [
              "<pre>| 310.042ms                           | 100              | 1682            |</pre>"
            ],
            "text/plain": [
              "| 310.042ms                           | 100              | 1682            |"
            ]
          },
          "metadata": {
            "tags": []
          }
        },
        {
          "output_type": "display_data",
          "data": {
            "text/html": [
              "<pre>+-------------------------------------+------------------+-----------------+</pre>"
            ],
            "text/plain": [
              "+-------------------------------------+------------------+-----------------+"
            ]
          },
          "metadata": {
            "tags": []
          }
        },
        {
          "output_type": "display_data",
          "data": {
            "text/html": [
              "<pre>Finalizing lookup tables.</pre>"
            ],
            "text/plain": [
              "Finalizing lookup tables."
            ]
          },
          "metadata": {
            "tags": []
          }
        },
        {
          "output_type": "display_data",
          "data": {
            "text/html": [
              "<pre>Generating candidate set for working with new users.</pre>"
            ],
            "text/plain": [
              "Generating candidate set for working with new users."
            ]
          },
          "metadata": {
            "tags": []
          }
        },
        {
          "output_type": "display_data",
          "data": {
            "text/html": [
              "<pre>Finished training in 0.324781s</pre>"
            ],
            "text/plain": [
              "Finished training in 0.324781s"
            ]
          },
          "metadata": {
            "tags": []
          }
        }
      ]
    },
    {
      "cell_type": "markdown",
      "metadata": {
        "id": "qkrBKuMxoqv4"
      },
      "source": [
        "Item content recommender"
      ]
    },
    {
      "cell_type": "code",
      "metadata": {
        "id": "ITuor4HFpYPg",
        "outputId": "6066273b-3a5b-47a0-86df-93851b3b7734",
        "colab": {
          "base_uri": "https://localhost:8080/",
          "height": 904
        }
      },
      "source": [
        "item_content_model = turicreate.item_content_recommender.create(movie_sf, item_id='movie_id', observation_data=rating_sf, user_id='user_id', target='rating', weights='auto', max_item_neighborhood_size=movie_sf.shape[0])"
      ],
      "execution_count": null,
      "outputs": [
        {
          "output_type": "stream",
          "text": [
            "Applying transform:\n",
            "Class             : AutoVectorizer\n",
            "\n",
            "Model Fields\n",
            "------------\n",
            "Features          : ['unknown', 'Action', 'Adventure', 'Animation', 'Childrens', 'Comedy', 'Crime', 'Documentary', 'Drama', 'Fantasy', 'Film-Noir', 'Horror', 'Musical', 'Mystery', 'Romance', 'Sci-Fi', 'Thriller', 'War', 'Western']\n",
            "Excluded Features : ['movie_id']\n",
            "\n",
            "Column       Type  Interpretation  Transforms   Output Type\n",
            "-----------  ----  --------------  -----------  -----------\n",
            "unknown      int   categorical     astype(str)  str        \n",
            "Action       int   categorical     astype(str)  str        \n",
            "Adventure    int   categorical     astype(str)  str        \n",
            "Animation    int   categorical     astype(str)  str        \n",
            "Childrens    int   categorical     astype(str)  str        \n",
            "Comedy       int   categorical     astype(str)  str        \n",
            "Crime        int   categorical     astype(str)  str        \n",
            "Documentary  int   categorical     astype(str)  str        \n",
            "Drama        int   categorical     astype(str)  str        \n",
            "Fantasy      int   categorical     astype(str)  str        \n",
            "Film-Noir    int   categorical     astype(str)  str        \n",
            "Horror       int   categorical     astype(str)  str        \n",
            "Musical      int   categorical     astype(str)  str        \n",
            "Mystery      int   categorical     astype(str)  str        \n",
            "Romance      int   categorical     astype(str)  str        \n",
            "Sci-Fi       int   categorical     astype(str)  str        \n",
            "Thriller     int   categorical     astype(str)  str        \n",
            "War          int   categorical     astype(str)  str        \n",
            "Western      int   categorical     astype(str)  str        \n",
            "\n",
            "\n",
            "Defaulting to brute force instead of ball tree because there are multiple distance components.\n"
          ],
          "name": "stdout"
        },
        {
          "output_type": "display_data",
          "data": {
            "text/html": [
              "<pre>Starting brute force nearest neighbors model training.</pre>"
            ],
            "text/plain": [
              "Starting brute force nearest neighbors model training."
            ]
          },
          "metadata": {
            "tags": []
          }
        },
        {
          "output_type": "display_data",
          "data": {
            "text/html": [
              "<pre>Validating distance components.</pre>"
            ],
            "text/plain": [
              "Validating distance components."
            ]
          },
          "metadata": {
            "tags": []
          }
        },
        {
          "output_type": "display_data",
          "data": {
            "text/html": [
              "<pre>Initializing model data.</pre>"
            ],
            "text/plain": [
              "Initializing model data."
            ]
          },
          "metadata": {
            "tags": []
          }
        },
        {
          "output_type": "display_data",
          "data": {
            "text/html": [
              "<pre>Initializing distances.</pre>"
            ],
            "text/plain": [
              "Initializing distances."
            ]
          },
          "metadata": {
            "tags": []
          }
        },
        {
          "output_type": "display_data",
          "data": {
            "text/html": [
              "<pre>Done.</pre>"
            ],
            "text/plain": [
              "Done."
            ]
          },
          "metadata": {
            "tags": []
          }
        },
        {
          "output_type": "display_data",
          "data": {
            "text/html": [
              "<pre>Starting pairwise querying.</pre>"
            ],
            "text/plain": [
              "Starting pairwise querying."
            ]
          },
          "metadata": {
            "tags": []
          }
        },
        {
          "output_type": "display_data",
          "data": {
            "text/html": [
              "<pre>+--------------+---------+-------------+--------------+</pre>"
            ],
            "text/plain": [
              "+--------------+---------+-------------+--------------+"
            ]
          },
          "metadata": {
            "tags": []
          }
        },
        {
          "output_type": "display_data",
          "data": {
            "text/html": [
              "<pre>| Query points | # Pairs | % Complete. | Elapsed Time |</pre>"
            ],
            "text/plain": [
              "| Query points | # Pairs | % Complete. | Elapsed Time |"
            ]
          },
          "metadata": {
            "tags": []
          }
        },
        {
          "output_type": "display_data",
          "data": {
            "text/html": [
              "<pre>+--------------+---------+-------------+--------------+</pre>"
            ],
            "text/plain": [
              "+--------------+---------+-------------+--------------+"
            ]
          },
          "metadata": {
            "tags": []
          }
        },
        {
          "output_type": "display_data",
          "data": {
            "text/html": [
              "<pre>| 1            | 1682    | 0.059453    | 6.137ms      |</pre>"
            ],
            "text/plain": [
              "| 1            | 1682    | 0.059453    | 6.137ms      |"
            ]
          },
          "metadata": {
            "tags": []
          }
        },
        {
          "output_type": "display_data",
          "data": {
            "text/html": [
              "<pre>| Done         |         | 100         | 548.709ms    |</pre>"
            ],
            "text/plain": [
              "| Done         |         | 100         | 548.709ms    |"
            ]
          },
          "metadata": {
            "tags": []
          }
        },
        {
          "output_type": "display_data",
          "data": {
            "text/html": [
              "<pre>+--------------+---------+-------------+--------------+</pre>"
            ],
            "text/plain": [
              "+--------------+---------+-------------+--------------+"
            ]
          },
          "metadata": {
            "tags": []
          }
        },
        {
          "output_type": "display_data",
          "data": {
            "text/html": [
              "<pre>Preparing data set.</pre>"
            ],
            "text/plain": [
              "Preparing data set."
            ]
          },
          "metadata": {
            "tags": []
          }
        },
        {
          "output_type": "display_data",
          "data": {
            "text/html": [
              "<pre>    Data has 80000 observations with 943 users and 1682 items.</pre>"
            ],
            "text/plain": [
              "    Data has 80000 observations with 943 users and 1682 items."
            ]
          },
          "metadata": {
            "tags": []
          }
        },
        {
          "output_type": "display_data",
          "data": {
            "text/html": [
              "<pre>    Data prepared in: 1.70716s</pre>"
            ],
            "text/plain": [
              "    Data prepared in: 1.70716s"
            ]
          },
          "metadata": {
            "tags": []
          }
        },
        {
          "output_type": "display_data",
          "data": {
            "text/html": [
              "<pre>Loading user-provided nearest items.</pre>"
            ],
            "text/plain": [
              "Loading user-provided nearest items."
            ]
          },
          "metadata": {
            "tags": []
          }
        },
        {
          "output_type": "display_data",
          "data": {
            "text/html": [
              "<pre>Generating candidate set for working with new users.</pre>"
            ],
            "text/plain": [
              "Generating candidate set for working with new users."
            ]
          },
          "metadata": {
            "tags": []
          }
        },
        {
          "output_type": "display_data",
          "data": {
            "text/html": [
              "<pre>Finished training in 0.152096s</pre>"
            ],
            "text/plain": [
              "Finished training in 0.152096s"
            ]
          },
          "metadata": {
            "tags": []
          }
        }
      ]
    },
    {
      "cell_type": "markdown",
      "metadata": {
        "id": "Gj3-i8iQ-f1r"
      },
      "source": [
        "### MAE of each model"
      ]
    },
    {
      "cell_type": "code",
      "metadata": {
        "id": "_4DM-gCb7G0A"
      },
      "source": [
        "TEST_RATING_DATA_FILE = MOVIELENS_DIR + 'u1.test'\n",
        "test = turicreate.SFrame(pd.read_csv(TEST_RATING_DATA_FILE, delimiter='\\t', names=rating_cols, encoding='latin-1'))"
      ],
      "execution_count": null,
      "outputs": []
    },
    {
      "cell_type": "markdown",
      "metadata": {
        "id": "_sbKkfav-kTd"
      },
      "source": [
        "Matrix factorization"
      ]
    },
    {
      "cell_type": "code",
      "metadata": {
        "id": "tgocMmM1-o3m",
        "outputId": "b201e231-853e-434c-faa9-e271ac73864d",
        "colab": {
          "base_uri": "https://localhost:8080/",
          "height": 35
        }
      },
      "source": [
        "mean_absolute_error(test['rating'], matrix_factorization_model.predict(test))"
      ],
      "execution_count": null,
      "outputs": [
        {
          "output_type": "execute_result",
          "data": {
            "text/plain": [
              "0.7508269812417951"
            ]
          },
          "metadata": {
            "tags": []
          },
          "execution_count": 15
        }
      ]
    },
    {
      "cell_type": "markdown",
      "metadata": {
        "id": "1gZeIwrA-zke"
      },
      "source": [
        "Item similarity"
      ]
    },
    {
      "cell_type": "code",
      "metadata": {
        "id": "ooHFlqsU-uXk",
        "outputId": "c680a6ef-6f39-4091-c994-549dfefe1582",
        "colab": {
          "base_uri": "https://localhost:8080/",
          "height": 35
        }
      },
      "source": [
        "mean_absolute_error(test['rating'], item_similarity_model.predict(test))"
      ],
      "execution_count": null,
      "outputs": [
        {
          "output_type": "execute_result",
          "data": {
            "text/plain": [
              "0.8257963406743358"
            ]
          },
          "metadata": {
            "tags": []
          },
          "execution_count": 16
        }
      ]
    },
    {
      "cell_type": "markdown",
      "metadata": {
        "id": "1V_g77HJ-2sA"
      },
      "source": [
        "Item content"
      ]
    },
    {
      "cell_type": "code",
      "metadata": {
        "id": "LFuySop_-4VC",
        "outputId": "0e79f57c-0353-4eb0-caae-e365f5e3bf0b",
        "colab": {
          "base_uri": "https://localhost:8080/",
          "height": 35
        }
      },
      "source": [
        "mean_absolute_error(test['rating'], item_content_model.predict(test))"
      ],
      "execution_count": null,
      "outputs": [
        {
          "output_type": "execute_result",
          "data": {
            "text/plain": [
              "1.0243307893501554"
            ]
          },
          "metadata": {
            "tags": []
          },
          "execution_count": 17
        }
      ]
    },
    {
      "cell_type": "code",
      "metadata": {
        "id": "BRZi5oYcFaqH",
        "outputId": "44aa4fd4-87a9-48c6-f64b-f1f4678c9ae1",
        "colab": {
          "base_uri": "https://localhost:8080/",
          "height": 241
        }
      },
      "source": [
        "user_sf.head()"
      ],
      "execution_count": null,
      "outputs": [
        {
          "output_type": "execute_result",
          "data": {
            "text/html": [
              "<div style=\"max-height:1000px;max-width:1500px;overflow:auto;\"><table frame=\"box\" rules=\"cols\">\n",
              "    <tr>\n",
              "        <th style=\"padding-left: 1em; padding-right: 1em; text-align: center\">user_id</th>\n",
              "        <th style=\"padding-left: 1em; padding-right: 1em; text-align: center\">age</th>\n",
              "        <th style=\"padding-left: 1em; padding-right: 1em; text-align: center\">gender</th>\n",
              "    </tr>\n",
              "    <tr>\n",
              "        <td style=\"padding-left: 1em; padding-right: 1em; text-align: center; vertical-align: top\">1</td>\n",
              "        <td style=\"padding-left: 1em; padding-right: 1em; text-align: center; vertical-align: top\">24</td>\n",
              "        <td style=\"padding-left: 1em; padding-right: 1em; text-align: center; vertical-align: top\">M</td>\n",
              "    </tr>\n",
              "    <tr>\n",
              "        <td style=\"padding-left: 1em; padding-right: 1em; text-align: center; vertical-align: top\">2</td>\n",
              "        <td style=\"padding-left: 1em; padding-right: 1em; text-align: center; vertical-align: top\">53</td>\n",
              "        <td style=\"padding-left: 1em; padding-right: 1em; text-align: center; vertical-align: top\">F</td>\n",
              "    </tr>\n",
              "    <tr>\n",
              "        <td style=\"padding-left: 1em; padding-right: 1em; text-align: center; vertical-align: top\">3</td>\n",
              "        <td style=\"padding-left: 1em; padding-right: 1em; text-align: center; vertical-align: top\">23</td>\n",
              "        <td style=\"padding-left: 1em; padding-right: 1em; text-align: center; vertical-align: top\">M</td>\n",
              "    </tr>\n",
              "    <tr>\n",
              "        <td style=\"padding-left: 1em; padding-right: 1em; text-align: center; vertical-align: top\">4</td>\n",
              "        <td style=\"padding-left: 1em; padding-right: 1em; text-align: center; vertical-align: top\">24</td>\n",
              "        <td style=\"padding-left: 1em; padding-right: 1em; text-align: center; vertical-align: top\">M</td>\n",
              "    </tr>\n",
              "    <tr>\n",
              "        <td style=\"padding-left: 1em; padding-right: 1em; text-align: center; vertical-align: top\">5</td>\n",
              "        <td style=\"padding-left: 1em; padding-right: 1em; text-align: center; vertical-align: top\">33</td>\n",
              "        <td style=\"padding-left: 1em; padding-right: 1em; text-align: center; vertical-align: top\">F</td>\n",
              "    </tr>\n",
              "    <tr>\n",
              "        <td style=\"padding-left: 1em; padding-right: 1em; text-align: center; vertical-align: top\">6</td>\n",
              "        <td style=\"padding-left: 1em; padding-right: 1em; text-align: center; vertical-align: top\">42</td>\n",
              "        <td style=\"padding-left: 1em; padding-right: 1em; text-align: center; vertical-align: top\">M</td>\n",
              "    </tr>\n",
              "    <tr>\n",
              "        <td style=\"padding-left: 1em; padding-right: 1em; text-align: center; vertical-align: top\">7</td>\n",
              "        <td style=\"padding-left: 1em; padding-right: 1em; text-align: center; vertical-align: top\">57</td>\n",
              "        <td style=\"padding-left: 1em; padding-right: 1em; text-align: center; vertical-align: top\">M</td>\n",
              "    </tr>\n",
              "    <tr>\n",
              "        <td style=\"padding-left: 1em; padding-right: 1em; text-align: center; vertical-align: top\">8</td>\n",
              "        <td style=\"padding-left: 1em; padding-right: 1em; text-align: center; vertical-align: top\">36</td>\n",
              "        <td style=\"padding-left: 1em; padding-right: 1em; text-align: center; vertical-align: top\">M</td>\n",
              "    </tr>\n",
              "    <tr>\n",
              "        <td style=\"padding-left: 1em; padding-right: 1em; text-align: center; vertical-align: top\">9</td>\n",
              "        <td style=\"padding-left: 1em; padding-right: 1em; text-align: center; vertical-align: top\">29</td>\n",
              "        <td style=\"padding-left: 1em; padding-right: 1em; text-align: center; vertical-align: top\">M</td>\n",
              "    </tr>\n",
              "    <tr>\n",
              "        <td style=\"padding-left: 1em; padding-right: 1em; text-align: center; vertical-align: top\">10</td>\n",
              "        <td style=\"padding-left: 1em; padding-right: 1em; text-align: center; vertical-align: top\">53</td>\n",
              "        <td style=\"padding-left: 1em; padding-right: 1em; text-align: center; vertical-align: top\">M</td>\n",
              "    </tr>\n",
              "</table>\n",
              "[10 rows x 3 columns]<br/>\n",
              "</div>"
            ],
            "text/plain": [
              "Columns:\n",
              "\tuser_id\tint\n",
              "\tage\tint\n",
              "\tgender\tstr\n",
              "\n",
              "Rows: 10\n",
              "\n",
              "Data:\n",
              "+---------+-----+--------+\n",
              "| user_id | age | gender |\n",
              "+---------+-----+--------+\n",
              "|    1    |  24 |   M    |\n",
              "|    2    |  53 |   F    |\n",
              "|    3    |  23 |   M    |\n",
              "|    4    |  24 |   M    |\n",
              "|    5    |  33 |   F    |\n",
              "|    6    |  42 |   M    |\n",
              "|    7    |  57 |   M    |\n",
              "|    8    |  36 |   M    |\n",
              "|    9    |  29 |   M    |\n",
              "|    10   |  53 |   M    |\n",
              "+---------+-----+--------+\n",
              "[10 rows x 3 columns]"
            ]
          },
          "metadata": {
            "tags": []
          },
          "execution_count": 19
        }
      ]
    },
    {
      "cell_type": "markdown",
      "metadata": {
        "id": "jmfNMWmbgVyJ"
      },
      "source": [
        "# **Question 4**"
      ]
    },
    {
      "cell_type": "code",
      "metadata": {
        "id": "R76aWVZmu9Mf"
      },
      "source": [
        "MOVIELENS_DIR = '/content/drive/My Drive/eCommerce Project/ml-100k/'\n",
        "RATING_DATA_FILE = MOVIELENS_DIR+'u1.base'"
      ],
      "execution_count": null,
      "outputs": []
    },
    {
      "cell_type": "markdown",
      "metadata": {
        "id": "BDQnhGIl-VMa"
      },
      "source": [
        "### Preparing the data"
      ]
    },
    {
      "cell_type": "code",
      "metadata": {
        "id": "PWoDI1Zj5lz8",
        "outputId": "6e668d33-63c1-49a9-a5e6-2fe8be573e43",
        "colab": {
          "base_uri": "https://localhost:8080/",
          "height": 35
        }
      },
      "source": [
        "ratings = pd.read_csv(RATING_DATA_FILE, \n",
        "                    sep='\\t', \n",
        "                    engine='python', \n",
        "                    encoding='latin-1',\n",
        "                    names=['userid', 'movieid', 'rating', 'timestamp'])\n",
        "max_userid = ratings['userid'].drop_duplicates().max()\n",
        "max_movieid = ratings['movieid'].drop_duplicates().max()\n",
        "ratings['user_emb_id'] = ratings['userid'] - 1\n",
        "ratings['movie_emb_id'] = ratings['movieid'] - 1\n",
        "print(str(len(ratings))+' ratings loaded')"
      ],
      "execution_count": null,
      "outputs": [
        {
          "output_type": "stream",
          "text": [
            "80000 ratings loaded\n"
          ],
          "name": "stdout"
        }
      ]
    },
    {
      "cell_type": "code",
      "metadata": {
        "id": "cWyuSxxA6hIW"
      },
      "source": [
        "Users = ratings['user_emb_id'].values\n",
        "Movies = ratings['movie_emb_id'].values\n",
        "Ratings = ratings['rating'].values"
      ],
      "execution_count": null,
      "outputs": []
    },
    {
      "cell_type": "markdown",
      "metadata": {
        "id": "3YxVNM1U-bIs"
      },
      "source": [
        "### Building the NCF model"
      ]
    },
    {
      "cell_type": "code",
      "metadata": {
        "id": "ME9T9IzB7Ps0"
      },
      "source": [
        "'''this function built a ncf model according to the input and prints the summery of it\n",
        "num_users- number of users\n",
        "num_items - number of items\n",
        "latent_dim - numbers of layers\n",
        "hidden_dim - size of layers\n",
        "do - dropout\n",
        "'''\n",
        "def ncf_model(num_users, num_items, latent_dim,hidden_dim,do):\n",
        "  # Input variables\n",
        "    user_input = Input(shape=(1,), dtype='int32', name = 'user_input')\n",
        "    item_input = Input(shape=(1,), dtype='int32', name = 'item_input')\n",
        "\n",
        "    MF_Embedding_User = Embedding(input_dim = num_users, output_dim = latent_dim, name = 'user_embedding', input_length=1)\n",
        "    MF_Embedding_Item = Embedding(input_dim = num_items, output_dim = latent_dim, name = 'item_embedding', input_length=1)   \n",
        "    \n",
        "    # flatting the embedding vectors\n",
        "    user_latent = Flatten()(MF_Embedding_User(user_input))\n",
        "    item_latent = Flatten()(MF_Embedding_Item(item_input))\n",
        "\n",
        "  # Element-wise product of user and item embeddings\n",
        "    c = Concatenate()([user_latent, item_latent])\n",
        "    drop = Dropout(0.5)(c)\n",
        "    hid1 = Dense(hidden_dim, activation='relu')(c)\n",
        "    drop2  = Dropout(do)(hid1)\n",
        "    prediction = Dense(1, activation='relu', kernel_initializer='lecun_uniform', name = 'prediction')(drop2)\n",
        "    \n",
        "    \n",
        "    model = Model(input=[user_input, item_input], output=prediction)\n",
        "    print(\"ncf model\")\n",
        "    model.summary()\n",
        "\n",
        "    return model"
      ],
      "execution_count": null,
      "outputs": []
    },
    {
      "cell_type": "code",
      "metadata": {
        "id": "6nvdTTAJ7e-Y"
      },
      "source": [
        "K_LATENT = 1\n",
        "hidden_dim = 20\n",
        "do = 0.5"
      ],
      "execution_count": null,
      "outputs": []
    },
    {
      "cell_type": "code",
      "metadata": {
        "id": "oanqDKW67zJb",
        "outputId": "b08476af-9ccc-4dc1-df4d-c724ccdb735a",
        "colab": {
          "base_uri": "https://localhost:8080/",
          "height": 575
        }
      },
      "source": [
        "NCF_model = ncf_model(max_userid,max_movieid,K_LATENT,hidden_dim,do)\n",
        "NCF_model.compile(loss='mse',optimizer=Adamax(lr=0.001),metrics=['mae'])"
      ],
      "execution_count": null,
      "outputs": [
        {
          "output_type": "stream",
          "text": [
            "ncf model\n",
            "Model: \"model_3\"\n",
            "__________________________________________________________________________________________________\n",
            "Layer (type)                    Output Shape         Param #     Connected to                     \n",
            "==================================================================================================\n",
            "user_input (InputLayer)         (None, 1)            0                                            \n",
            "__________________________________________________________________________________________________\n",
            "item_input (InputLayer)         (None, 1)            0                                            \n",
            "__________________________________________________________________________________________________\n",
            "user_embedding (Embedding)      (None, 1, 1)         943         user_input[0][0]                 \n",
            "__________________________________________________________________________________________________\n",
            "item_embedding (Embedding)      (None, 1, 1)         1682        item_input[0][0]                 \n",
            "__________________________________________________________________________________________________\n",
            "flatten_5 (Flatten)             (None, 1)            0           user_embedding[0][0]             \n",
            "__________________________________________________________________________________________________\n",
            "flatten_6 (Flatten)             (None, 1)            0           item_embedding[0][0]             \n",
            "__________________________________________________________________________________________________\n",
            "concatenate_3 (Concatenate)     (None, 2)            0           flatten_5[0][0]                  \n",
            "                                                                 flatten_6[0][0]                  \n",
            "__________________________________________________________________________________________________\n",
            "dense_3 (Dense)                 (None, 20)           60          concatenate_3[0][0]              \n",
            "__________________________________________________________________________________________________\n",
            "dropout_6 (Dropout)             (None, 20)           0           dense_3[0][0]                    \n",
            "__________________________________________________________________________________________________\n",
            "prediction (Dense)              (None, 1)            21          dropout_6[0][0]                  \n",
            "==================================================================================================\n",
            "Total params: 2,706\n",
            "Trainable params: 2,706\n",
            "Non-trainable params: 0\n",
            "__________________________________________________________________________________________________\n"
          ],
          "name": "stdout"
        },
        {
          "output_type": "stream",
          "text": [
            "/usr/local/lib/python3.6/dist-packages/ipykernel_launcher.py:21: UserWarning: Update your `Model` call to the Keras 2 API: `Model(inputs=[<tf.Tenso..., outputs=Tensor(\"pr...)`\n"
          ],
          "name": "stderr"
        }
      ]
    },
    {
      "cell_type": "code",
      "metadata": {
        "id": "-af0zdWL8GGC",
        "outputId": "b740f41e-5c78-44ef-e538-2c00960c591b",
        "colab": {
          "base_uri": "https://localhost:8080/",
          "height": 887
        }
      },
      "source": [
        "MODEL_WEIGHTS_FILE = 'u_emb_weights.h5'\n",
        "MODEL_WEIGHTS_FILE_CORE = 'u_emb_weights'\n",
        "callbacks_ncf = [EarlyStopping('val_loss', patience=5), \n",
        "             ModelCheckpoint(MODEL_WEIGHTS_FILE_CORE+'_ncf_'+str(do)+'_'+str(K_LATENT)+'_'+str(hidden_dim)+'.h5', save_best_only=True)]\n",
        "history_history_ncf = NCF_model.fit([Users, Movies], Ratings, nb_epoch=100, validation_split=.1, verbose=1, callbacks=callbacks_ncf, batch_size = 32)"
      ],
      "execution_count": null,
      "outputs": [
        {
          "output_type": "stream",
          "text": [
            "/usr/local/lib/python3.6/dist-packages/ipykernel_launcher.py:5: UserWarning: The `nb_epoch` argument in `fit` has been renamed `epochs`.\n",
            "  \"\"\"\n",
            "/usr/local/lib/python3.6/dist-packages/tensorflow/python/framework/indexed_slices.py:434: UserWarning: Converting sparse IndexedSlices to a dense Tensor of unknown shape. This may consume a large amount of memory.\n",
            "  \"Converting sparse IndexedSlices to a dense Tensor of unknown shape. \"\n"
          ],
          "name": "stderr"
        },
        {
          "output_type": "stream",
          "text": [
            "Train on 72000 samples, validate on 8000 samples\n",
            "Epoch 1/100\n",
            "72000/72000 [==============================] - 3s 41us/step - loss: 3.9384 - mae: 1.6057 - val_loss: 1.2596 - val_mae: 0.9403\n",
            "Epoch 2/100\n",
            "72000/72000 [==============================] - 3s 38us/step - loss: 1.7842 - mae: 1.0851 - val_loss: 1.1836 - val_mae: 0.9090\n",
            "Epoch 3/100\n",
            "72000/72000 [==============================] - 3s 37us/step - loss: 1.3813 - mae: 0.9543 - val_loss: 1.1003 - val_mae: 0.8704\n",
            "Epoch 4/100\n",
            "72000/72000 [==============================] - 3s 37us/step - loss: 1.1610 - mae: 0.8701 - val_loss: 1.0434 - val_mae: 0.8384\n",
            "Epoch 5/100\n",
            "72000/72000 [==============================] - 3s 37us/step - loss: 1.0439 - mae: 0.8204 - val_loss: 1.0209 - val_mae: 0.8261\n",
            "Epoch 6/100\n",
            "72000/72000 [==============================] - 3s 37us/step - loss: 0.9886 - mae: 0.7965 - val_loss: 1.0054 - val_mae: 0.8161\n",
            "Epoch 7/100\n",
            "72000/72000 [==============================] - 3s 38us/step - loss: 0.9611 - mae: 0.7823 - val_loss: 0.9982 - val_mae: 0.8105\n",
            "Epoch 8/100\n",
            "72000/72000 [==============================] - 3s 38us/step - loss: 0.9444 - mae: 0.7739 - val_loss: 1.0008 - val_mae: 0.8125\n",
            "Epoch 9/100\n",
            "72000/72000 [==============================] - 3s 38us/step - loss: 0.9284 - mae: 0.7663 - val_loss: 0.9908 - val_mae: 0.8069\n",
            "Epoch 10/100\n",
            "72000/72000 [==============================] - 3s 37us/step - loss: 0.9215 - mae: 0.7621 - val_loss: 0.9880 - val_mae: 0.8056\n",
            "Epoch 11/100\n",
            "72000/72000 [==============================] - 3s 38us/step - loss: 0.9117 - mae: 0.7579 - val_loss: 0.9839 - val_mae: 0.8020\n",
            "Epoch 12/100\n",
            "72000/72000 [==============================] - 3s 38us/step - loss: 0.9073 - mae: 0.7546 - val_loss: 0.9836 - val_mae: 0.8027\n",
            "Epoch 13/100\n",
            "72000/72000 [==============================] - 3s 37us/step - loss: 0.9071 - mae: 0.7547 - val_loss: 0.9926 - val_mae: 0.8087\n",
            "Epoch 14/100\n",
            "72000/72000 [==============================] - 3s 38us/step - loss: 0.8974 - mae: 0.7505 - val_loss: 0.9830 - val_mae: 0.8032\n",
            "Epoch 15/100\n",
            "72000/72000 [==============================] - 3s 38us/step - loss: 0.8995 - mae: 0.7514 - val_loss: 0.9814 - val_mae: 0.8038\n",
            "Epoch 16/100\n",
            "72000/72000 [==============================] - 3s 38us/step - loss: 0.8958 - mae: 0.7494 - val_loss: 0.9844 - val_mae: 0.8058\n",
            "Epoch 17/100\n",
            "72000/72000 [==============================] - 3s 37us/step - loss: 0.8932 - mae: 0.7486 - val_loss: 0.9794 - val_mae: 0.8024\n",
            "Epoch 18/100\n",
            "72000/72000 [==============================] - 3s 37us/step - loss: 0.8925 - mae: 0.7482 - val_loss: 0.9800 - val_mae: 0.8029\n",
            "Epoch 19/100\n",
            "72000/72000 [==============================] - 3s 37us/step - loss: 0.8900 - mae: 0.7463 - val_loss: 0.9856 - val_mae: 0.8048\n",
            "Epoch 20/100\n",
            "72000/72000 [==============================] - 3s 37us/step - loss: 0.8891 - mae: 0.7468 - val_loss: 0.9831 - val_mae: 0.8035\n",
            "Epoch 21/100\n",
            "72000/72000 [==============================] - 3s 36us/step - loss: 0.8888 - mae: 0.7458 - val_loss: 0.9795 - val_mae: 0.8030\n",
            "Epoch 22/100\n",
            "72000/72000 [==============================] - 3s 36us/step - loss: 0.8911 - mae: 0.7471 - val_loss: 0.9892 - val_mae: 0.8087\n"
          ],
          "name": "stdout"
        }
      ]
    },
    {
      "cell_type": "markdown",
      "metadata": {
        "id": "GBjJPtHzOQ8H"
      },
      "source": [
        "### Finding the MAE for the testing set"
      ]
    },
    {
      "cell_type": "code",
      "metadata": {
        "id": "HXMn6Vc0J09x",
        "outputId": "014cd52e-886e-4203-8850-44a896312769",
        "colab": {
          "base_uri": "https://localhost:8080/",
          "height": 35
        }
      },
      "source": [
        "TEST_RATING_DATA_FILE = MOVIELENS_DIR + 'u1.test'\n",
        "test = pd.read_csv(TEST_RATING_DATA_FILE, \n",
        "                     delimiter='\\t', \n",
        "                    engine='python', \n",
        "                    encoding='latin-1',\n",
        "                    names=['userid', 'movieid', 'rating', 'timestamp'])\n",
        "max_userid__test = test['userid'].drop_duplicates().max()\n",
        "max_movieid_test = test['movieid'].drop_duplicates().max()\n",
        "test['user_emb_id'] = test['userid'] - 1\n",
        "test['movie_emb_id'] = test['movieid'] - 1\n",
        "print(str(len(test))+' testing loaded')\n",
        "Users_test = test['user_emb_id'].values\n",
        "Movies_test = test['movie_emb_id'].values\n",
        "Ratings_test = test['rating'].values"
      ],
      "execution_count": null,
      "outputs": [
        {
          "output_type": "stream",
          "text": [
            "20000 testing loaded\n"
          ],
          "name": "stdout"
        }
      ]
    },
    {
      "cell_type": "code",
      "metadata": {
        "id": "T-fCePvCsuNe",
        "outputId": "1fe91af5-a69d-44b2-ea08-cc68527c164c",
        "colab": {
          "base_uri": "https://localhost:8080/",
          "height": 35
        }
      },
      "source": [
        "pred=NCF_model.predict([Users_test,Movies_test])\n",
        "# pred.size\n",
        "mean_absolute_error(test['rating'], pred).round(3)"
      ],
      "execution_count": null,
      "outputs": [
        {
          "output_type": "execute_result",
          "data": {
            "text/plain": [
              "0.758"
            ]
          },
          "metadata": {
            "tags": []
          },
          "execution_count": 21
        }
      ]
    },
    {
      "cell_type": "markdown",
      "metadata": {
        "id": "8ffjZs0lOXmK"
      },
      "source": [
        "### Different amount of hidden layers"
      ]
    },
    {
      "cell_type": "code",
      "metadata": {
        "id": "HMr_-kx9OgMB",
        "outputId": "41b462a3-26ff-47e6-bedd-689e2c2ca889",
        "colab": {
          "base_uri": "https://localhost:8080/",
          "height": 575
        }
      },
      "source": [
        "K_LATENT_2 = 20\n",
        "hidden_dim_2 =20\n",
        "do_2 = 0.5\n",
        "NCF_model_2 = ncf_model(max_userid,max_movieid,K_LATENT_2,hidden_dim_2,do_2)\n",
        "NCF_model_2.compile(loss='mse',optimizer=Adamax(),metrics=['mae'])"
      ],
      "execution_count": null,
      "outputs": [
        {
          "output_type": "stream",
          "text": [
            "ncf model\n",
            "Model: \"model_3\"\n",
            "__________________________________________________________________________________________________\n",
            "Layer (type)                    Output Shape         Param #     Connected to                     \n",
            "==================================================================================================\n",
            "user_input (InputLayer)         (None, 1)            0                                            \n",
            "__________________________________________________________________________________________________\n",
            "item_input (InputLayer)         (None, 1)            0                                            \n",
            "__________________________________________________________________________________________________\n",
            "user_embedding (Embedding)      (None, 1, 20)        18860       user_input[0][0]                 \n",
            "__________________________________________________________________________________________________\n",
            "item_embedding (Embedding)      (None, 1, 20)        33640       item_input[0][0]                 \n",
            "__________________________________________________________________________________________________\n",
            "flatten_5 (Flatten)             (None, 20)           0           user_embedding[0][0]             \n",
            "__________________________________________________________________________________________________\n",
            "flatten_6 (Flatten)             (None, 20)           0           item_embedding[0][0]             \n",
            "__________________________________________________________________________________________________\n",
            "concatenate_3 (Concatenate)     (None, 40)           0           flatten_5[0][0]                  \n",
            "                                                                 flatten_6[0][0]                  \n",
            "__________________________________________________________________________________________________\n",
            "dense_3 (Dense)                 (None, 20)           820         concatenate_3[0][0]              \n",
            "__________________________________________________________________________________________________\n",
            "dropout_6 (Dropout)             (None, 20)           0           dense_3[0][0]                    \n",
            "__________________________________________________________________________________________________\n",
            "prediction (Dense)              (None, 1)            21          dropout_6[0][0]                  \n",
            "==================================================================================================\n",
            "Total params: 53,341\n",
            "Trainable params: 53,341\n",
            "Non-trainable params: 0\n",
            "__________________________________________________________________________________________________\n"
          ],
          "name": "stdout"
        },
        {
          "output_type": "stream",
          "text": [
            "/usr/local/lib/python3.6/dist-packages/ipykernel_launcher.py:18: UserWarning: Update your `Model` call to the Keras 2 API: `Model(inputs=[<tf.Tenso..., outputs=Tensor(\"pr...)`\n"
          ],
          "name": "stderr"
        }
      ]
    },
    {
      "cell_type": "code",
      "metadata": {
        "id": "70kOrgc_Pb1E",
        "outputId": "9d070b9d-25b8-4f82-800f-09dc41d99e4b",
        "colab": {
          "base_uri": "https://localhost:8080/",
          "height": 575
        }
      },
      "source": [
        "NCF_model_2 = ncf_model(max_userid,max_movieid,K_LATENT_2,hidden_dim_2,do_2)\n",
        "NCF_model_2.compile(loss='mse',optimizer=Adamax(lr=0.001),metrics=['mae'])"
      ],
      "execution_count": null,
      "outputs": [
        {
          "output_type": "stream",
          "text": [
            "ncf model\n",
            "Model: \"model_4\"\n",
            "__________________________________________________________________________________________________\n",
            "Layer (type)                    Output Shape         Param #     Connected to                     \n",
            "==================================================================================================\n",
            "user_input (InputLayer)         (None, 1)            0                                            \n",
            "__________________________________________________________________________________________________\n",
            "item_input (InputLayer)         (None, 1)            0                                            \n",
            "__________________________________________________________________________________________________\n",
            "user_embedding (Embedding)      (None, 1, 20)        18860       user_input[0][0]                 \n",
            "__________________________________________________________________________________________________\n",
            "item_embedding (Embedding)      (None, 1, 20)        33640       item_input[0][0]                 \n",
            "__________________________________________________________________________________________________\n",
            "flatten_7 (Flatten)             (None, 20)           0           user_embedding[0][0]             \n",
            "__________________________________________________________________________________________________\n",
            "flatten_8 (Flatten)             (None, 20)           0           item_embedding[0][0]             \n",
            "__________________________________________________________________________________________________\n",
            "concatenate_4 (Concatenate)     (None, 40)           0           flatten_7[0][0]                  \n",
            "                                                                 flatten_8[0][0]                  \n",
            "__________________________________________________________________________________________________\n",
            "dense_4 (Dense)                 (None, 20)           820         concatenate_4[0][0]              \n",
            "__________________________________________________________________________________________________\n",
            "dropout_8 (Dropout)             (None, 20)           0           dense_4[0][0]                    \n",
            "__________________________________________________________________________________________________\n",
            "prediction (Dense)              (None, 1)            21          dropout_8[0][0]                  \n",
            "==================================================================================================\n",
            "Total params: 53,341\n",
            "Trainable params: 53,341\n",
            "Non-trainable params: 0\n",
            "__________________________________________________________________________________________________\n"
          ],
          "name": "stdout"
        },
        {
          "output_type": "stream",
          "text": [
            "/usr/local/lib/python3.6/dist-packages/ipykernel_launcher.py:18: UserWarning: Update your `Model` call to the Keras 2 API: `Model(inputs=[<tf.Tenso..., outputs=Tensor(\"pr...)`\n"
          ],
          "name": "stderr"
        }
      ]
    },
    {
      "cell_type": "code",
      "metadata": {
        "id": "q9XzzMN0OzNV",
        "outputId": "f5e51cdb-94e0-4799-8af4-cbc609d95579",
        "colab": {
          "base_uri": "https://localhost:8080/",
          "height": 887
        }
      },
      "source": [
        "\n",
        "callbacks_ncf_2 = [EarlyStopping('val_loss', patience=5), \n",
        "             ModelCheckpoint(MODEL_WEIGHTS_FILE_CORE+'_ncf_'+str(do_2)+'_'+str(K_LATENT_2)+'_'+str(hidden_dim_2)+'.h5', save_best_only=True)]\n",
        "history_history_ncf_2 = NCF_model_2.fit([Users, Movies], Ratings, nb_epoch=100, validation_split=.1, verbose=1, callbacks=callbacks_ncf_2, batch_size = 32)"
      ],
      "execution_count": null,
      "outputs": [
        {
          "output_type": "stream",
          "text": [
            "/usr/local/lib/python3.6/dist-packages/ipykernel_launcher.py:4: UserWarning: The `nb_epoch` argument in `fit` has been renamed `epochs`.\n",
            "  after removing the cwd from sys.path.\n",
            "/usr/local/lib/python3.6/dist-packages/tensorflow/python/framework/indexed_slices.py:434: UserWarning: Converting sparse IndexedSlices to a dense Tensor of unknown shape. This may consume a large amount of memory.\n",
            "  \"Converting sparse IndexedSlices to a dense Tensor of unknown shape. \"\n"
          ],
          "name": "stderr"
        },
        {
          "output_type": "stream",
          "text": [
            "Train on 72000 samples, validate on 8000 samples\n",
            "Epoch 1/100\n",
            "72000/72000 [==============================] - 3s 48us/step - loss: 3.0821 - mae: 1.3863 - val_loss: 1.2330 - val_mae: 0.9177\n",
            "Epoch 2/100\n",
            "72000/72000 [==============================] - 3s 48us/step - loss: 1.4537 - mae: 0.9687 - val_loss: 1.1929 - val_mae: 0.9026\n",
            "Epoch 3/100\n",
            "72000/72000 [==============================] - 3s 47us/step - loss: 1.2280 - mae: 0.8903 - val_loss: 1.1083 - val_mae: 0.8642\n",
            "Epoch 4/100\n",
            "72000/72000 [==============================] - 3s 46us/step - loss: 1.1011 - mae: 0.8415 - val_loss: 1.0904 - val_mae: 0.8566\n",
            "Epoch 5/100\n",
            "72000/72000 [==============================] - 3s 48us/step - loss: 1.0109 - mae: 0.8054 - val_loss: 1.0753 - val_mae: 0.8503\n",
            "Epoch 6/100\n",
            "72000/72000 [==============================] - 3s 49us/step - loss: 0.9675 - mae: 0.7876 - val_loss: 1.0737 - val_mae: 0.8508\n",
            "Epoch 7/100\n",
            "72000/72000 [==============================] - 3s 46us/step - loss: 0.9365 - mae: 0.7733 - val_loss: 1.0497 - val_mae: 0.8378\n",
            "Epoch 8/100\n",
            "72000/72000 [==============================] - 3s 47us/step - loss: 0.9225 - mae: 0.7667 - val_loss: 1.0529 - val_mae: 0.8397\n",
            "Epoch 9/100\n",
            "72000/72000 [==============================] - 3s 47us/step - loss: 0.9050 - mae: 0.7563 - val_loss: 1.0419 - val_mae: 0.8326\n",
            "Epoch 10/100\n",
            "72000/72000 [==============================] - 3s 46us/step - loss: 0.8989 - mae: 0.7525 - val_loss: 1.0443 - val_mae: 0.8343\n",
            "Epoch 11/100\n",
            "72000/72000 [==============================] - 3s 46us/step - loss: 0.8978 - mae: 0.7523 - val_loss: 1.0432 - val_mae: 0.8337\n",
            "Epoch 12/100\n",
            "72000/72000 [==============================] - 3s 46us/step - loss: 0.8900 - mae: 0.7486 - val_loss: 1.0439 - val_mae: 0.8352\n",
            "Epoch 13/100\n",
            "72000/72000 [==============================] - 3s 47us/step - loss: 0.8886 - mae: 0.7480 - val_loss: 1.0356 - val_mae: 0.8312\n",
            "Epoch 14/100\n",
            "72000/72000 [==============================] - 3s 46us/step - loss: 0.8810 - mae: 0.7446 - val_loss: 1.0443 - val_mae: 0.8365\n",
            "Epoch 15/100\n",
            "72000/72000 [==============================] - 3s 46us/step - loss: 0.8822 - mae: 0.7458 - val_loss: 1.0351 - val_mae: 0.8328\n",
            "Epoch 16/100\n",
            "72000/72000 [==============================] - 3s 46us/step - loss: 0.8793 - mae: 0.7440 - val_loss: 1.0378 - val_mae: 0.8337\n",
            "Epoch 17/100\n",
            "72000/72000 [==============================] - 3s 46us/step - loss: 0.8794 - mae: 0.7436 - val_loss: 1.0322 - val_mae: 0.8304\n",
            "Epoch 18/100\n",
            "72000/72000 [==============================] - 3s 46us/step - loss: 0.8745 - mae: 0.7420 - val_loss: 1.0433 - val_mae: 0.8361\n",
            "Epoch 19/100\n",
            "72000/72000 [==============================] - 3s 46us/step - loss: 0.8718 - mae: 0.7406 - val_loss: 1.0480 - val_mae: 0.8390\n",
            "Epoch 20/100\n",
            "72000/72000 [==============================] - 3s 47us/step - loss: 0.8655 - mae: 0.7371 - val_loss: 1.0465 - val_mae: 0.8387\n",
            "Epoch 21/100\n",
            "72000/72000 [==============================] - 3s 46us/step - loss: 0.8625 - mae: 0.7363 - val_loss: 1.0459 - val_mae: 0.8392\n",
            "Epoch 22/100\n",
            "72000/72000 [==============================] - 3s 47us/step - loss: 0.8601 - mae: 0.7355 - val_loss: 1.0434 - val_mae: 0.8383\n"
          ],
          "name": "stdout"
        }
      ]
    },
    {
      "cell_type": "code",
      "metadata": {
        "id": "BKK9uNAxPRMS",
        "outputId": "2dff245c-f81a-4d46-99f5-38a6cdfe06fb",
        "colab": {
          "base_uri": "https://localhost:8080/",
          "height": 35
        }
      },
      "source": [
        "pred_2=NCF_model_2.predict([Users_test,Movies_test])\n",
        "# pred.size\n",
        "mean_absolute_error(test['rating'], pred_2).round(3)"
      ],
      "execution_count": null,
      "outputs": [
        {
          "output_type": "execute_result",
          "data": {
            "text/plain": [
              "0.748"
            ]
          },
          "metadata": {
            "tags": []
          },
          "execution_count": 16
        }
      ]
    },
    {
      "cell_type": "markdown",
      "metadata": {
        "id": "B5t771Q_Q1xz"
      },
      "source": [
        "### Different size of each layer"
      ]
    },
    {
      "cell_type": "code",
      "metadata": {
        "id": "MRscwURlQ5aH",
        "outputId": "a6fb06bb-e896-41a0-c222-17caf864ed41",
        "colab": {
          "base_uri": "https://localhost:8080/",
          "height": 575
        }
      },
      "source": [
        "K_LATENT_3 = 1\n",
        "hidden_dim_3 =50\n",
        "do_2 = 0.5\n",
        "NCF_model_3 = ncf_model(max_userid,max_movieid,K_LATENT_3,hidden_dim_3,do_2)\n",
        "NCF_model_3.compile(loss='mse',optimizer=Adamax(),metrics=['mae'])"
      ],
      "execution_count": null,
      "outputs": [
        {
          "output_type": "stream",
          "text": [
            "ncf model\n",
            "Model: \"model_5\"\n",
            "__________________________________________________________________________________________________\n",
            "Layer (type)                    Output Shape         Param #     Connected to                     \n",
            "==================================================================================================\n",
            "user_input (InputLayer)         (None, 1)            0                                            \n",
            "__________________________________________________________________________________________________\n",
            "item_input (InputLayer)         (None, 1)            0                                            \n",
            "__________________________________________________________________________________________________\n",
            "user_embedding (Embedding)      (None, 1, 1)         943         user_input[0][0]                 \n",
            "__________________________________________________________________________________________________\n",
            "item_embedding (Embedding)      (None, 1, 1)         1682        item_input[0][0]                 \n",
            "__________________________________________________________________________________________________\n",
            "flatten_9 (Flatten)             (None, 1)            0           user_embedding[0][0]             \n",
            "__________________________________________________________________________________________________\n",
            "flatten_10 (Flatten)            (None, 1)            0           item_embedding[0][0]             \n",
            "__________________________________________________________________________________________________\n",
            "concatenate_5 (Concatenate)     (None, 2)            0           flatten_9[0][0]                  \n",
            "                                                                 flatten_10[0][0]                 \n",
            "__________________________________________________________________________________________________\n",
            "dense_5 (Dense)                 (None, 50)           150         concatenate_5[0][0]              \n",
            "__________________________________________________________________________________________________\n",
            "dropout_10 (Dropout)            (None, 50)           0           dense_5[0][0]                    \n",
            "__________________________________________________________________________________________________\n",
            "prediction (Dense)              (None, 1)            51          dropout_10[0][0]                 \n",
            "==================================================================================================\n",
            "Total params: 2,826\n",
            "Trainable params: 2,826\n",
            "Non-trainable params: 0\n",
            "__________________________________________________________________________________________________\n"
          ],
          "name": "stdout"
        },
        {
          "output_type": "stream",
          "text": [
            "/usr/local/lib/python3.6/dist-packages/ipykernel_launcher.py:18: UserWarning: Update your `Model` call to the Keras 2 API: `Model(inputs=[<tf.Tenso..., outputs=Tensor(\"pr...)`\n"
          ],
          "name": "stderr"
        }
      ]
    },
    {
      "cell_type": "code",
      "metadata": {
        "id": "LIPy4bzkSfkO",
        "outputId": "d100c7d8-4464-4118-fbe6-389226e3b000",
        "colab": {
          "base_uri": "https://localhost:8080/",
          "height": 575
        }
      },
      "source": [
        "NCF_model_3 = ncf_model(max_userid,max_movieid,K_LATENT_3,hidden_dim_3,do_2)\n",
        "NCF_model_3.compile(loss='mse',optimizer=Adamax(lr=0.001),metrics=['mae'])"
      ],
      "execution_count": null,
      "outputs": [
        {
          "output_type": "stream",
          "text": [
            "ncf model\n",
            "Model: \"model_6\"\n",
            "__________________________________________________________________________________________________\n",
            "Layer (type)                    Output Shape         Param #     Connected to                     \n",
            "==================================================================================================\n",
            "user_input (InputLayer)         (None, 1)            0                                            \n",
            "__________________________________________________________________________________________________\n",
            "item_input (InputLayer)         (None, 1)            0                                            \n",
            "__________________________________________________________________________________________________\n",
            "user_embedding (Embedding)      (None, 1, 1)         943         user_input[0][0]                 \n",
            "__________________________________________________________________________________________________\n",
            "item_embedding (Embedding)      (None, 1, 1)         1682        item_input[0][0]                 \n",
            "__________________________________________________________________________________________________\n",
            "flatten_11 (Flatten)            (None, 1)            0           user_embedding[0][0]             \n",
            "__________________________________________________________________________________________________\n",
            "flatten_12 (Flatten)            (None, 1)            0           item_embedding[0][0]             \n",
            "__________________________________________________________________________________________________\n",
            "concatenate_6 (Concatenate)     (None, 2)            0           flatten_11[0][0]                 \n",
            "                                                                 flatten_12[0][0]                 \n",
            "__________________________________________________________________________________________________\n",
            "dense_6 (Dense)                 (None, 50)           150         concatenate_6[0][0]              \n",
            "__________________________________________________________________________________________________\n",
            "dropout_12 (Dropout)            (None, 50)           0           dense_6[0][0]                    \n",
            "__________________________________________________________________________________________________\n",
            "prediction (Dense)              (None, 1)            51          dropout_12[0][0]                 \n",
            "==================================================================================================\n",
            "Total params: 2,826\n",
            "Trainable params: 2,826\n",
            "Non-trainable params: 0\n",
            "__________________________________________________________________________________________________\n"
          ],
          "name": "stdout"
        },
        {
          "output_type": "stream",
          "text": [
            "/usr/local/lib/python3.6/dist-packages/ipykernel_launcher.py:18: UserWarning: Update your `Model` call to the Keras 2 API: `Model(inputs=[<tf.Tenso..., outputs=Tensor(\"pr...)`\n"
          ],
          "name": "stderr"
        }
      ]
    },
    {
      "cell_type": "code",
      "metadata": {
        "id": "2szKYubcSh0C",
        "outputId": "6cb9c68a-ef5a-481a-cd3d-78df6bda7cf1",
        "colab": {
          "base_uri": "https://localhost:8080/",
          "height": 991
        }
      },
      "source": [
        "\n",
        "callbacks_ncf_3 = [EarlyStopping('val_loss', patience=5), \n",
        "             ModelCheckpoint(MODEL_WEIGHTS_FILE_CORE+'_ncf_'+str(do_2)+'_'+str(K_LATENT_3)+'_'+str(hidden_dim_3)+'.h5', save_best_only=True)]\n",
        "history_history_ncf_3 = NCF_model_3.fit([Users, Movies], Ratings, nb_epoch=100, validation_split=.1, verbose=1, callbacks=callbacks_ncf_3, batch_size = 32)"
      ],
      "execution_count": null,
      "outputs": [
        {
          "output_type": "stream",
          "text": [
            "/usr/local/lib/python3.6/dist-packages/ipykernel_launcher.py:4: UserWarning: The `nb_epoch` argument in `fit` has been renamed `epochs`.\n",
            "  after removing the cwd from sys.path.\n",
            "/usr/local/lib/python3.6/dist-packages/tensorflow/python/framework/indexed_slices.py:434: UserWarning: Converting sparse IndexedSlices to a dense Tensor of unknown shape. This may consume a large amount of memory.\n",
            "  \"Converting sparse IndexedSlices to a dense Tensor of unknown shape. \"\n"
          ],
          "name": "stderr"
        },
        {
          "output_type": "stream",
          "text": [
            "Train on 72000 samples, validate on 8000 samples\n",
            "Epoch 1/100\n",
            "72000/72000 [==============================] - 3s 43us/step - loss: 2.7906 - mae: 1.3115 - val_loss: 1.1732 - val_mae: 0.9083\n",
            "Epoch 2/100\n",
            "72000/72000 [==============================] - 3s 42us/step - loss: 1.4301 - mae: 0.9659 - val_loss: 1.1199 - val_mae: 0.8712\n",
            "Epoch 3/100\n",
            "72000/72000 [==============================] - 3s 42us/step - loss: 1.2521 - mae: 0.9008 - val_loss: 1.0988 - val_mae: 0.8568\n",
            "Epoch 4/100\n",
            "72000/72000 [==============================] - 3s 42us/step - loss: 1.1467 - mae: 0.8590 - val_loss: 1.0666 - val_mae: 0.8393\n",
            "Epoch 5/100\n",
            "72000/72000 [==============================] - 3s 43us/step - loss: 1.0706 - mae: 0.8283 - val_loss: 1.0615 - val_mae: 0.8351\n",
            "Epoch 6/100\n",
            "72000/72000 [==============================] - 3s 44us/step - loss: 1.0113 - mae: 0.8039 - val_loss: 1.0589 - val_mae: 0.8350\n",
            "Epoch 7/100\n",
            "72000/72000 [==============================] - 3s 43us/step - loss: 0.9749 - mae: 0.7879 - val_loss: 1.0529 - val_mae: 0.8314\n",
            "Epoch 8/100\n",
            "72000/72000 [==============================] - 3s 42us/step - loss: 0.9439 - mae: 0.7754 - val_loss: 1.0578 - val_mae: 0.8322\n",
            "Epoch 9/100\n",
            "72000/72000 [==============================] - 3s 45us/step - loss: 0.9206 - mae: 0.7654 - val_loss: 1.0501 - val_mae: 0.8293\n",
            "Epoch 10/100\n",
            "72000/72000 [==============================] - 3s 42us/step - loss: 0.9059 - mae: 0.7578 - val_loss: 1.0589 - val_mae: 0.8351\n",
            "Epoch 11/100\n",
            "72000/72000 [==============================] - 3s 42us/step - loss: 0.8961 - mae: 0.7535 - val_loss: 1.0436 - val_mae: 0.8258\n",
            "Epoch 12/100\n",
            "72000/72000 [==============================] - 3s 44us/step - loss: 0.8895 - mae: 0.7503 - val_loss: 1.0412 - val_mae: 0.8249\n",
            "Epoch 13/100\n",
            "72000/72000 [==============================] - 3s 43us/step - loss: 0.8819 - mae: 0.7463 - val_loss: 1.0523 - val_mae: 0.8308\n",
            "Epoch 14/100\n",
            "72000/72000 [==============================] - 3s 43us/step - loss: 0.8763 - mae: 0.7426 - val_loss: 1.0391 - val_mae: 0.8222\n",
            "Epoch 15/100\n",
            "72000/72000 [==============================] - 3s 43us/step - loss: 0.8733 - mae: 0.7416 - val_loss: 1.0458 - val_mae: 0.8265\n",
            "Epoch 16/100\n",
            "72000/72000 [==============================] - 3s 45us/step - loss: 0.8703 - mae: 0.7394 - val_loss: 1.0439 - val_mae: 0.8262\n",
            "Epoch 17/100\n",
            "72000/72000 [==============================] - 3s 46us/step - loss: 0.8707 - mae: 0.7383 - val_loss: 1.0399 - val_mae: 0.8236\n",
            "Epoch 18/100\n",
            "72000/72000 [==============================] - 3s 43us/step - loss: 0.8686 - mae: 0.7370 - val_loss: 1.0482 - val_mae: 0.8283\n",
            "Epoch 19/100\n",
            "72000/72000 [==============================] - 3s 43us/step - loss: 0.8652 - mae: 0.7347 - val_loss: 1.0367 - val_mae: 0.8240\n",
            "Epoch 20/100\n",
            "72000/72000 [==============================] - 3s 42us/step - loss: 0.8633 - mae: 0.7331 - val_loss: 1.0270 - val_mae: 0.8188\n",
            "Epoch 21/100\n",
            "72000/72000 [==============================] - 3s 42us/step - loss: 0.8651 - mae: 0.7338 - val_loss: 1.0377 - val_mae: 0.8238\n",
            "Epoch 22/100\n",
            "72000/72000 [==============================] - 3s 44us/step - loss: 0.8639 - mae: 0.7330 - val_loss: 1.0347 - val_mae: 0.8223\n",
            "Epoch 23/100\n",
            "72000/72000 [==============================] - 3s 45us/step - loss: 0.8621 - mae: 0.7323 - val_loss: 1.0310 - val_mae: 0.8194\n",
            "Epoch 24/100\n",
            "72000/72000 [==============================] - 3s 47us/step - loss: 0.8620 - mae: 0.7316 - val_loss: 1.0361 - val_mae: 0.8238\n",
            "Epoch 25/100\n",
            "72000/72000 [==============================] - 3s 47us/step - loss: 0.8597 - mae: 0.7302 - val_loss: 1.0354 - val_mae: 0.8229\n"
          ],
          "name": "stdout"
        }
      ]
    },
    {
      "cell_type": "code",
      "metadata": {
        "id": "DiG5wpwySju6",
        "outputId": "6307b0ec-ff2d-496f-e54d-cc16c1459a9c",
        "colab": {
          "base_uri": "https://localhost:8080/",
          "height": 35
        }
      },
      "source": [
        "pred_3=NCF_model_3.predict([Users_test,Movies_test])\n",
        "# pred.size\n",
        "mean_absolute_error(test['rating'], pred_3).round(3)\n"
      ],
      "execution_count": null,
      "outputs": [
        {
          "output_type": "execute_result",
          "data": {
            "text/plain": [
              "0.752"
            ]
          },
          "metadata": {
            "tags": []
          },
          "execution_count": 20
        }
      ]
    },
    {
      "cell_type": "markdown",
      "metadata": {
        "id": "RDk5PerKXH11"
      },
      "source": [
        "### Different activation function"
      ]
    },
    {
      "cell_type": "code",
      "metadata": {
        "id": "zokjvwJQXHJA"
      },
      "source": [
        "'''this function built a ncf model according to the input and prints the summery of it\n",
        "num_users- number of users\n",
        "num_items - number of items\n",
        "latent_dim - numbers of layers\n",
        "hidden_dim - size of layers\n",
        "do - dropout\n",
        "'''\n",
        "def ncf_model_4(num_users, num_items, latent_dim,hidden_dim,do):\n",
        "    user_input = Input(shape=(1,), dtype='int32', name = 'user_input')\n",
        "    item_input = Input(shape=(1,), dtype='int32', name = 'item_input')\n",
        "\n",
        "    MF_Embedding_User = Embedding(input_dim = num_users, output_dim = latent_dim, name = 'user_embedding', input_length=1)\n",
        "    MF_Embedding_Item = Embedding(input_dim = num_items, output_dim = latent_dim, name = 'item_embedding', input_length=1)   \n",
        "    \n",
        "    user_latent = Flatten()(MF_Embedding_User(user_input))\n",
        "    item_latent = Flatten()(MF_Embedding_Item(item_input))\n",
        "\n",
        "    c = Concatenate()([user_latent, item_latent])\n",
        "    drop = Dropout(0.5)(c)\n",
        "    hid1 = Dense(hidden_dim, activation='softplus')(c)\n",
        "    drop2  = Dropout(do)(hid1)\n",
        "    prediction = Dense(1, activation='softplus', kernel_initializer='lecun_uniform', name = 'prediction')(drop2)\n",
        "    \n",
        "    \n",
        "    model = Model(input=[user_input, item_input], output=prediction)\n",
        "    print(\"ncf model\")\n",
        "    model.summary()\n",
        "\n",
        "    return model"
      ],
      "execution_count": null,
      "outputs": []
    },
    {
      "cell_type": "code",
      "metadata": {
        "id": "0uQaw0N6dwUN",
        "outputId": "7ff9095a-9c52-42b2-bd74-fff2a97197f0",
        "colab": {
          "base_uri": "https://localhost:8080/",
          "height": 575
        }
      },
      "source": [
        "K_LATENT = 1\n",
        "hidden_dim = 20\n",
        "do = 0.5\n",
        "NCF_model = ncf_model_4(max_userid,max_movieid,K_LATENT,hidden_dim,do)\n",
        "NCF_model.compile(loss='mse',optimizer=Adamax(),metrics=['mae'])"
      ],
      "execution_count": null,
      "outputs": [
        {
          "output_type": "stream",
          "text": [
            "ncf model\n",
            "Model: \"model_7\"\n",
            "__________________________________________________________________________________________________\n",
            "Layer (type)                    Output Shape         Param #     Connected to                     \n",
            "==================================================================================================\n",
            "user_input (InputLayer)         (None, 1)            0                                            \n",
            "__________________________________________________________________________________________________\n",
            "item_input (InputLayer)         (None, 1)            0                                            \n",
            "__________________________________________________________________________________________________\n",
            "user_embedding (Embedding)      (None, 1, 1)         943         user_input[0][0]                 \n",
            "__________________________________________________________________________________________________\n",
            "item_embedding (Embedding)      (None, 1, 1)         1682        item_input[0][0]                 \n",
            "__________________________________________________________________________________________________\n",
            "flatten_13 (Flatten)            (None, 1)            0           user_embedding[0][0]             \n",
            "__________________________________________________________________________________________________\n",
            "flatten_14 (Flatten)            (None, 1)            0           item_embedding[0][0]             \n",
            "__________________________________________________________________________________________________\n",
            "concatenate_7 (Concatenate)     (None, 2)            0           flatten_13[0][0]                 \n",
            "                                                                 flatten_14[0][0]                 \n",
            "__________________________________________________________________________________________________\n",
            "dense_7 (Dense)                 (None, 20)           60          concatenate_7[0][0]              \n",
            "__________________________________________________________________________________________________\n",
            "dropout_14 (Dropout)            (None, 20)           0           dense_7[0][0]                    \n",
            "__________________________________________________________________________________________________\n",
            "prediction (Dense)              (None, 1)            21          dropout_14[0][0]                 \n",
            "==================================================================================================\n",
            "Total params: 2,706\n",
            "Trainable params: 2,706\n",
            "Non-trainable params: 0\n",
            "__________________________________________________________________________________________________\n"
          ],
          "name": "stdout"
        },
        {
          "output_type": "stream",
          "text": [
            "/usr/local/lib/python3.6/dist-packages/ipykernel_launcher.py:18: UserWarning: Update your `Model` call to the Keras 2 API: `Model(inputs=[<tf.Tenso..., outputs=Tensor(\"pr...)`\n"
          ],
          "name": "stderr"
        }
      ]
    },
    {
      "cell_type": "code",
      "metadata": {
        "id": "nPl7ibHLeOa0",
        "outputId": "85e94cc4-698e-4717-d9fa-90fef73c7c27",
        "colab": {
          "base_uri": "https://localhost:8080/",
          "height": 575
        }
      },
      "source": [
        "NCF_model = ncf_model_4(max_userid,max_movieid,K_LATENT,hidden_dim,do)\n",
        "NCF_model.compile(loss='mse',optimizer=Adamax(lr=0.001),metrics=['mae'])"
      ],
      "execution_count": null,
      "outputs": [
        {
          "output_type": "stream",
          "text": [
            "ncf model\n",
            "Model: \"model_9\"\n",
            "__________________________________________________________________________________________________\n",
            "Layer (type)                    Output Shape         Param #     Connected to                     \n",
            "==================================================================================================\n",
            "user_input (InputLayer)         (None, 1)            0                                            \n",
            "__________________________________________________________________________________________________\n",
            "item_input (InputLayer)         (None, 1)            0                                            \n",
            "__________________________________________________________________________________________________\n",
            "user_embedding (Embedding)      (None, 1, 1)         943         user_input[0][0]                 \n",
            "__________________________________________________________________________________________________\n",
            "item_embedding (Embedding)      (None, 1, 1)         1682        item_input[0][0]                 \n",
            "__________________________________________________________________________________________________\n",
            "flatten_17 (Flatten)            (None, 1)            0           user_embedding[0][0]             \n",
            "__________________________________________________________________________________________________\n",
            "flatten_18 (Flatten)            (None, 1)            0           item_embedding[0][0]             \n",
            "__________________________________________________________________________________________________\n",
            "concatenate_9 (Concatenate)     (None, 2)            0           flatten_17[0][0]                 \n",
            "                                                                 flatten_18[0][0]                 \n",
            "__________________________________________________________________________________________________\n",
            "dense_9 (Dense)                 (None, 20)           60          concatenate_9[0][0]              \n",
            "__________________________________________________________________________________________________\n",
            "dropout_18 (Dropout)            (None, 20)           0           dense_9[0][0]                    \n",
            "__________________________________________________________________________________________________\n",
            "prediction (Dense)              (None, 1)            21          dropout_18[0][0]                 \n",
            "==================================================================================================\n",
            "Total params: 2,706\n",
            "Trainable params: 2,706\n",
            "Non-trainable params: 0\n",
            "__________________________________________________________________________________________________\n"
          ],
          "name": "stdout"
        },
        {
          "output_type": "stream",
          "text": [
            "/usr/local/lib/python3.6/dist-packages/ipykernel_launcher.py:18: UserWarning: Update your `Model` call to the Keras 2 API: `Model(inputs=[<tf.Tenso..., outputs=Tensor(\"pr...)`\n"
          ],
          "name": "stderr"
        }
      ]
    },
    {
      "cell_type": "code",
      "metadata": {
        "id": "FJGN0mSdd31f",
        "outputId": "9d0a1c79-16a4-4e5d-a49f-fd64d9aa15b4",
        "colab": {
          "base_uri": "https://localhost:8080/",
          "height": 1000
        }
      },
      "source": [
        "MODEL_WEIGHTS_FILE = 'u_emb_weights.h5'\n",
        "MODEL_WEIGHTS_FILE_CORE = 'u_emb_weights'\n",
        "callbacks_ncf = [EarlyStopping('val_loss', patience=5), \n",
        "             ModelCheckpoint(MODEL_WEIGHTS_FILE_CORE+'_ncf_'+str(do)+'_'+str(K_LATENT)+'_'+str(hidden_dim)+'.h5', save_best_only=True)]\n",
        "history_history_ncf = NCF_model.fit([Users, Movies], Ratings, nb_epoch=100, validation_split=.1, verbose=1, callbacks=callbacks_ncf, batch_size = 32)"
      ],
      "execution_count": null,
      "outputs": [
        {
          "output_type": "stream",
          "text": [
            "/usr/local/lib/python3.6/dist-packages/ipykernel_launcher.py:5: UserWarning: The `nb_epoch` argument in `fit` has been renamed `epochs`.\n",
            "  \"\"\"\n",
            "/usr/local/lib/python3.6/dist-packages/tensorflow/python/framework/indexed_slices.py:434: UserWarning: Converting sparse IndexedSlices to a dense Tensor of unknown shape. This may consume a large amount of memory.\n",
            "  \"Converting sparse IndexedSlices to a dense Tensor of unknown shape. \"\n"
          ],
          "name": "stderr"
        },
        {
          "output_type": "stream",
          "text": [
            "Train on 72000 samples, validate on 8000 samples\n",
            "Epoch 1/100\n",
            "72000/72000 [==============================] - 3s 44us/step - loss: 2.1493 - mae: 1.1863 - val_loss: 1.1854 - val_mae: 0.9242\n",
            "Epoch 2/100\n",
            "72000/72000 [==============================] - 3s 40us/step - loss: 1.6144 - mae: 1.0348 - val_loss: 1.1790 - val_mae: 0.9218\n",
            "Epoch 3/100\n",
            "72000/72000 [==============================] - 3s 40us/step - loss: 1.4896 - mae: 0.9928 - val_loss: 1.1615 - val_mae: 0.9136\n",
            "Epoch 4/100\n",
            "72000/72000 [==============================] - 3s 41us/step - loss: 1.3619 - mae: 0.9507 - val_loss: 1.1330 - val_mae: 0.8995\n",
            "Epoch 5/100\n",
            "72000/72000 [==============================] - 3s 43us/step - loss: 1.2540 - mae: 0.9073 - val_loss: 1.1029 - val_mae: 0.8818\n",
            "Epoch 6/100\n",
            "72000/72000 [==============================] - 3s 41us/step - loss: 1.1746 - mae: 0.8752 - val_loss: 1.0737 - val_mae: 0.8624\n",
            "Epoch 7/100\n",
            "72000/72000 [==============================] - 3s 42us/step - loss: 1.1204 - mae: 0.8524 - val_loss: 1.0594 - val_mae: 0.8525\n",
            "Epoch 8/100\n",
            "72000/72000 [==============================] - 3s 42us/step - loss: 1.0794 - mae: 0.8349 - val_loss: 1.0467 - val_mae: 0.8437\n",
            "Epoch 9/100\n",
            "72000/72000 [==============================] - 3s 41us/step - loss: 1.0551 - mae: 0.8234 - val_loss: 1.0386 - val_mae: 0.8376\n",
            "Epoch 10/100\n",
            "72000/72000 [==============================] - 3s 43us/step - loss: 1.0358 - mae: 0.8153 - val_loss: 1.0323 - val_mae: 0.8332\n",
            "Epoch 11/100\n",
            "72000/72000 [==============================] - 3s 41us/step - loss: 1.0240 - mae: 0.8095 - val_loss: 1.0357 - val_mae: 0.8348\n",
            "Epoch 12/100\n",
            "72000/72000 [==============================] - 3s 41us/step - loss: 1.0121 - mae: 0.8033 - val_loss: 1.0291 - val_mae: 0.8303\n",
            "Epoch 13/100\n",
            "72000/72000 [==============================] - 3s 42us/step - loss: 1.0025 - mae: 0.7990 - val_loss: 1.0194 - val_mae: 0.8235\n",
            "Epoch 14/100\n",
            "72000/72000 [==============================] - 3s 41us/step - loss: 0.9954 - mae: 0.7960 - val_loss: 1.0179 - val_mae: 0.8222\n",
            "Epoch 15/100\n",
            "72000/72000 [==============================] - 3s 41us/step - loss: 0.9859 - mae: 0.7923 - val_loss: 1.0220 - val_mae: 0.8247\n",
            "Epoch 16/100\n",
            "72000/72000 [==============================] - 3s 40us/step - loss: 0.9839 - mae: 0.7904 - val_loss: 1.0183 - val_mae: 0.8222\n",
            "Epoch 17/100\n",
            "72000/72000 [==============================] - 3s 40us/step - loss: 0.9767 - mae: 0.7872 - val_loss: 1.0165 - val_mae: 0.8208\n",
            "Epoch 18/100\n",
            "72000/72000 [==============================] - 3s 44us/step - loss: 0.9744 - mae: 0.7859 - val_loss: 1.0209 - val_mae: 0.8238\n",
            "Epoch 19/100\n",
            "72000/72000 [==============================] - 3s 42us/step - loss: 0.9724 - mae: 0.7847 - val_loss: 1.0175 - val_mae: 0.8217\n",
            "Epoch 20/100\n",
            "72000/72000 [==============================] - 3s 40us/step - loss: 0.9681 - mae: 0.7838 - val_loss: 1.0151 - val_mae: 0.8202\n",
            "Epoch 21/100\n",
            "72000/72000 [==============================] - 3s 40us/step - loss: 0.9670 - mae: 0.7819 - val_loss: 1.0211 - val_mae: 0.8240\n",
            "Epoch 22/100\n",
            "72000/72000 [==============================] - 3s 40us/step - loss: 0.9623 - mae: 0.7796 - val_loss: 1.0141 - val_mae: 0.8195\n",
            "Epoch 23/100\n",
            "72000/72000 [==============================] - 3s 42us/step - loss: 0.9625 - mae: 0.7802 - val_loss: 1.0116 - val_mae: 0.8178\n",
            "Epoch 24/100\n",
            "72000/72000 [==============================] - 3s 40us/step - loss: 0.9608 - mae: 0.7790 - val_loss: 1.0118 - val_mae: 0.8181\n",
            "Epoch 25/100\n",
            "72000/72000 [==============================] - 3s 43us/step - loss: 0.9591 - mae: 0.7792 - val_loss: 1.0124 - val_mae: 0.8184\n",
            "Epoch 26/100\n",
            "72000/72000 [==============================] - 3s 41us/step - loss: 0.9565 - mae: 0.7773 - val_loss: 1.0114 - val_mae: 0.8178\n",
            "Epoch 27/100\n",
            "72000/72000 [==============================] - 3s 41us/step - loss: 0.9554 - mae: 0.7765 - val_loss: 1.0111 - val_mae: 0.8177\n",
            "Epoch 28/100\n",
            "72000/72000 [==============================] - 3s 40us/step - loss: 0.9562 - mae: 0.7772 - val_loss: 1.0284 - val_mae: 0.8290\n",
            "Epoch 29/100\n",
            "72000/72000 [==============================] - 3s 41us/step - loss: 0.9543 - mae: 0.7766 - val_loss: 1.0200 - val_mae: 0.8239\n",
            "Epoch 30/100\n",
            "72000/72000 [==============================] - 3s 43us/step - loss: 0.9527 - mae: 0.7760 - val_loss: 1.0176 - val_mae: 0.8224\n",
            "Epoch 31/100\n",
            "72000/72000 [==============================] - 3s 40us/step - loss: 0.9509 - mae: 0.7744 - val_loss: 1.0211 - val_mae: 0.8248\n",
            "Epoch 32/100\n",
            "72000/72000 [==============================] - 3s 43us/step - loss: 0.9518 - mae: 0.7754 - val_loss: 1.0185 - val_mae: 0.8232\n"
          ],
          "name": "stdout"
        }
      ]
    },
    {
      "cell_type": "code",
      "metadata": {
        "id": "1Dta-yJLeCOY",
        "outputId": "90818c70-564b-49cd-d7a5-2df346a56bfd",
        "colab": {
          "base_uri": "https://localhost:8080/",
          "height": 35
        }
      },
      "source": [
        "pred=NCF_model.predict([Users_test,Movies_test])\n",
        "# pred.size\n",
        "mean_absolute_error(test['rating'], pred).round(3)"
      ],
      "execution_count": null,
      "outputs": [
        {
          "output_type": "execute_result",
          "data": {
            "text/plain": [
              "0.782"
            ]
          },
          "metadata": {
            "tags": []
          },
          "execution_count": 26
        }
      ]
    },
    {
      "cell_type": "markdown",
      "metadata": {
        "id": "tsXxSQMZhS55"
      },
      "source": [
        "# Question 5"
      ]
    },
    {
      "cell_type": "markdown",
      "metadata": {
        "id": "ghrhRJHthXFk"
      },
      "source": [
        "### deepCTR"
      ]
    },
    {
      "cell_type": "markdown",
      "metadata": {
        "id": "XC44inn7hmf7"
      },
      "source": [
        "loading data"
      ]
    },
    {
      "cell_type": "code",
      "metadata": {
        "id": "ntSId2dwhmf9"
      },
      "source": [
        "MOVIELENS_DIR = '/content/drive/My Drive/eCommerce Project/ml-100k/'\n",
        "RATING_DATA_FILE = MOVIELENS_DIR+'u.item'"
      ],
      "execution_count": null,
      "outputs": []
    },
    {
      "cell_type": "code",
      "metadata": {
        "outputId": "f330d3bf-60ce-4aea-be28-ed14acade0c6",
        "id": "SFkpDeVkhmgM",
        "colab": {
          "base_uri": "https://localhost:8080/",
          "height": 34
        }
      },
      "source": [
        "m_cols = ['movie_id','movie title','release date','video release date','IMDb URL'\n",
        "          ,'unknown','Action','Adventure','Animation','Childrens','Comedy',\n",
        "          'Crime','Documentary','Drama','Fantasy','Film-Noir','Horror','Musical','Mystery','Romance','Sci-Fi',\n",
        "        'Thriller','War','Western']\n",
        "data= pd.read_csv(RATING_DATA_FILE,delimiter='|',names=m_cols,encoding='latin-1')\n",
        "data.shape"
      ],
      "execution_count": null,
      "outputs": [
        {
          "output_type": "execute_result",
          "data": {
            "text/plain": [
              "(1682, 24)"
            ]
          },
          "metadata": {
            "tags": []
          },
          "execution_count": 5
        }
      ]
    },
    {
      "cell_type": "code",
      "metadata": {
        "outputId": "e9e03589-ab71-48d5-b8e5-62cff6aeb147",
        "id": "MNVQDUkDhmgT",
        "colab": {
          "base_uri": "https://localhost:8080/",
          "height": 204
        }
      },
      "source": [
        "r_cols = ['user_id','movie_id','rating','timestamp']\n",
        "#Get user ratings of the training set\n",
        "user_rating = pd.read_csv(MOVIELENS_DIR + 'u1.base',delimiter='\\t', names=r_cols)\n",
        "user_rating.head()"
      ],
      "execution_count": null,
      "outputs": [
        {
          "output_type": "execute_result",
          "data": {
            "text/html": [
              "<div>\n",
              "<style scoped>\n",
              "    .dataframe tbody tr th:only-of-type {\n",
              "        vertical-align: middle;\n",
              "    }\n",
              "\n",
              "    .dataframe tbody tr th {\n",
              "        vertical-align: top;\n",
              "    }\n",
              "\n",
              "    .dataframe thead th {\n",
              "        text-align: right;\n",
              "    }\n",
              "</style>\n",
              "<table border=\"1\" class=\"dataframe\">\n",
              "  <thead>\n",
              "    <tr style=\"text-align: right;\">\n",
              "      <th></th>\n",
              "      <th>user_id</th>\n",
              "      <th>movie_id</th>\n",
              "      <th>rating</th>\n",
              "      <th>timestamp</th>\n",
              "    </tr>\n",
              "  </thead>\n",
              "  <tbody>\n",
              "    <tr>\n",
              "      <th>0</th>\n",
              "      <td>1</td>\n",
              "      <td>1</td>\n",
              "      <td>5</td>\n",
              "      <td>874965758</td>\n",
              "    </tr>\n",
              "    <tr>\n",
              "      <th>1</th>\n",
              "      <td>1</td>\n",
              "      <td>2</td>\n",
              "      <td>3</td>\n",
              "      <td>876893171</td>\n",
              "    </tr>\n",
              "    <tr>\n",
              "      <th>2</th>\n",
              "      <td>1</td>\n",
              "      <td>3</td>\n",
              "      <td>4</td>\n",
              "      <td>878542960</td>\n",
              "    </tr>\n",
              "    <tr>\n",
              "      <th>3</th>\n",
              "      <td>1</td>\n",
              "      <td>4</td>\n",
              "      <td>3</td>\n",
              "      <td>876893119</td>\n",
              "    </tr>\n",
              "    <tr>\n",
              "      <th>4</th>\n",
              "      <td>1</td>\n",
              "      <td>5</td>\n",
              "      <td>3</td>\n",
              "      <td>889751712</td>\n",
              "    </tr>\n",
              "  </tbody>\n",
              "</table>\n",
              "</div>"
            ],
            "text/plain": [
              "   user_id  movie_id  rating  timestamp\n",
              "0        1         1       5  874965758\n",
              "1        1         2       3  876893171\n",
              "2        1         3       4  878542960\n",
              "3        1         4       3  876893119\n",
              "4        1         5       3  889751712"
            ]
          },
          "metadata": {
            "tags": []
          },
          "execution_count": 6
        }
      ]
    },
    {
      "cell_type": "markdown",
      "metadata": {
        "id": "PMcnOMxZ38bE"
      },
      "source": [
        "### Prediction by DeepFM Model using DeepCTR package"
      ]
    },
    {
      "cell_type": "code",
      "metadata": {
        "id": "1Gm9Tozheh1D",
        "outputId": "7a922812-ef4e-40c6-b03c-f002d599a672",
        "colab": {
          "base_uri": "https://localhost:8080/",
          "height": 453
        }
      },
      "source": [
        "#DeepCTR model\n",
        "from sklearn.metrics import mean_squared_error\n",
        "from sklearn.metrics import mean_absolute_error\n",
        "from sklearn.model_selection import train_test_split\n",
        "from sklearn.preprocessing import LabelEncoder\n",
        "\n",
        "from deepctr.models import DeepFM\n",
        "from deepctr.inputs import SparseFeat,get_feature_names\n",
        "\n",
        "\n",
        "\n",
        "#get all users rating data\n",
        "r_cols = ['user_id','movie_id','rating','timestamp']\n",
        "all_data = pd.read_csv(MOVIELENS_DIR + 'u.data',delimiter='\\t', names=r_cols)\n",
        "#get users data\n",
        "u_cols = ['user_id','age','gender','occupation','zip_code']\n",
        "data_u = pd.read_csv(MOVIELENS_DIR+'/u.user',delimiter='|',names=u_cols,encoding='latin-1')\n",
        "#get movies data\n",
        "m_cols = ['movie_id','movie title','release date','video release date','IMDb URL'\n",
        "          ,'unknown','Action','Adventure','Animation','Childrens','Comedy',\n",
        "          'Crime','Documentary','Drama','Fantasy','Film-Noir','Horror','Musical','Mystery','Romance','Sci-Fi',\n",
        "        'Thriller','War','Western']\n",
        "data_m= pd.read_csv(RATING_DATA_FILE,delimiter='|',names=m_cols,encoding='latin-1')\n",
        "\n",
        "#merge all data and users data and movies data\n",
        "data = all_data.merge(data_u, on=\"user_id\", how=\"inner\")\n",
        "data = data.merge(data_m, on=\"movie_id\", how=\"inner\")\n",
        "\n",
        "#get the train and test data\n",
        "train_data = pd.read_csv(MOVIELENS_DIR + 'u1.base',delimiter='\\t', names=r_cols)\n",
        "test_data = pd.read_csv(MOVIELENS_DIR + 'u1.test',delimiter='\\t', names=r_cols)\n",
        "\n",
        "# merge the user information data to the train and test data\n",
        "train = train_data.merge(data_u, on=\"user_id\", how=\"inner\")\n",
        "test = test_data.merge(data_u, on=\"user_id\", how=\"inner\")\n",
        "\n",
        "train = train.merge(data_m, on=\"movie_id\", how=\"inner\")\n",
        "test = test.merge(data_m, on=\"movie_id\", how=\"inner\")\n",
        "\n",
        "\n",
        "#discretize the age of the users\n",
        "train.head()\n",
        "bins = [0,16,32,48,64]\n",
        "labels = [\"kid\", \"young\", \"middle-aged\", \"older\"]\n",
        "train[\"binned_age\"] = pd.cut(train[\"age\"], bins=bins, labels=labels)\n",
        "test[\"binned_age\"] = pd.cut(test[\"age\"], bins=bins, labels=labels)\n",
        "data[\"binned_age\"] = pd.cut(data[\"age\"], bins=bins, labels=labels)\n",
        "#make the binned aged string\n",
        "train[\"binned_age\"] = train.binned_age.astype(str)\n",
        "test[\"binned_age\"] = test.binned_age.astype(str)\n",
        "data[\"binned_age\"] = data.binned_age.astype(str)\n",
        "\n",
        "\n",
        "#the features we want to predict based on them\n",
        "sparse_features = [\"movie_id\", \"user_id\", \"age\", \"gender\"]\n",
        "target = ['rating']\n",
        "\n",
        "\n",
        "# 1.Label Encoding for sparse features,and do simple Transformation for dense features\n",
        "for feat in sparse_features:\n",
        "    lbe = LabelEncoder()\n",
        "    data[feat] = lbe.fit_transform(data[feat])\n",
        "    train[feat] = lbe.fit_transform(train[feat])\n",
        "    test[feat] = lbe.fit_transform(test[feat])\n",
        "\n",
        "\n",
        "\n",
        "# 2.count #unique features for each sparse field\n",
        "fixlen_feature_columns = [SparseFeat(feat, data[feat].nunique(),embedding_dim=4)\n",
        "                          for feat in sparse_features]\n",
        "linear_feature_columns = fixlen_feature_columns\n",
        "dnn_feature_columns = fixlen_feature_columns\n",
        "feature_names = get_feature_names(linear_feature_columns + dnn_feature_columns)\n",
        "# 3.generate input data for model based on u1.base and u1.test files\n",
        "train_model_input = {name:train[name].values for name in feature_names}\n",
        "test_model_input = {name:test[name].values for name in feature_names}\n",
        "# 4.Define Model,train,predict and evaluate\n",
        "model = DeepFM(linear_feature_columns, dnn_feature_columns, task='regression',)\n",
        "model.compile(\"adam\", \"mae\", metrics=['mae'], )\n",
        "history = model.fit(train_model_input, train[target].values,\n",
        "                    batch_size=256, epochs=10, verbose=2, validation_split=0.1, )\n",
        "pred_ans = model.predict(test_model_input, batch_size=256)\n",
        "print(\"test MSE\", round(mean_squared_error(\n",
        "    test[target].values, pred_ans), 4))\n",
        "MAE = mean_absolute_error(test[target], pred_ans)\n",
        "print(\"test MAE\", MAE)\n"
      ],
      "execution_count": null,
      "outputs": [
        {
          "output_type": "stream",
          "text": [
            "Epoch 1/10\n"
          ],
          "name": "stdout"
        },
        {
          "output_type": "stream",
          "text": [
            "/usr/local/lib/python3.6/dist-packages/tensorflow/python/framework/indexed_slices.py:434: UserWarning: Converting sparse IndexedSlices to a dense Tensor of unknown shape. This may consume a large amount of memory.\n",
            "  \"Converting sparse IndexedSlices to a dense Tensor of unknown shape. \"\n"
          ],
          "name": "stderr"
        },
        {
          "output_type": "stream",
          "text": [
            "282/282 - 1s - loss: 1.0917 - mae: 1.0917 - val_loss: 0.8660 - val_mae: 0.8659\n",
            "Epoch 2/10\n",
            "282/282 - 1s - loss: 0.7315 - mae: 0.7314 - val_loss: 0.8663 - val_mae: 0.8662\n",
            "Epoch 3/10\n",
            "282/282 - 1s - loss: 0.7226 - mae: 0.7225 - val_loss: 0.8662 - val_mae: 0.8660\n",
            "Epoch 4/10\n",
            "282/282 - 1s - loss: 0.7174 - mae: 0.7172 - val_loss: 0.8774 - val_mae: 0.8772\n",
            "Epoch 5/10\n",
            "282/282 - 1s - loss: 0.7131 - mae: 0.7129 - val_loss: 0.8787 - val_mae: 0.8785\n",
            "Epoch 6/10\n",
            "282/282 - 1s - loss: 0.7046 - mae: 0.7044 - val_loss: 0.8636 - val_mae: 0.8633\n",
            "Epoch 7/10\n",
            "282/282 - 1s - loss: 0.6966 - mae: 0.6963 - val_loss: 0.8644 - val_mae: 0.8641\n",
            "Epoch 8/10\n",
            "282/282 - 1s - loss: 0.6888 - mae: 0.6885 - val_loss: 0.8621 - val_mae: 0.8618\n",
            "Epoch 9/10\n",
            "282/282 - 1s - loss: 0.6825 - mae: 0.6822 - val_loss: 0.8616 - val_mae: 0.8613\n",
            "Epoch 10/10\n",
            "282/282 - 1s - loss: 0.6771 - mae: 0.6767 - val_loss: 0.8667 - val_mae: 0.8663\n",
            "test MSE 1.1872\n",
            "test MAE 0.8210683944255114\n"
          ],
          "name": "stdout"
        }
      ]
    },
    {
      "cell_type": "markdown",
      "metadata": {
        "id": "At0zfXlahpir"
      },
      "source": [
        "### Keras"
      ]
    },
    {
      "cell_type": "markdown",
      "metadata": {
        "id": "X3S3yeYy8YsI"
      },
      "source": [
        "Neural Collaborative Filtering in Keras with age and gender information"
      ]
    },
    {
      "cell_type": "code",
      "metadata": {
        "id": "DCJNRiqS8t-1"
      },
      "source": [
        "MOVIELENS_DIR = '/content/drive/My Drive/eCommerce Project/ml-100k/'\n",
        "RATING_DATA_FILE = MOVIELENS_DIR + 'u1.base'\n",
        "USERS_DATA_FILE = MOVIELENS_DIR + 'u.user'\n",
        "MOVIES_DATA_FILE = MOVIELENS_DIR + 'u.item'\n",
        "TEST_FILE = MOVIELENS_DIR + 'u1.test'"
      ],
      "execution_count": null,
      "outputs": []
    },
    {
      "cell_type": "code",
      "metadata": {
        "id": "Ck-iEMwdADxf"
      },
      "source": [
        "ratings = pd.read_csv(RATING_DATA_FILE, \n",
        "                    sep='\\t', \n",
        "                    engine='python', \n",
        "                    encoding='latin-1',\n",
        "                    names=['user_id', 'movie_id', 'rating', 'timestamp'])\n",
        "\n",
        "user_cols = ['user_id', 'age', 'gender', 'occupation', 'zip_code']\n",
        "users_data = pd.read_csv(USERS_DATA_FILE,delimiter='|',names=user_cols, encoding='latin-1')\n",
        "\n",
        "movies_cols = ['movie_id','movie_title','release_date','video_release_date','IMDb_URL'\n",
        "          ,'unknown','Action','Adventure','Animation','Childrens','Comedy',\n",
        "          'Crime','Documentary','Drama','Fantasy','Film-Noir','Horror','Musical','Mystery','Romance','Sci-Fi',\n",
        "        'Thriller','War','Western']\n",
        "movies_data = pd.read_csv(MOVIES_DATA_FILE,delimiter='|',names=movies_cols,encoding='latin-1')\n",
        "\n",
        "test = pd.read_csv(TEST_FILE, \n",
        "                    sep='\\t', \n",
        "                    engine='python', \n",
        "                    encoding='latin-1',\n",
        "                    names=['user_id', 'movie_id', 'rating', 'timestamp'])"
      ],
      "execution_count": null,
      "outputs": []
    },
    {
      "cell_type": "code",
      "metadata": {
        "id": "B2H8BCCWBSgR",
        "outputId": "2e59f3ef-ec58-4c67-d113-af11918a74e8",
        "colab": {
          "base_uri": "https://localhost:8080/",
          "height": 202
        }
      },
      "source": [
        "ratings = ratings.merge(users_data[['user_id', 'age', 'gender']], on='user_id', how='inner')\n",
        "ratings['gender'] = ratings['gender'].replace('M', 1)\n",
        "ratings['gender'] = ratings['gender'].replace('F', 0)\n",
        "ratings.head()"
      ],
      "execution_count": null,
      "outputs": [
        {
          "output_type": "execute_result",
          "data": {
            "text/html": [
              "<div>\n",
              "<style scoped>\n",
              "    .dataframe tbody tr th:only-of-type {\n",
              "        vertical-align: middle;\n",
              "    }\n",
              "\n",
              "    .dataframe tbody tr th {\n",
              "        vertical-align: top;\n",
              "    }\n",
              "\n",
              "    .dataframe thead th {\n",
              "        text-align: right;\n",
              "    }\n",
              "</style>\n",
              "<table border=\"1\" class=\"dataframe\">\n",
              "  <thead>\n",
              "    <tr style=\"text-align: right;\">\n",
              "      <th></th>\n",
              "      <th>user_id</th>\n",
              "      <th>movie_id</th>\n",
              "      <th>rating</th>\n",
              "      <th>timestamp</th>\n",
              "      <th>age</th>\n",
              "      <th>gender</th>\n",
              "    </tr>\n",
              "  </thead>\n",
              "  <tbody>\n",
              "    <tr>\n",
              "      <th>0</th>\n",
              "      <td>1</td>\n",
              "      <td>1</td>\n",
              "      <td>5</td>\n",
              "      <td>874965758</td>\n",
              "      <td>24</td>\n",
              "      <td>1</td>\n",
              "    </tr>\n",
              "    <tr>\n",
              "      <th>1</th>\n",
              "      <td>1</td>\n",
              "      <td>2</td>\n",
              "      <td>3</td>\n",
              "      <td>876893171</td>\n",
              "      <td>24</td>\n",
              "      <td>1</td>\n",
              "    </tr>\n",
              "    <tr>\n",
              "      <th>2</th>\n",
              "      <td>1</td>\n",
              "      <td>3</td>\n",
              "      <td>4</td>\n",
              "      <td>878542960</td>\n",
              "      <td>24</td>\n",
              "      <td>1</td>\n",
              "    </tr>\n",
              "    <tr>\n",
              "      <th>3</th>\n",
              "      <td>1</td>\n",
              "      <td>4</td>\n",
              "      <td>3</td>\n",
              "      <td>876893119</td>\n",
              "      <td>24</td>\n",
              "      <td>1</td>\n",
              "    </tr>\n",
              "    <tr>\n",
              "      <th>4</th>\n",
              "      <td>1</td>\n",
              "      <td>5</td>\n",
              "      <td>3</td>\n",
              "      <td>889751712</td>\n",
              "      <td>24</td>\n",
              "      <td>1</td>\n",
              "    </tr>\n",
              "  </tbody>\n",
              "</table>\n",
              "</div>"
            ],
            "text/plain": [
              "   user_id  movie_id  rating  timestamp  age  gender\n",
              "0        1         1       5  874965758   24       1\n",
              "1        1         2       3  876893171   24       1\n",
              "2        1         3       4  878542960   24       1\n",
              "3        1         4       3  876893119   24       1\n",
              "4        1         5       3  889751712   24       1"
            ]
          },
          "metadata": {
            "tags": []
          },
          "execution_count": 20
        }
      ]
    },
    {
      "cell_type": "code",
      "metadata": {
        "id": "Cc0hFtQS8BRf"
      },
      "source": [
        "'''this function built a ncf model according to the input and prints the summery of it\n",
        "num_users- number of users\n",
        "num_items - number of items\n",
        "latent_dim - numbers of layers\n",
        "hidden_dim - size of layers\n",
        "do - dropout\n",
        "this model considers in the user's age and gender\n",
        "'''\n",
        "def get_gmf_model_gen(num_users, num_items, latent_dim,do):\n",
        "    # Input variables\n",
        "    user_input = Input(shape=(1,), dtype='int16', name = 'user_input')\n",
        "    item_input = Input(shape=(1,), dtype='int16', name = 'item_input')\n",
        "    age_input = Input(shape=(1,), dtype='float32', name = 'age_input')\n",
        "    gender_input = Input(shape=(1,), dtype='float32', name = 'gender_input')\n",
        "\n",
        "    MF_Embedding_User = Embedding(input_dim = num_users, output_dim = latent_dim, name = 'user_embedding', input_length=1)\n",
        "    MF_Embedding_Item = Embedding(input_dim = num_items, output_dim = latent_dim, name = 'item_embedding', input_length=1)   \n",
        "    \n",
        "    user_latent = Flatten()(MF_Embedding_User(user_input))\n",
        "    item_latent = Flatten()(MF_Embedding_Item(item_input))\n",
        "   \n",
        "    conc = Concatenate()([user_latent, item_latent, age_input, gender_input])\n",
        "    hidden = Dense(20, activation='relu')(conc)\n",
        "    drop = Dropout(do)(hidden)\n",
        "    prediction = Dense(1, activation='relu', kernel_initializer='lecun_uniform', name = 'prediction')(drop)\n",
        "    \n",
        "    \n",
        "    model = Model(input=[user_input, item_input, age_input, gender_input], output=prediction)\n",
        "\n",
        "    return model"
      ],
      "execution_count": null,
      "outputs": []
    },
    {
      "cell_type": "code",
      "metadata": {
        "id": "1seQ6-cZ_Zmv",
        "outputId": "f3da7729-84b8-41a6-af6b-5376948704ce",
        "colab": {
          "base_uri": "https://localhost:8080/",
          "height": 55
        }
      },
      "source": [
        "general_martix_factorization_model = get_gmf_model_gen(users_data.shape[0], movies_data.shape[0], 10, 0)\n",
        "general_martix_factorization_model.compile(loss='mae', optimizer=Adamax(),metrics=['mae'])"
      ],
      "execution_count": null,
      "outputs": [
        {
          "output_type": "stream",
          "text": [
            "/usr/local/lib/python3.6/dist-packages/ipykernel_launcher.py:25: UserWarning: Update your `Model` call to the Keras 2 API: `Model(inputs=[<tf.Tenso..., outputs=Tensor(\"pr...)`\n"
          ],
          "name": "stderr"
        }
      ]
    },
    {
      "cell_type": "code",
      "metadata": {
        "id": "jr4LhHB6Xh_n"
      },
      "source": [
        "Users = ratings['user_id'] - 1\n",
        "Movies = ratings['movie_id'] - 1"
      ],
      "execution_count": null,
      "outputs": []
    },
    {
      "cell_type": "code",
      "metadata": {
        "id": "tYg2Kq19B1gm",
        "outputId": "1b1b6e3c-6ab0-4e2a-9cdb-1c652f80ea74",
        "colab": {
          "base_uri": "https://localhost:8080/",
          "height": 1000
        }
      },
      "source": [
        "history = general_martix_factorization_model.fit([Users.values, Movies.values, ratings['age'].values, ratings['gender'].values], ratings['rating'].values, nb_epoch=100, validation_split=.1, verbose=1, batch_size = 32)"
      ],
      "execution_count": null,
      "outputs": [
        {
          "output_type": "stream",
          "text": [
            "/usr/local/lib/python3.6/dist-packages/ipykernel_launcher.py:1: UserWarning: The `nb_epoch` argument in `fit` has been renamed `epochs`.\n",
            "  \"\"\"Entry point for launching an IPython kernel.\n",
            "/usr/local/lib/python3.6/dist-packages/tensorflow/python/framework/indexed_slices.py:434: UserWarning: Converting sparse IndexedSlices to a dense Tensor of unknown shape. This may consume a large amount of memory.\n",
            "  \"Converting sparse IndexedSlices to a dense Tensor of unknown shape. \"\n"
          ],
          "name": "stderr"
        },
        {
          "output_type": "stream",
          "text": [
            "Train on 72000 samples, validate on 8000 samples\n",
            "Epoch 1/100\n",
            "72000/72000 [==============================] - 3s 37us/step - loss: 1.1162 - mae: 1.1162 - val_loss: 1.1370 - val_mae: 1.1370\n",
            "Epoch 2/100\n",
            "72000/72000 [==============================] - 3s 36us/step - loss: 0.7682 - mae: 0.7682 - val_loss: 1.1081 - val_mae: 1.1081\n",
            "Epoch 3/100\n",
            "72000/72000 [==============================] - 3s 36us/step - loss: 0.7422 - mae: 0.7422 - val_loss: 1.0923 - val_mae: 1.0923\n",
            "Epoch 4/100\n",
            "72000/72000 [==============================] - 3s 36us/step - loss: 0.7346 - mae: 0.7346 - val_loss: 1.0849 - val_mae: 1.0849\n",
            "Epoch 5/100\n",
            "72000/72000 [==============================] - 3s 36us/step - loss: 0.7305 - mae: 0.7305 - val_loss: 1.0746 - val_mae: 1.0746\n",
            "Epoch 6/100\n",
            "72000/72000 [==============================] - 3s 36us/step - loss: 0.7292 - mae: 0.7292 - val_loss: 1.0702 - val_mae: 1.0702\n",
            "Epoch 7/100\n",
            "72000/72000 [==============================] - 3s 36us/step - loss: 0.7275 - mae: 0.7275 - val_loss: 1.0662 - val_mae: 1.0662\n",
            "Epoch 8/100\n",
            "72000/72000 [==============================] - 3s 36us/step - loss: 0.7266 - mae: 0.7266 - val_loss: 1.0638 - val_mae: 1.0638\n",
            "Epoch 9/100\n",
            "72000/72000 [==============================] - 3s 36us/step - loss: 0.7252 - mae: 0.7252 - val_loss: 1.0567 - val_mae: 1.0567\n",
            "Epoch 10/100\n",
            "72000/72000 [==============================] - 3s 36us/step - loss: 0.7247 - mae: 0.7247 - val_loss: 1.0534 - val_mae: 1.0534\n",
            "Epoch 11/100\n",
            "72000/72000 [==============================] - 3s 39us/step - loss: 0.7238 - mae: 0.7238 - val_loss: 1.0450 - val_mae: 1.0450\n",
            "Epoch 12/100\n",
            "72000/72000 [==============================] - 3s 40us/step - loss: 0.7233 - mae: 0.7233 - val_loss: 1.0571 - val_mae: 1.0571\n",
            "Epoch 13/100\n",
            "72000/72000 [==============================] - 3s 40us/step - loss: 0.7233 - mae: 0.7233 - val_loss: 1.0397 - val_mae: 1.0397\n",
            "Epoch 14/100\n",
            "72000/72000 [==============================] - 3s 38us/step - loss: 0.7225 - mae: 0.7225 - val_loss: 1.0375 - val_mae: 1.0375\n",
            "Epoch 15/100\n",
            "72000/72000 [==============================] - 3s 36us/step - loss: 0.7221 - mae: 0.7221 - val_loss: 1.0288 - val_mae: 1.0288\n",
            "Epoch 16/100\n",
            "72000/72000 [==============================] - 3s 36us/step - loss: 0.7219 - mae: 0.7219 - val_loss: 1.0272 - val_mae: 1.0272\n",
            "Epoch 17/100\n",
            "72000/72000 [==============================] - 3s 36us/step - loss: 0.7213 - mae: 0.7213 - val_loss: 1.0246 - val_mae: 1.0246\n",
            "Epoch 18/100\n",
            "72000/72000 [==============================] - 3s 38us/step - loss: 0.7213 - mae: 0.7213 - val_loss: 1.0243 - val_mae: 1.0243\n",
            "Epoch 19/100\n",
            "72000/72000 [==============================] - 3s 40us/step - loss: 0.7211 - mae: 0.7211 - val_loss: 1.0276 - val_mae: 1.0276\n",
            "Epoch 20/100\n",
            "72000/72000 [==============================] - 3s 38us/step - loss: 0.7208 - mae: 0.7208 - val_loss: 1.0169 - val_mae: 1.0169\n",
            "Epoch 21/100\n",
            "72000/72000 [==============================] - 3s 36us/step - loss: 0.7202 - mae: 0.7202 - val_loss: 1.0114 - val_mae: 1.0114\n",
            "Epoch 22/100\n",
            "72000/72000 [==============================] - 3s 37us/step - loss: 0.7200 - mae: 0.7200 - val_loss: 1.0108 - val_mae: 1.0108\n",
            "Epoch 23/100\n",
            "72000/72000 [==============================] - 3s 37us/step - loss: 0.7198 - mae: 0.7199 - val_loss: 1.0044 - val_mae: 1.0044\n",
            "Epoch 24/100\n",
            "72000/72000 [==============================] - 3s 36us/step - loss: 0.7195 - mae: 0.7195 - val_loss: 1.0023 - val_mae: 1.0023\n",
            "Epoch 25/100\n",
            "72000/72000 [==============================] - 3s 36us/step - loss: 0.7194 - mae: 0.7194 - val_loss: 0.9977 - val_mae: 0.9977\n",
            "Epoch 26/100\n",
            "72000/72000 [==============================] - 3s 36us/step - loss: 0.7193 - mae: 0.7193 - val_loss: 0.9954 - val_mae: 0.9954\n",
            "Epoch 27/100\n",
            "72000/72000 [==============================] - 3s 36us/step - loss: 0.7189 - mae: 0.7189 - val_loss: 0.9938 - val_mae: 0.9938\n",
            "Epoch 28/100\n",
            "72000/72000 [==============================] - 3s 36us/step - loss: 0.7185 - mae: 0.7185 - val_loss: 0.9889 - val_mae: 0.9889\n",
            "Epoch 29/100\n",
            "72000/72000 [==============================] - 3s 36us/step - loss: 0.7184 - mae: 0.7184 - val_loss: 0.9865 - val_mae: 0.9865\n",
            "Epoch 30/100\n",
            "72000/72000 [==============================] - 3s 36us/step - loss: 0.7185 - mae: 0.7185 - val_loss: 0.9863 - val_mae: 0.9863\n",
            "Epoch 31/100\n",
            "72000/72000 [==============================] - 3s 36us/step - loss: 0.7182 - mae: 0.7182 - val_loss: 0.9847 - val_mae: 0.9847\n",
            "Epoch 32/100\n",
            "72000/72000 [==============================] - 3s 36us/step - loss: 0.7181 - mae: 0.7181 - val_loss: 0.9810 - val_mae: 0.9810\n",
            "Epoch 33/100\n",
            "72000/72000 [==============================] - 3s 36us/step - loss: 0.7179 - mae: 0.7179 - val_loss: 0.9784 - val_mae: 0.9784\n",
            "Epoch 34/100\n",
            "72000/72000 [==============================] - 3s 36us/step - loss: 0.7175 - mae: 0.7175 - val_loss: 0.9735 - val_mae: 0.9735\n",
            "Epoch 35/100\n",
            "72000/72000 [==============================] - 3s 36us/step - loss: 0.7172 - mae: 0.7172 - val_loss: 0.9814 - val_mae: 0.9814\n",
            "Epoch 36/100\n",
            "72000/72000 [==============================] - 3s 36us/step - loss: 0.7174 - mae: 0.7174 - val_loss: 0.9775 - val_mae: 0.9775\n",
            "Epoch 37/100\n",
            "72000/72000 [==============================] - 3s 36us/step - loss: 0.7170 - mae: 0.7170 - val_loss: 0.9723 - val_mae: 0.9723\n",
            "Epoch 38/100\n",
            "72000/72000 [==============================] - 3s 36us/step - loss: 0.7170 - mae: 0.7170 - val_loss: 0.9667 - val_mae: 0.9667\n",
            "Epoch 39/100\n",
            "72000/72000 [==============================] - 3s 36us/step - loss: 0.7165 - mae: 0.7165 - val_loss: 0.9693 - val_mae: 0.9693\n",
            "Epoch 40/100\n",
            "72000/72000 [==============================] - 3s 36us/step - loss: 0.7163 - mae: 0.7163 - val_loss: 0.9616 - val_mae: 0.9616\n",
            "Epoch 41/100\n",
            "72000/72000 [==============================] - 3s 36us/step - loss: 0.7167 - mae: 0.7167 - val_loss: 0.9614 - val_mae: 0.9614\n",
            "Epoch 42/100\n",
            "72000/72000 [==============================] - 3s 36us/step - loss: 0.7161 - mae: 0.7161 - val_loss: 0.9596 - val_mae: 0.9596\n",
            "Epoch 43/100\n",
            "72000/72000 [==============================] - 3s 36us/step - loss: 0.7161 - mae: 0.7161 - val_loss: 0.9631 - val_mae: 0.9631\n",
            "Epoch 44/100\n",
            "72000/72000 [==============================] - 3s 36us/step - loss: 0.7161 - mae: 0.7161 - val_loss: 0.9527 - val_mae: 0.9527\n",
            "Epoch 45/100\n",
            "72000/72000 [==============================] - 3s 36us/step - loss: 0.7158 - mae: 0.7158 - val_loss: 0.9501 - val_mae: 0.9501\n",
            "Epoch 46/100\n",
            "72000/72000 [==============================] - 3s 37us/step - loss: 0.7161 - mae: 0.7161 - val_loss: 0.9514 - val_mae: 0.9514\n",
            "Epoch 47/100\n",
            "72000/72000 [==============================] - 3s 37us/step - loss: 0.7155 - mae: 0.7155 - val_loss: 0.9541 - val_mae: 0.9541\n",
            "Epoch 48/100\n",
            "72000/72000 [==============================] - 3s 37us/step - loss: 0.7155 - mae: 0.7155 - val_loss: 0.9470 - val_mae: 0.9470\n",
            "Epoch 49/100\n",
            "72000/72000 [==============================] - 3s 36us/step - loss: 0.7157 - mae: 0.7157 - val_loss: 0.9601 - val_mae: 0.9601\n",
            "Epoch 50/100\n",
            "72000/72000 [==============================] - 3s 36us/step - loss: 0.7152 - mae: 0.7152 - val_loss: 0.9557 - val_mae: 0.9557\n",
            "Epoch 51/100\n",
            "72000/72000 [==============================] - 3s 36us/step - loss: 0.7154 - mae: 0.7154 - val_loss: 0.9434 - val_mae: 0.9434\n",
            "Epoch 52/100\n",
            "72000/72000 [==============================] - 3s 36us/step - loss: 0.7155 - mae: 0.7155 - val_loss: 0.9469 - val_mae: 0.9469\n",
            "Epoch 53/100\n",
            "72000/72000 [==============================] - 3s 36us/step - loss: 0.7150 - mae: 0.7150 - val_loss: 0.9429 - val_mae: 0.9429\n",
            "Epoch 54/100\n",
            "72000/72000 [==============================] - 3s 36us/step - loss: 0.7149 - mae: 0.7149 - val_loss: 0.9437 - val_mae: 0.9437\n",
            "Epoch 55/100\n",
            "72000/72000 [==============================] - 3s 37us/step - loss: 0.7148 - mae: 0.7148 - val_loss: 0.9436 - val_mae: 0.9436\n",
            "Epoch 56/100\n",
            "72000/72000 [==============================] - 3s 36us/step - loss: 0.7146 - mae: 0.7146 - val_loss: 0.9357 - val_mae: 0.9357\n",
            "Epoch 57/100\n",
            "72000/72000 [==============================] - 3s 36us/step - loss: 0.7147 - mae: 0.7147 - val_loss: 0.9383 - val_mae: 0.9383\n",
            "Epoch 58/100\n",
            "72000/72000 [==============================] - 3s 36us/step - loss: 0.7146 - mae: 0.7146 - val_loss: 0.9350 - val_mae: 0.9350\n",
            "Epoch 59/100\n",
            "72000/72000 [==============================] - 3s 36us/step - loss: 0.7144 - mae: 0.7144 - val_loss: 0.9321 - val_mae: 0.9321\n",
            "Epoch 60/100\n",
            "72000/72000 [==============================] - 3s 36us/step - loss: 0.7141 - mae: 0.7141 - val_loss: 0.9369 - val_mae: 0.9369\n",
            "Epoch 61/100\n",
            "72000/72000 [==============================] - 3s 36us/step - loss: 0.7146 - mae: 0.7146 - val_loss: 0.9277 - val_mae: 0.9277\n",
            "Epoch 62/100\n",
            "72000/72000 [==============================] - 3s 36us/step - loss: 0.7141 - mae: 0.7141 - val_loss: 0.9282 - val_mae: 0.9282\n",
            "Epoch 63/100\n",
            "72000/72000 [==============================] - 3s 36us/step - loss: 0.7143 - mae: 0.7143 - val_loss: 0.9258 - val_mae: 0.9258\n",
            "Epoch 64/100\n",
            "72000/72000 [==============================] - 3s 36us/step - loss: 0.7140 - mae: 0.7140 - val_loss: 0.9317 - val_mae: 0.9317\n",
            "Epoch 65/100\n",
            "72000/72000 [==============================] - 3s 36us/step - loss: 0.7139 - mae: 0.7139 - val_loss: 0.9249 - val_mae: 0.9249\n",
            "Epoch 66/100\n",
            "72000/72000 [==============================] - 3s 36us/step - loss: 0.7141 - mae: 0.7141 - val_loss: 0.9235 - val_mae: 0.9235\n",
            "Epoch 67/100\n",
            "72000/72000 [==============================] - 3s 36us/step - loss: 0.7138 - mae: 0.7138 - val_loss: 0.9271 - val_mae: 0.9271\n",
            "Epoch 68/100\n",
            "72000/72000 [==============================] - 3s 36us/step - loss: 0.7138 - mae: 0.7138 - val_loss: 0.9257 - val_mae: 0.9257\n",
            "Epoch 69/100\n",
            "72000/72000 [==============================] - 3s 36us/step - loss: 0.7136 - mae: 0.7136 - val_loss: 0.9197 - val_mae: 0.9197\n",
            "Epoch 70/100\n",
            "72000/72000 [==============================] - 3s 36us/step - loss: 0.7136 - mae: 0.7136 - val_loss: 0.9221 - val_mae: 0.9221\n",
            "Epoch 71/100\n",
            "72000/72000 [==============================] - 3s 36us/step - loss: 0.7132 - mae: 0.7132 - val_loss: 0.9222 - val_mae: 0.9222\n",
            "Epoch 72/100\n",
            "72000/72000 [==============================] - 3s 36us/step - loss: 0.7135 - mae: 0.7135 - val_loss: 0.9173 - val_mae: 0.9173\n",
            "Epoch 73/100\n",
            "72000/72000 [==============================] - 3s 36us/step - loss: 0.7134 - mae: 0.7134 - val_loss: 0.9167 - val_mae: 0.9167\n",
            "Epoch 74/100\n",
            "72000/72000 [==============================] - 3s 36us/step - loss: 0.7131 - mae: 0.7131 - val_loss: 0.9138 - val_mae: 0.9138\n",
            "Epoch 75/100\n",
            "72000/72000 [==============================] - 3s 36us/step - loss: 0.7134 - mae: 0.7134 - val_loss: 0.9185 - val_mae: 0.9185\n",
            "Epoch 76/100\n",
            "72000/72000 [==============================] - 3s 37us/step - loss: 0.7133 - mae: 0.7133 - val_loss: 0.9127 - val_mae: 0.9127\n",
            "Epoch 77/100\n",
            "72000/72000 [==============================] - 3s 36us/step - loss: 0.7131 - mae: 0.7131 - val_loss: 0.9115 - val_mae: 0.9115\n",
            "Epoch 78/100\n",
            "72000/72000 [==============================] - 3s 36us/step - loss: 0.7132 - mae: 0.7132 - val_loss: 0.9101 - val_mae: 0.9101\n",
            "Epoch 79/100\n",
            "72000/72000 [==============================] - 3s 36us/step - loss: 0.7131 - mae: 0.7131 - val_loss: 0.9127 - val_mae: 0.9127\n",
            "Epoch 80/100\n",
            "72000/72000 [==============================] - 3s 37us/step - loss: 0.7131 - mae: 0.7131 - val_loss: 0.9075 - val_mae: 0.9075\n",
            "Epoch 81/100\n",
            "72000/72000 [==============================] - 3s 36us/step - loss: 0.7130 - mae: 0.7130 - val_loss: 0.9087 - val_mae: 0.9087\n",
            "Epoch 82/100\n",
            "72000/72000 [==============================] - 3s 36us/step - loss: 0.7129 - mae: 0.7129 - val_loss: 0.9072 - val_mae: 0.9072\n",
            "Epoch 83/100\n",
            "72000/72000 [==============================] - 3s 36us/step - loss: 0.7125 - mae: 0.7125 - val_loss: 0.9061 - val_mae: 0.9061\n",
            "Epoch 84/100\n",
            "72000/72000 [==============================] - 3s 37us/step - loss: 0.7129 - mae: 0.7129 - val_loss: 0.9109 - val_mae: 0.9109\n",
            "Epoch 85/100\n",
            "72000/72000 [==============================] - 3s 36us/step - loss: 0.7127 - mae: 0.7127 - val_loss: 0.9054 - val_mae: 0.9054\n",
            "Epoch 86/100\n",
            "72000/72000 [==============================] - 3s 36us/step - loss: 0.7124 - mae: 0.7124 - val_loss: 0.9061 - val_mae: 0.9061\n",
            "Epoch 87/100\n",
            "72000/72000 [==============================] - 3s 36us/step - loss: 0.7126 - mae: 0.7126 - val_loss: 0.9053 - val_mae: 0.9053\n",
            "Epoch 88/100\n",
            "72000/72000 [==============================] - 3s 36us/step - loss: 0.7125 - mae: 0.7125 - val_loss: 0.9086 - val_mae: 0.9086\n",
            "Epoch 89/100\n",
            "72000/72000 [==============================] - 3s 36us/step - loss: 0.7127 - mae: 0.7127 - val_loss: 0.9020 - val_mae: 0.9020\n",
            "Epoch 90/100\n",
            "72000/72000 [==============================] - 3s 36us/step - loss: 0.7122 - mae: 0.7122 - val_loss: 0.9007 - val_mae: 0.9007\n",
            "Epoch 91/100\n",
            "72000/72000 [==============================] - 3s 36us/step - loss: 0.7126 - mae: 0.7126 - val_loss: 0.9011 - val_mae: 0.9011\n",
            "Epoch 92/100\n",
            "72000/72000 [==============================] - 3s 37us/step - loss: 0.7124 - mae: 0.7124 - val_loss: 0.9019 - val_mae: 0.9019\n",
            "Epoch 93/100\n",
            "72000/72000 [==============================] - 3s 36us/step - loss: 0.7123 - mae: 0.7123 - val_loss: 0.8990 - val_mae: 0.8990\n",
            "Epoch 94/100\n",
            "72000/72000 [==============================] - 3s 36us/step - loss: 0.7124 - mae: 0.7124 - val_loss: 0.8965 - val_mae: 0.8965\n",
            "Epoch 95/100\n",
            "72000/72000 [==============================] - 3s 36us/step - loss: 0.7122 - mae: 0.7122 - val_loss: 0.9002 - val_mae: 0.9002\n",
            "Epoch 96/100\n",
            "72000/72000 [==============================] - 3s 37us/step - loss: 0.7122 - mae: 0.7122 - val_loss: 0.8983 - val_mae: 0.8983\n",
            "Epoch 97/100\n",
            "72000/72000 [==============================] - 3s 36us/step - loss: 0.7120 - mae: 0.7120 - val_loss: 0.8970 - val_mae: 0.8970\n",
            "Epoch 98/100\n",
            "72000/72000 [==============================] - 3s 36us/step - loss: 0.7120 - mae: 0.7120 - val_loss: 0.8970 - val_mae: 0.8970\n",
            "Epoch 99/100\n",
            "72000/72000 [==============================] - 3s 36us/step - loss: 0.7121 - mae: 0.7121 - val_loss: 0.8993 - val_mae: 0.8993\n",
            "Epoch 100/100\n",
            "72000/72000 [==============================] - 3s 37us/step - loss: 0.7119 - mae: 0.7119 - val_loss: 0.8930 - val_mae: 0.8930\n"
          ],
          "name": "stdout"
        }
      ]
    },
    {
      "cell_type": "code",
      "metadata": {
        "id": "4mNsGlLaDzVV"
      },
      "source": [
        "from sklearn.metrics import mean_absolute_error"
      ],
      "execution_count": null,
      "outputs": []
    },
    {
      "cell_type": "code",
      "metadata": {
        "id": "QlxYe91TD5A_"
      },
      "source": [
        "test = test.merge(users_data[['user_id', 'gender', 'age']], on='user_id', how='inner')\n",
        "test['gender'] = test['gender'].replace('M', 1)\n",
        "test['gender'] = test['gender'].replace('F', 0)"
      ],
      "execution_count": null,
      "outputs": []
    },
    {
      "cell_type": "code",
      "metadata": {
        "id": "OHhCrYYrWLTB",
        "outputId": "72384e08-1489-4c3f-aa18-c986ce51e461",
        "colab": {
          "base_uri": "https://localhost:8080/",
          "height": 35
        }
      },
      "source": [
        "mean_absolute_error(test['rating'], general_martix_factorization_model.predict([test['user_id'] - 1,test['movie_id'] - 1, test['age'], test['gender']]))"
      ],
      "execution_count": null,
      "outputs": [
        {
          "output_type": "execute_result",
          "data": {
            "text/plain": [
              "0.7490211612582207"
            ]
          },
          "metadata": {
            "tags": []
          },
          "execution_count": 29
        }
      ]
    },
    {
      "cell_type": "code",
      "metadata": {
        "id": "F9kqG1u3Oud6",
        "outputId": "d96841d0-3c8e-426f-dcd0-14cccea0572b",
        "colab": {
          "base_uri": "https://localhost:8080/",
          "height": 202
        }
      },
      "source": [
        "test.head()"
      ],
      "execution_count": null,
      "outputs": [
        {
          "output_type": "execute_result",
          "data": {
            "text/html": [
              "<div>\n",
              "<style scoped>\n",
              "    .dataframe tbody tr th:only-of-type {\n",
              "        vertical-align: middle;\n",
              "    }\n",
              "\n",
              "    .dataframe tbody tr th {\n",
              "        vertical-align: top;\n",
              "    }\n",
              "\n",
              "    .dataframe thead th {\n",
              "        text-align: right;\n",
              "    }\n",
              "</style>\n",
              "<table border=\"1\" class=\"dataframe\">\n",
              "  <thead>\n",
              "    <tr style=\"text-align: right;\">\n",
              "      <th></th>\n",
              "      <th>user_id</th>\n",
              "      <th>movie_id</th>\n",
              "      <th>rating</th>\n",
              "      <th>timestamp</th>\n",
              "      <th>gender</th>\n",
              "    </tr>\n",
              "  </thead>\n",
              "  <tbody>\n",
              "    <tr>\n",
              "      <th>0</th>\n",
              "      <td>1</td>\n",
              "      <td>6</td>\n",
              "      <td>5</td>\n",
              "      <td>887431973</td>\n",
              "      <td>1</td>\n",
              "    </tr>\n",
              "    <tr>\n",
              "      <th>1</th>\n",
              "      <td>1</td>\n",
              "      <td>10</td>\n",
              "      <td>3</td>\n",
              "      <td>875693118</td>\n",
              "      <td>1</td>\n",
              "    </tr>\n",
              "    <tr>\n",
              "      <th>2</th>\n",
              "      <td>1</td>\n",
              "      <td>12</td>\n",
              "      <td>5</td>\n",
              "      <td>878542960</td>\n",
              "      <td>1</td>\n",
              "    </tr>\n",
              "    <tr>\n",
              "      <th>3</th>\n",
              "      <td>1</td>\n",
              "      <td>14</td>\n",
              "      <td>5</td>\n",
              "      <td>874965706</td>\n",
              "      <td>1</td>\n",
              "    </tr>\n",
              "    <tr>\n",
              "      <th>4</th>\n",
              "      <td>1</td>\n",
              "      <td>17</td>\n",
              "      <td>3</td>\n",
              "      <td>875073198</td>\n",
              "      <td>1</td>\n",
              "    </tr>\n",
              "  </tbody>\n",
              "</table>\n",
              "</div>"
            ],
            "text/plain": [
              "   user_id  movie_id  rating  timestamp  gender\n",
              "0        1         6       5  887431973       1\n",
              "1        1        10       3  875693118       1\n",
              "2        1        12       5  878542960       1\n",
              "3        1        14       5  874965706       1\n",
              "4        1        17       3  875073198       1"
            ]
          },
          "metadata": {
            "tags": []
          },
          "execution_count": 54
        }
      ]
    }
  ]
}
